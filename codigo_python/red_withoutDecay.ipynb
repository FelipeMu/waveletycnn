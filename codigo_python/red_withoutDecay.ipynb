{
 "cells": [
  {
   "cell_type": "markdown",
   "metadata": {},
   "source": [
    "**Librerias para trabajar con la red neuronal y procesamiento de datos**"
   ]
  },
  {
   "cell_type": "code",
   "execution_count": 1,
   "metadata": {},
   "outputs": [],
   "source": [
    "import os\n",
    "import numpy as np # type: ignore\n",
    "from scipy.io import loadmat # type: ignore\n",
    "import tensorflow as tf # Para red neuronal profunda\n",
    "import numpy as np\n",
    "import matplotlib.pyplot as plt\n",
    "import time # Para tomar el tiempo de entrenamiento de la red\n",
    "import math"
   ]
  },
  {
   "cell_type": "code",
   "execution_count": 2,
   "metadata": {},
   "outputs": [],
   "source": [
    "os.environ['TF_ENABLE_ONEDNN_OPTS'] = '0'"
   ]
  },
  {
   "cell_type": "markdown",
   "metadata": {},
   "source": [
    "##################################################################################<br>\n",
    "##################### Convertir matrices de .mat a .npy ##########################<br>\n",
    "##################################################################################"
   ]
  },
  {
   "cell_type": "markdown",
   "metadata": {
    "editable": true,
    "slideshow": {
     "slide_type": ""
    },
    "tags": []
   },
   "source": [
    "Directorios de entrada y salida"
   ]
  },
  {
   "cell_type": "code",
   "execution_count": 3,
   "metadata": {},
   "outputs": [],
   "source": [
    "input_pam_dir = 'D:/TT/Memoria/waveletycnn/codigo_matlab/codigo_fuente/matrices_complejas_pam_mat' # matrices en formato .mat\n",
    "input_vsc_dir = 'D:/TT/Memoria/waveletycnn/codigo_matlab/codigo_fuente/matrices_complejas_vsc_mat' # matrices en formato .mat\n",
    "output_pam_dir = 'D:/TT/Memoria/waveletycnn/codigo_python/matrices_complejas_pam_python' # INPUT PARA LA RED\n",
    "output_vsc_dir = 'D:/TT/Memoria/waveletycnn/codigo_python/matrices_complejas_vsc_python' # OUTPUT O SALIDAS ESPERADAS PARA LA RED"
   ]
  },
  {
   "cell_type": "markdown",
   "metadata": {},
   "source": [
    "Crear los directorios de salida si no existen"
   ]
  },
  {
   "cell_type": "code",
   "execution_count": 4,
   "metadata": {},
   "outputs": [],
   "source": [
    "os.makedirs(output_pam_dir, exist_ok=True)\n",
    "os.makedirs(output_vsc_dir, exist_ok=True)"
   ]
  },
  {
   "cell_type": "markdown",
   "metadata": {},
   "source": [
    "Funcion para convertir archivos .mat a .npy"
   ]
  },
  {
   "cell_type": "code",
   "execution_count": 5,
   "metadata": {},
   "outputs": [
    {
     "name": "stdout",
     "output_type": "stream",
     "text": [
      "Total de archivos a analizar ->  50\n"
     ]
    }
   ],
   "source": [
    "total_files=sum(1 for filename in os.listdir(input_pam_dir) if filename.endswith('.mat')) + 1\n",
    "print(\"Total de archivos a analizar -> \",total_files-1)"
   ]
  },
  {
   "cell_type": "code",
   "execution_count": 6,
   "metadata": {},
   "outputs": [],
   "source": [
    "def convert_mat_to_npy(input_dir, output_dir, prefix):\n",
    "    for i in range(1, total_files):\n",
    "        mat_file = os.path.join(input_dir, f'{prefix}_noise_{i}.mat')\n",
    "        npy_file = os.path.join(output_dir, f'{prefix}_noise_{i}.npy')\n",
    "        \n",
    "        # Cargar el archivo .mat\n",
    "        mat_data = loadmat(mat_file)\n",
    "        \n",
    "        # Extraer la matriz compleja\n",
    "        matrix_key = [key for key in mat_data.keys() if not key.startswith('__')][0]\n",
    "        matrix = mat_data[matrix_key]\n",
    "        \n",
    "        # Guardar la matriz en formato .npy\n",
    "        np.save(npy_file, matrix)"
   ]
  },
  {
   "cell_type": "markdown",
   "metadata": {},
   "source": [
    "Convertir archivos .mat a .npy para PAM y VSC"
   ]
  },
  {
   "cell_type": "code",
   "execution_count": 7,
   "metadata": {},
   "outputs": [],
   "source": [
    "convert_mat_to_npy(input_pam_dir, output_pam_dir, 'matrix_complex_pam')\n",
    "convert_mat_to_npy(input_vsc_dir, output_vsc_dir, 'matrix_complex_vsc')"
   ]
  },
  {
   "cell_type": "markdown",
   "metadata": {},
   "source": [
    "Conversion a tensor tridimensional "
   ]
  },
  {
   "cell_type": "markdown",
   "metadata": {},
   "source": [
    "Directorios de entrada y salida"
   ]
  },
  {
   "cell_type": "code",
   "execution_count": 8,
   "metadata": {},
   "outputs": [],
   "source": [
    "input_pam_dir = 'D:/TT/Memoria/waveletycnn/codigo_python/matrices_complejas_pam_python'\n",
    "input_vsc_dir = 'D:/TT/Memoria/waveletycnn/codigo_python/matrices_complejas_vsc_python'\n",
    "output_pam_dir = 'D:/TT/Memoria/waveletycnn/codigo_python/matrices_complejas_pam_procesadas'\n",
    "output_vsc_dir = 'D:/TT/Memoria/waveletycnn/codigo_python/matrices_complejas_vsc_procesadas'"
   ]
  },
  {
   "cell_type": "markdown",
   "metadata": {},
   "source": [
    "Crear directorios de salida si no existen"
   ]
  },
  {
   "cell_type": "code",
   "execution_count": 9,
   "metadata": {},
   "outputs": [],
   "source": [
    "os.makedirs(output_pam_dir, exist_ok=True)\n",
    "os.makedirs(output_vsc_dir, exist_ok=True)"
   ]
  },
  {
   "cell_type": "markdown",
   "metadata": {},
   "source": [
    "####################################################\n",
    "PREPROCESAMIENTO ANTES DE NORMALIZACIÓN DE MATRICES\n",
    "####################################################"
   ]
  },
  {
   "cell_type": "markdown",
   "metadata": {},
   "source": [
    "**CÁLCULO DE LA MEDIA - PAM & VSC (la media se calcula teniendo en cuenta todas las matrices)**"
   ]
  },
  {
   "cell_type": "code",
   "execution_count": null,
   "metadata": {},
   "outputs": [],
   "source": [
    "# Acumuladores para calcular la media de cada matriz (real e imaginaria) y la desviacion estandar\n",
    "\n",
    "#==========================\n",
    "#=== PAM SIGNAl ===========\n",
    "#==========================\n",
    "#===\n",
    "# Para media\n",
    "#===\n",
    "sumatoria_real_pam = 0\n",
    "media_real_pam = 0\n",
    "\n",
    "sumatoria_imag_pam = 0\n",
    "media_imag_pam = 0\n",
    "#===\n",
    "# Para la desviacion estandar\n",
    "#===\n",
    "sumatoria_real_cuadrada_pam = 0\n",
    "sumatoria_imag_cuadrada_pam = 0\n",
    "\n",
    "desv_real_pam = 0\n",
    "desv_imag_pam = 0\n",
    "\n",
    "\n",
    "#==========================\n",
    "#=== VSC SIGNAl ===========\n",
    "#==========================\n",
    "#===\n",
    "# Para media\n",
    "#===\n",
    "sumatoria_real_vsc = 0\n",
    "media_real_vsc = 0\n",
    "\n",
    "sumatoria_imag_vsc = 0\n",
    "media_imag_vsc = 0\n",
    "#===\n",
    "# Para la desviacion estandar\n",
    "#===\n",
    "sumatoria_real_cuadrada_vsc = 0\n",
    "sumatoria_imag_cuadrada_vsc = 0\n",
    "\n",
    "desv_real_vsc = 0\n",
    "desv_imag_vsc = 0\n",
    "\n",
    "\n"
   ]
  },
  {
   "cell_type": "markdown",
   "metadata": {},
   "source": [
    "**FUNCIONES PARA EL CÁLCULO DE LA MEDIA Y DESVIACIÓN ESTÁNDAR PARA LAS SEÑALES [[  PAM  ]]**"
   ]
  },
  {
   "cell_type": "code",
   "execution_count": null,
   "metadata": {},
   "outputs": [],
   "source": [
    "#Entrada: matriz(array bidimensiional nxm), sumatoria_real_pam(int)\n",
    "#Salida: -\n",
    "#Descripcion: funcion que suma todos los elementos de una matriz (parte real de una matriz compleja PAM)\n",
    "def sumatoria_acumulada_real_pam(matriz):\n",
    "    global sumatoria_real_pam\n",
    "    sumatoria_real_pam = sumatoria_real_pam + np.sum(matriz)\n",
    "    #print(sumatoria_real_pam)\n",
    "\n",
    "#Entrada: matriz(array bidimensiional nxm), sumatoria_real_cuadrada_pam(int)\n",
    "#Salida: -\n",
    "#Descripcion: funcion que tiene como objetivo calcular el (x - u)^2 para su posterior uso en el calculo de la desviacion estandar. \n",
    "#             Con \"x\" cada elementos de la matriz y \"u\" la media de todas las matrices PAM.\n",
    "def sumatoria_acumulada_real_cuadrada_pam(matriz):\n",
    "    global sumatoria_real_cuadrada_pam, media_real_pam\n",
    "    for fila in matriz:\n",
    "        for elemento in fila:\n",
    "            sumatoria_real_cuadrada_pam = sumatoria_real_cuadrada_pam + (elemento - media_real_pam)**2\n",
    "\n",
    "\n",
    "#=====================================================================================================================================================\n",
    "#=====================================================================================================================================================\n",
    "\n",
    "\n",
    "#Entrada: matriz(array bidimensiional nxm), sumatoria_imag_pam(int)\n",
    "#Salida: -\n",
    "#Descripcion: funcion que suma todos los elementos de una matriz (parte imaginaria de una matriz compleja PAM)\n",
    "def sumatoria_acumulada_imag_pam(matriz):\n",
    "    global sumatoria_imag_pam\n",
    "    sumatoria_imag_pam = sumatoria_imag_pam + np.sum(matriz)\n",
    "\n",
    "#Entrada: matriz(array bidimensiional nxm), sumatoria_imag_cuadrada_pam(int)\n",
    "#Salida: -\n",
    "#Descripcion: funcion que tiene como objetivo calcular el (x - u)^2 para su posterior uso en el calculo de la desviacion estandar. \n",
    "#             Con \"x\" cada elementos de la matriz y \"u\" la media de todas las matrices PAM.\n",
    "def sumatoria_acumulada_imag_cuadrada_pam(matriz):\n",
    "    global sumatoria_imag_cuadrada_pam, media_imag_pam\n",
    "    for fila in matriz:\n",
    "        for elemento in fila:\n",
    "            sumatoria_imag_cuadrada_pam = sumatoria_imag_cuadrada_pam + (elemento - media_imag_pam)**2\n",
    "\n",
    "\n"
   ]
  },
  {
   "cell_type": "markdown",
   "metadata": {},
   "source": [
    "**FUNCIONES PARA EL CÁLCULO DE LA MEDIA Y DESVIACIÓN ESTÁNDAR PARA LAS SEÑALES [[  VSC  ]]**"
   ]
  },
  {
   "cell_type": "code",
   "execution_count": null,
   "metadata": {},
   "outputs": [],
   "source": [
    "#Entrada: matriz(array bidimensiional nxm), sumatoria_real_vsc(int)\n",
    "#Salida: -\n",
    "#Descripcion: funcion que suma todos los elementos de una matriz (parte real de una matriz compleja VSC)\n",
    "def sumatoria_acumulada_real_vsc(matriz):\n",
    "    global sumatoria_real_vsc\n",
    "    sumatoria_real_vsc = sumatoria_real_vsc + np.sum(matriz)\n",
    "\n",
    "\n",
    "#Entrada: matriz(array bidimensiional nxm), sumatoria_real_cuadrada_vsc(int)\n",
    "#Salida: -\n",
    "#Descripcion: funcion que tiene como objetivo calcular el (x - u)^2 para su posterior uso en el calculo de la desviacion estandar. \n",
    "#             Con \"x\" cada elementos de la matriz y \"u\" la media de todas las matrices VSC.\n",
    "def sumatoria_acumulada_real_cuadrada_vsc(matriz):\n",
    "    global sumatoria_real_cuadrada_vsc, media_real_vsc\n",
    "    for fila in matriz:\n",
    "        for elemento in fila:\n",
    "            sumatoria_real_cuadrada_vsc = sumatoria_real_cuadrada_vsc + (elemento - media_real_vsc)**2\n",
    "\n",
    "\n",
    "#=====================================================================================================================================================\n",
    "#=====================================================================================================================================================\n",
    "\n",
    "\n",
    "#Entrada: matriz(array bidimensiional nxm), sumatoria_imag_vsc(int)\n",
    "#Salida: -\n",
    "#Descripcion: funcion que suma todos los elementos de una matriz (parte imaginaria de una matriz compleja VSC)\n",
    "def sumatoria_acumulada_imag_vsc(matriz):\n",
    "    global sumatoria_imag_vsc\n",
    "    sumatoria_imag_vsc = sumatoria_imag_vsc + np.sum(matriz)\n",
    "\n",
    "\n",
    "#Entrada: matriz(array bidimensiional nxm), sumatoria_imag_cuadrada_vsc(int)\n",
    "#Salida: -\n",
    "#Descripcion: funcion que tiene como objetivo calcular el (x - u)^2 para su posterior uso en el calculo de la desviacion estandar. \n",
    "#             Con \"x\" cada elementos de la matriz y \"u\" la media de todas las matrices VSC.\n",
    "def sumatoria_acumulada_imag_cuadrada_vsc(matriz):\n",
    "    global sumatoria_imag_cuadrada_vsc, media_imag_vsc\n",
    "    for fila in matriz:\n",
    "        for elemento in fila:\n",
    "            sumatoria_imag_cuadrada_vsc = sumatoria_imag_cuadrada_vsc + (elemento - media_imag_vsc)**2\n",
    "\n",
    "\n"
   ]
  },
  {
   "cell_type": "markdown",
   "metadata": {},
   "source": [
    "**RECORRER MATRICES & CÁLCULO DE LA MEDIA  MATRIZ PAM (Presion Arterial Media)**"
   ]
  },
  {
   "cell_type": "code",
   "execution_count": null,
   "metadata": {},
   "outputs": [],
   "source": [
    "for filename in os.listdir(input_pam_dir):\n",
    "    if filename.endswith('.npy'):\n",
    "        # Se obtiene el archivo .npy en el directorio \"input_pam_dir\"\n",
    "        input_path = os.path.join(input_pam_dir, filename)\n",
    "        # Cargar la matriz compleja\n",
    "        matriz_compleja = np.load(input_path)\n",
    "        \n",
    "        #========\n",
    "        # Normalizacion de los matrices\n",
    "        #========\n",
    "        # Sumar todos los datos de las matrices\n",
    "        sumatoria_acumulada_real_pam(matriz_compleja.real) # para matriz real\n",
    "        sumatoria_acumulada_imag_pam(matriz_compleja.imag) # para matriz imaginaria\n",
    "\n",
    "\n",
    "\n",
    "# Se calcula la media real de matrices correspondientes a pam signals: Se suman cada unos de los coeficientes de cada matriz real pam (archivos x filas x columnas)\n",
    "num_files_input_pam_dir = sum(1 for filename in os.listdir(input_pam_dir) if filename.endswith('.npy'))\n",
    "filas_matriz, columnas_matriz = matriz_compleja.shape\n",
    "coefs_totales =  num_files_input_pam_dir * filas_matriz * columnas_matriz # N\n",
    "media_real_pam = sumatoria_real_pam / coefs_totales # MEDIA REAL\n",
    "media_imag_pam = sumatoria_imag_pam / coefs_totales # MEDIA IMAGINARIA\n",
    "\n"
   ]
  },
  {
   "cell_type": "markdown",
   "metadata": {},
   "source": [
    "**RECORRER MATRICES Y CÁLCULO DE LA DESVIACIÓN ESTÁNDAR || MATRIZ PAM (Presion Arterial Media)**"
   ]
  },
  {
   "cell_type": "code",
   "execution_count": null,
   "metadata": {},
   "outputs": [],
   "source": [
    "for filename in os.listdir(input_pam_dir):\n",
    "    if filename.endswith('.npy'):\n",
    "        # Se obtiene el archivo .npy en el directorio \"input_pam_dir\"\n",
    "        input_path = os.path.join(input_pam_dir, filename)\n",
    "        # Cargar la matriz compleja\n",
    "        matriz_compleja = np.load(input_path)\n",
    "\n",
    "        # Calculo de sumatoria(x - u)^2 - matriz real\n",
    "        sumatoria_acumulada_real_cuadrada_pam(matriz_compleja.real)\n",
    "        # Calculo de sumatoria(x - u)^2 - matriz imaginaria\n",
    "        sumatoria_acumulada_imag_cuadrada_pam(matriz_compleja.imag)\n",
    "\n",
    "# Se calcula de desviacion estandar de las matrices reales e imaginarias\n",
    "desv_real_pam = np.square(sumatoria_real_cuadrada_pam/coefs_totales)\n",
    "desv_imag_pam = np.square(sumatoria_imag_cuadrada_pam/coefs_totales)"
   ]
  },
  {
   "cell_type": "markdown",
   "metadata": {},
   "source": [
    "#==============================================================================================================================\n",
    "#==============================================================================================================================\n",
    "#=============================================================================================================================="
   ]
  },
  {
   "cell_type": "markdown",
   "metadata": {},
   "source": [
    "**RECORRER MATRICES & CÁLCULO DE LA MEDIA MATRIZ VSC (Velocidad Sanguínea Cerebral)**"
   ]
  },
  {
   "cell_type": "code",
   "execution_count": null,
   "metadata": {},
   "outputs": [],
   "source": [
    "for filename in os.listdir(input_vsc_dir):\n",
    "    if filename.endswith('.npy'):\n",
    "        # Se obtiene el archivo .npy en el directorio \"input_vsc_dir\"\n",
    "        input_path = os.path.join(input_vsc_dir, filename)\n",
    "        # Cargar la matriz compleja\n",
    "        matriz_compleja = np.load(input_path)\n",
    "        \n",
    "        #========\n",
    "        # Normalizacion de los matrices\n",
    "        #========\n",
    "        # Sumar todos los datos de las matrices\n",
    "        sumatoria_acumulada_real_vsc(matriz_compleja.real) # para matriz real\n",
    "        sumatoria_acumulada_imag_vsc(matriz_compleja.imag) # para matriz imaginaria\n",
    "\n",
    "\n",
    "\n",
    "# Se calcula la media real de matrices correspondientes a vsc signals: Se suman cada unos de los coeficientes de cada matriz real vsc (archivos x filas x columnas)\n",
    "num_files_input_vsc_dir = sum(1 for filename in os.listdir(input_vsc_dir) if filename.endswith('.npy'))\n",
    "media_real_vsc = sumatoria_real_vsc / coefs_totales # MEDIA REAL\n",
    "media_imag_vsc = sumatoria_imag_vsc / coefs_totales # MEDIA IMAGINARIA\n",
    "\n"
   ]
  },
  {
   "cell_type": "markdown",
   "metadata": {},
   "source": [
    "**RECORRER MATRICES Y CÁLCULO DE LA DESVIACIÓN ESTÁNDAR || MATRIZ VSC (Velocidad Sanguínea Cerebral)**"
   ]
  },
  {
   "cell_type": "code",
   "execution_count": null,
   "metadata": {},
   "outputs": [],
   "source": [
    "for filename in os.listdir(input_vsc_dir):\n",
    "    if filename.endswith('.npy'):\n",
    "        # Se obtiene el archivo .npy en el directorio \"input_vsc_dir\"\n",
    "        input_path = os.path.join(input_vsc_dir, filename)\n",
    "        # Cargar la matriz compleja\n",
    "        matriz_compleja = np.load(input_path)\n",
    "\n",
    "        # Calculo de sumatoria(x - u)^2 - matriz real\n",
    "        sumatoria_acumulada_real_cuadrada_vsc(matriz_compleja.real)\n",
    "        # Calculo de sumatoria(x - u)^2 - matriz imaginaria\n",
    "        sumatoria_acumulada_imag_cuadrada_vsc(matriz_compleja.imag)\n",
    "\n",
    "# Se calcula de desviacion estandar de las matrices reales e imaginarias\n",
    "desv_real_vsc = np.square(sumatoria_real_cuadrada_vsc/coefs_totales)\n",
    "desv_imag_vsc = np.square(sumatoria_imag_cuadrada_vsc/coefs_totales)"
   ]
  },
  {
   "cell_type": "markdown",
   "metadata": {},
   "source": [
    "**APLICACIÓN DE NORMALIZACION A LAS MATRICES PAM Y VSC**"
   ]
  },
  {
   "cell_type": "markdown",
   "metadata": {},
   "source": [
    "##############################################################\n",
    "**NORMALIZACION MIN-MAX**\n",
    "##############################################################"
   ]
  },
  {
   "cell_type": "code",
   "execution_count": null,
   "metadata": {},
   "outputs": [],
   "source": [
    "min_real_pam = 1000000\n",
    "min_imag_pam = 1000000\n",
    "max_real_pam = -100\n",
    "max_imag_pam = -100\n",
    "\n",
    "min_real_vsc = 1000000\n",
    "min_imag_vsc = 1000000\n",
    "max_real_vsc = -100\n",
    "max_imag_vsc = -100\n"
   ]
  },
  {
   "cell_type": "code",
   "execution_count": null,
   "metadata": {},
   "outputs": [],
   "source": [
    "\n",
    "#PAM: encontrar min y max de matrices reales e imaginarias\n",
    "def encontrar_min_pam(matriz):\n",
    "    global min_real_pam, min_imag_pam\n",
    "    if np.min(matriz.real) < min_real_pam:\n",
    "        min_real_pam = np.min(matriz.real)\n",
    "\n",
    "    if np.min(matriz.imag) < min_imag_pam:\n",
    "        min_imag_pam = np.min(matriz.imag)\n",
    "\n",
    "\n",
    "def encontrar_max_pam(matriz):\n",
    "    global max_real_pam, max_imag_pam\n",
    "    if np.max(matriz.real) > max_real_pam:\n",
    "        max_real_pam = np.max(matriz.real)\n",
    "\n",
    "    if np.max(matriz.imag) > max_imag_pam:\n",
    "        max_imag_pam = np.max(matriz.imag)\n",
    "\n",
    "\n",
    "\n",
    "\n",
    "#################################################################################################\n",
    "#################################################################################################\n",
    "#################################################################################################\n",
    "\n",
    "\n",
    "#VSC: encontrar min y max de matrices reales e imaginarias\n",
    "\n",
    "def encontrar_min_vsc(matriz):\n",
    "    global min_real_vsc, min_imag_vsc\n",
    "    if np.min(matriz.real) < min_real_vsc:\n",
    "        min_real_vsc = np.min(matriz.real)\n",
    "\n",
    "    if np.min(matriz.imag) < min_imag_vsc:\n",
    "        min_imag_vsc = np.min(matriz.imag)\n",
    "\n",
    "\n",
    "def encontrar_max_vsc(matriz):\n",
    "    global max_real_vsc, max_imag_vsc\n",
    "    if np.max(matriz.real) > max_real_vsc:\n",
    "        max_real_vsc = np.max(matriz.real)\n",
    "\n",
    "    if np.max(matriz.imag) > max_imag_vsc:\n",
    "        max_imag_vsc = np.max(matriz.imag)\n"
   ]
  },
  {
   "cell_type": "code",
   "execution_count": null,
   "metadata": {},
   "outputs": [],
   "source": [
    "#TESTING MIN-MAX\n",
    "#PAM\n",
    "for filename in os.listdir(input_pam_dir):\n",
    "    if filename.endswith('.npy'):\n",
    "        # Se obtiene el archivo .npy en el directorio \"input_vsc_dir\"\n",
    "        input_path = os.path.join(input_pam_dir, filename)\n",
    "        # Cargar la matriz compleja\n",
    "        matriz_compleja = np.load(input_path)\n",
    "\n",
    "        # Iterando sobre todas las matrices para encontrar el min y max\n",
    "        encontrar_min_pam(matriz_compleja)\n",
    "        encontrar_max_pam(matriz_compleja)\n",
    "\n",
    "#VSC\n",
    "for filename in os.listdir(input_vsc_dir):\n",
    "    if filename.endswith('.npy'):\n",
    "        # Se obtiene el archivo .npy en el directorio \"input_vsc_dir\"\n",
    "        input_path = os.path.join(input_vsc_dir, filename)\n",
    "        # Cargar la matriz compleja\n",
    "        matriz_compleja = np.load(input_path)\n",
    "\n",
    "        # Iterando sobre todas las matrices para encontrar el min y max\n",
    "        encontrar_min_vsc(matriz_compleja)\n",
    "        encontrar_max_vsc(matriz_compleja)\n",
    "        \n",
    "\n",
    "print(min_real_pam)\n",
    "print(min_imag_pam)\n",
    "print(max_real_pam)\n",
    "print(max_imag_pam)\n",
    "\n",
    "print(\"------------\")\n",
    "\n",
    "print(min_real_vsc)\n",
    "print(min_imag_vsc)\n",
    "print(max_real_vsc)\n",
    "print(max_imag_vsc)"
   ]
  },
  {
   "cell_type": "markdown",
   "metadata": {},
   "source": [
    "##############################################################\n",
    "**NORMALIZACION Z-CORE**\n",
    "##############################################################\n",
    "z = (x - u) / desv"
   ]
  },
  {
   "cell_type": "code",
   "execution_count": null,
   "metadata": {},
   "outputs": [],
   "source": [
    "#Entrada: matriz_compleja PAM (array bidimensional)\n",
    "#Salida: z_real (matriz real de pam normalizada), z_imag (matriz imag de pam normalizada)\n",
    "#Descripcion: funcion encargada de normalizar una matriz pam y retornar las matrices real e imaginarias normalizadas\n",
    "def normalizacion_pam(matriz_compleja):\n",
    "    global media_real_pam, media_imag_pam, desv_real_pam, desv_imag_pam\n",
    "    # Aplicacion de normalziacion z-core || z=(x - u)/desv\n",
    "    z_real = (matriz_compleja.real - media_real_pam) / desv_real_pam # normalizarcion parte real pam\n",
    "    z_imag = (matriz_compleja.imag - media_imag_pam) / desv_imag_pam # normalizacion parte imaginaria pam\n",
    "    return z_real, z_imag\n",
    "\n",
    "#Entrada: matriz_compleja PAM (array bidimensional)\n",
    "#Salida: z_real (matriz real de pam normalizada), z_imag (matriz imag de pam normalizada)\n",
    "#Descripcion: funcion encargada de normalizar una matriz pam y retornar las matrices real e imaginarias normalizadas\n",
    "def normalizacion_vsc(matriz_compleja):\n",
    "    global media_real_vsc, media_imag_vsc, desv_real_vsc, desv_imag_vsc\n",
    "    # Aplicacion de normalziacion z-core || z=(x - u)/desv\n",
    "    z_real = (matriz_compleja.real - media_real_vsc) / desv_real_vsc # normalizarcion parte real pam\n",
    "    z_imag = (matriz_compleja.imag - media_imag_vsc) / desv_imag_vsc # normalizacion parte imaginaria pam\n",
    "    return z_real, z_imag\n"
   ]
  },
  {
   "cell_type": "markdown",
   "metadata": {},
   "source": [
    "**NORMALIZACIÓN MEDIANTE MIN - MAX**<br>\n",
    "Ni = (Xi - Xmin) / (Xmax - Xmin)"
   ]
  },
  {
   "cell_type": "code",
   "execution_count": null,
   "metadata": {},
   "outputs": [],
   "source": [
    "\n",
    "#Entrada: matriz_compleja (array bidimensional de matriz PAM)\n",
    "#Salida: n_real (matriz real de pam normalizada), n_imag (matriz imag de pam normalizada)\n",
    "#Descripcion: funcion encargada de normalizar una matriz pam y retornar las matrices real e imaginarias normalizadas\n",
    "def normalizacion_minmax_pam(matriz_compleja):\n",
    "    global min_real_pam, max_real_pam, min_imag_pam, max_imag_pam\n",
    "    n_real = (matriz_compleja.real - min_real_pam) / (max_real_pam - min_real_pam)\n",
    "    n_imag = (matriz_compleja.imag - min_imag_pam) / (max_imag_pam - min_imag_pam)\n",
    "    return n_real, n_imag\n",
    "\n",
    "\n",
    "#Entrada: matriz_compleja (array bidimensional de matriz VSC)\n",
    "#Salida: n_real (matriz real de vsc normalizada), n_imag (matriz imag de vsc normalizada)\n",
    "#Descripcion: funcion encargada de normalizar una matriz vsc y retornar las matrices real e imaginarias normalizadas\n",
    "def normalizacion_minmax_vsc(matriz_compleja):\n",
    "    global min_real_vsc, max_real_vsc,  min_imag_vsc, max_imag_vsc\n",
    "    n_real = (matriz_compleja.real - min_real_vsc) / (max_real_vsc - min_real_vsc)\n",
    "    n_imag = (matriz_compleja.imag - min_imag_vsc) / (max_imag_vsc - min_imag_vsc)\n",
    "    return n_real, n_imag\n"
   ]
  },
  {
   "cell_type": "markdown",
   "metadata": {},
   "source": [
    "**PROCESAR MATRICES SEGÚN UNA NORMALIZACIÓN Y ORGANIZAR DATOS PARA LA RED**"
   ]
  },
  {
   "cell_type": "code",
   "execution_count": 10,
   "metadata": {},
   "outputs": [],
   "source": [
    "\n",
    "#Entrada: matriz_compleja (array bidimensional)\n",
    "#Salida: datos_organizados (tensor de datos de la matriz pam)\n",
    "#Descripcion: funcion encargada de normalizar cada matriz pam y definir el input para la red u-net\n",
    "def procesar_matriz_compleja_pam(matriz_compleja):\n",
    "    \n",
    "    # Aplicacion de normalziacion Z-CORE || z = (x - u) / desv\n",
    "    #norm_real, norm_imag = normalizacion_pam(matriz_compleja)\n",
    "\n",
    "    # Aplicacion de normalziacion MIN-MAX || Ni = (Xi - Xmin) / (Xmax - Xmin)\n",
    "    #norm_real, norm_imag = normalizacion_minmax_pam(matriz_compleja)\n",
    "\n",
    "    # Crear input adecuado\n",
    "    #datos_organizados = np.stack((norm_real, norm_imag), axis=-1)\n",
    "    datos_organizados = np.stack((matriz_compleja.real, matriz_compleja.imag), axis=-1)\n",
    "    return datos_organizados\n",
    "\n",
    "\n",
    "\n",
    "\n",
    "\n",
    "#Entrada: matriz_compleja (array bidimensional)\n",
    "#Salida: datos_organizados (tensor de datos de la matriz vsc)\n",
    "#Descripcion: funcion encargada de normalizar cada matriz vsc y definir el input para la red u-net\n",
    "def procesar_matriz_compleja_vsc(matriz_compleja):\n",
    "    \n",
    "    # Aplicacion de normalziacion Z-CORE || z=(x - u)/desv\n",
    "    #norm_real, norm_imag = normalizacion_vsc(matriz_compleja)\n",
    "\n",
    "    # Aplicacion de normalziacion MIN-MAX || Ni = (Xi-Xmin)/(Xmax-Xmin)\n",
    "    #norm_real, norm_imag = normalizacion_minmax_vsc(matriz_compleja)\n",
    "    \n",
    "    # Crear input adecuado\n",
    "    #datos_organizados = np.stack((norm_real, norm_imag), axis=-1)\n",
    "    datos_organizados = np.stack((matriz_compleja.real, matriz_compleja.imag), axis=-1)\n",
    "    return datos_organizados"
   ]
  },
  {
   "cell_type": "markdown",
   "metadata": {},
   "source": [
    "**PROCESAR MATRICES COMPLEJAS EN LA CARPETA input_pam_dir y procesar matrices mediante una normalización**"
   ]
  },
  {
   "cell_type": "code",
   "execution_count": 11,
   "metadata": {},
   "outputs": [],
   "source": [
    "for filename in os.listdir(input_pam_dir):\n",
    "    if filename.endswith('.npy'):\n",
    "        input_path = os.path.join(input_pam_dir, filename)\n",
    "        output_path = os.path.join(output_pam_dir, filename)\n",
    "        \n",
    "        # Cargar la matriz compleja\n",
    "        matriz_compleja = np.load(input_path)\n",
    "        \n",
    "        # Procesar la matriz compleja segun una normalizacion\n",
    "        datos_organizados = procesar_matriz_compleja_pam(matriz_compleja)\n",
    "        \n",
    "        # Guardar los datos procesados\n",
    "        np.save(output_path, datos_organizados)\n",
    "\n"
   ]
  },
  {
   "cell_type": "markdown",
   "metadata": {},
   "source": [
    "**PROCESAR MATRICES COMPLEJAS EN LA CARPETA input_vsc_dir**"
   ]
  },
  {
   "cell_type": "code",
   "execution_count": 12,
   "metadata": {},
   "outputs": [
    {
     "name": "stdout",
     "output_type": "stream",
     "text": [
      "Procesamiento completado.\n"
     ]
    }
   ],
   "source": [
    "for filename in os.listdir(input_vsc_dir):\n",
    "    if filename.endswith('.npy'):\n",
    "        input_path = os.path.join(input_vsc_dir, filename)\n",
    "        output_path = os.path.join(output_vsc_dir, filename)\n",
    "        \n",
    "        # Cargar la matriz compleja\n",
    "        matriz_compleja = np.load(input_path)\n",
    "        \n",
    "        # Procesar la matriz compleja segun una normalizacion\n",
    "        datos_organizados = procesar_matriz_compleja_vsc(matriz_compleja)\n",
    "        \n",
    "        # Guardar los datos procesados\n",
    "        np.save(output_path, datos_organizados)\n",
    "        \n",
    "print(\"Procesamiento completado.\")"
   ]
  },
  {
   "cell_type": "markdown",
   "metadata": {},
   "source": [
    "**Verificacion de \"shape\" - matrices pam y vsc**"
   ]
  },
  {
   "cell_type": "markdown",
   "metadata": {},
   "source": [
    "Directorios de salida"
   ]
  },
  {
   "cell_type": "code",
   "execution_count": 13,
   "metadata": {},
   "outputs": [],
   "source": [
    "output_pam_dir_check = 'D:/TT/Memoria/waveletycnn/codigo_python/matrices_complejas_pam_procesadas'\n",
    "output_vsc_dir_check = 'D:/TT/Memoria/waveletycnn/codigo_python/matrices_complejas_vsc_procesadas'"
   ]
  },
  {
   "cell_type": "markdown",
   "metadata": {},
   "source": [
    "Funcion para verificar la forma de una matriz"
   ]
  },
  {
   "cell_type": "code",
   "execution_count": 14,
   "metadata": {},
   "outputs": [],
   "source": [
    "def verificar_shape(directorio, nombre_archivo):\n",
    "    path = os.path.join(directorio, nombre_archivo)\n",
    "    matriz = np.load(path)\n",
    "    return matriz.shape"
   ]
  },
  {
   "cell_type": "markdown",
   "metadata": {},
   "source": [
    "Verificar la forma de un archivo de ejemplo en output_pam_dir_check"
   ]
  },
  {
   "cell_type": "code",
   "execution_count": 15,
   "metadata": {},
   "outputs": [
    {
     "name": "stdout",
     "output_type": "stream",
     "text": [
      "Shape de matrix_complex_pam_noise_1.npy en D:/TT/Memoria/waveletycnn/codigo_python/matrices_complejas_pam_procesadas: (36, 1024, 2)\n"
     ]
    }
   ],
   "source": [
    "ejemplo_pam = os.listdir(output_pam_dir_check)[0]  # Obtener el primer archivo de la carpeta\n",
    "shape_pam = verificar_shape(output_pam_dir_check, ejemplo_pam)\n",
    "print(f\"Shape de {ejemplo_pam} en {output_pam_dir_check}: {shape_pam}\")"
   ]
  },
  {
   "cell_type": "markdown",
   "metadata": {},
   "source": [
    "Verificar la forma de un archivo de ejemplo en output_vsc_dir_check"
   ]
  },
  {
   "cell_type": "code",
   "execution_count": 16,
   "metadata": {},
   "outputs": [
    {
     "name": "stdout",
     "output_type": "stream",
     "text": [
      "Shape de matrix_complex_vsc_noise_1.npy en D:/TT/Memoria/waveletycnn/codigo_python/matrices_complejas_vsc_procesadas: (36, 1024, 2)\n"
     ]
    }
   ],
   "source": [
    "ejemplo_vsc = os.listdir(output_vsc_dir_check)[0]  # Obtener el primer archivo de la carpeta\n",
    "shape_vsc = verificar_shape(output_vsc_dir_check, ejemplo_vsc)\n",
    "print(f\"Shape de {ejemplo_vsc} en {output_vsc_dir_check}: {shape_vsc}\")"
   ]
  },
  {
   "cell_type": "markdown",
   "metadata": {},
   "source": [
    "**|||Red Neuronal Profunda: U-net|||**"
   ]
  },
  {
   "cell_type": "markdown",
   "metadata": {},
   "source": [
    "Directorios de entrada"
   ]
  },
  {
   "cell_type": "code",
   "execution_count": 17,
   "metadata": {},
   "outputs": [],
   "source": [
    "input_pam_dir = 'D:/TT/Memoria/waveletycnn/codigo_python/matrices_complejas_pam_procesadas'\n",
    "output_vsc_dir = 'D:/TT/Memoria/waveletycnn/codigo_python/matrices_complejas_vsc_procesadas'"
   ]
  },
  {
   "cell_type": "markdown",
   "metadata": {},
   "source": [
    "Funcion para cargar los archivos .npy"
   ]
  },
  {
   "cell_type": "code",
   "execution_count": 18,
   "metadata": {},
   "outputs": [],
   "source": [
    "def load_npy_files(input_dir):\n",
    "    files = sorted([os.path.join(input_dir, f) for f in os.listdir(input_dir) if f.endswith('.npy')])\n",
    "     # verificar orden con que entrar los archivos en X e Y\n",
    "    file_names = [os.path.basename(f) for f in files]\n",
    "    print(f\"Archivos: {file_names}\\n\")\n",
    "    data = [np.load(f) for f in files]\n",
    "    return np.array(data)"
   ]
  },
  {
   "cell_type": "markdown",
   "metadata": {},
   "source": [
    "CARGA DE DATOS DE ENTRADAS Y SALIDAS PARA LA RED (X: INPUTS; Y: OUTPUTS)"
   ]
  },
  {
   "cell_type": "code",
   "execution_count": 19,
   "metadata": {},
   "outputs": [
    {
     "name": "stdout",
     "output_type": "stream",
     "text": [
      "Archivos: ['matrix_complex_pam_noise_1.npy', 'matrix_complex_pam_noise_10.npy', 'matrix_complex_pam_noise_11.npy', 'matrix_complex_pam_noise_12.npy', 'matrix_complex_pam_noise_13.npy', 'matrix_complex_pam_noise_14.npy', 'matrix_complex_pam_noise_15.npy', 'matrix_complex_pam_noise_16.npy', 'matrix_complex_pam_noise_17.npy', 'matrix_complex_pam_noise_18.npy', 'matrix_complex_pam_noise_19.npy', 'matrix_complex_pam_noise_2.npy', 'matrix_complex_pam_noise_20.npy', 'matrix_complex_pam_noise_21.npy', 'matrix_complex_pam_noise_22.npy', 'matrix_complex_pam_noise_23.npy', 'matrix_complex_pam_noise_24.npy', 'matrix_complex_pam_noise_25.npy', 'matrix_complex_pam_noise_26.npy', 'matrix_complex_pam_noise_27.npy', 'matrix_complex_pam_noise_28.npy', 'matrix_complex_pam_noise_29.npy', 'matrix_complex_pam_noise_3.npy', 'matrix_complex_pam_noise_30.npy', 'matrix_complex_pam_noise_31.npy', 'matrix_complex_pam_noise_32.npy', 'matrix_complex_pam_noise_33.npy', 'matrix_complex_pam_noise_34.npy', 'matrix_complex_pam_noise_35.npy', 'matrix_complex_pam_noise_36.npy', 'matrix_complex_pam_noise_37.npy', 'matrix_complex_pam_noise_38.npy', 'matrix_complex_pam_noise_39.npy', 'matrix_complex_pam_noise_4.npy', 'matrix_complex_pam_noise_40.npy', 'matrix_complex_pam_noise_41.npy', 'matrix_complex_pam_noise_42.npy', 'matrix_complex_pam_noise_43.npy', 'matrix_complex_pam_noise_44.npy', 'matrix_complex_pam_noise_45.npy', 'matrix_complex_pam_noise_46.npy', 'matrix_complex_pam_noise_47.npy', 'matrix_complex_pam_noise_48.npy', 'matrix_complex_pam_noise_49.npy', 'matrix_complex_pam_noise_5.npy', 'matrix_complex_pam_noise_50.npy', 'matrix_complex_pam_noise_6.npy', 'matrix_complex_pam_noise_7.npy', 'matrix_complex_pam_noise_8.npy', 'matrix_complex_pam_noise_9.npy']\n",
      "\n",
      "Archivos: ['matrix_complex_vsc_noise_1.npy', 'matrix_complex_vsc_noise_10.npy', 'matrix_complex_vsc_noise_11.npy', 'matrix_complex_vsc_noise_12.npy', 'matrix_complex_vsc_noise_13.npy', 'matrix_complex_vsc_noise_14.npy', 'matrix_complex_vsc_noise_15.npy', 'matrix_complex_vsc_noise_16.npy', 'matrix_complex_vsc_noise_17.npy', 'matrix_complex_vsc_noise_18.npy', 'matrix_complex_vsc_noise_19.npy', 'matrix_complex_vsc_noise_2.npy', 'matrix_complex_vsc_noise_20.npy', 'matrix_complex_vsc_noise_21.npy', 'matrix_complex_vsc_noise_22.npy', 'matrix_complex_vsc_noise_23.npy', 'matrix_complex_vsc_noise_24.npy', 'matrix_complex_vsc_noise_25.npy', 'matrix_complex_vsc_noise_26.npy', 'matrix_complex_vsc_noise_27.npy', 'matrix_complex_vsc_noise_28.npy', 'matrix_complex_vsc_noise_29.npy', 'matrix_complex_vsc_noise_3.npy', 'matrix_complex_vsc_noise_30.npy', 'matrix_complex_vsc_noise_31.npy', 'matrix_complex_vsc_noise_32.npy', 'matrix_complex_vsc_noise_33.npy', 'matrix_complex_vsc_noise_34.npy', 'matrix_complex_vsc_noise_35.npy', 'matrix_complex_vsc_noise_36.npy', 'matrix_complex_vsc_noise_37.npy', 'matrix_complex_vsc_noise_38.npy', 'matrix_complex_vsc_noise_39.npy', 'matrix_complex_vsc_noise_4.npy', 'matrix_complex_vsc_noise_40.npy', 'matrix_complex_vsc_noise_41.npy', 'matrix_complex_vsc_noise_42.npy', 'matrix_complex_vsc_noise_43.npy', 'matrix_complex_vsc_noise_44.npy', 'matrix_complex_vsc_noise_45.npy', 'matrix_complex_vsc_noise_46.npy', 'matrix_complex_vsc_noise_47.npy', 'matrix_complex_vsc_noise_48.npy', 'matrix_complex_vsc_noise_49.npy', 'matrix_complex_vsc_noise_5.npy', 'matrix_complex_vsc_noise_50.npy', 'matrix_complex_vsc_noise_6.npy', 'matrix_complex_vsc_noise_7.npy', 'matrix_complex_vsc_noise_8.npy', 'matrix_complex_vsc_noise_9.npy']\n",
      "\n"
     ]
    }
   ],
   "source": [
    "X = load_npy_files(input_pam_dir) # inputs\n",
    "Y = load_npy_files(output_vsc_dir) # outputs"
   ]
  },
  {
   "cell_type": "markdown",
   "metadata": {},
   "source": [
    "Verificar las formas de los datos cargados (# entradas, filas, columnas, canales)"
   ]
  },
  {
   "cell_type": "code",
   "execution_count": 20,
   "metadata": {},
   "outputs": [
    {
     "name": "stdout",
     "output_type": "stream",
     "text": [
      "Shape de los inputs (X): (50, 36, 1024, 2)\n",
      "Shape de los outputs (Y): (50, 36, 1024, 2)\n"
     ]
    }
   ],
   "source": [
    "print(f\"Shape de los inputs (X): {X.shape}\")\n",
    "print(f\"Shape de los outputs (Y): {Y.shape}\")"
   ]
  },
  {
   "cell_type": "markdown",
   "metadata": {},
   "source": [
    "Definir la U-Net con regularizacion L2"
   ]
  },
  {
   "cell_type": "code",
   "execution_count": 21,
   "metadata": {},
   "outputs": [],
   "source": [
    "'''\n",
    "def unet_model_with_l2(input_shape, l2_lambda):\n",
    "    inputs = tf.keras.Input(shape=input_shape)\n",
    "    \n",
    "    # Regularizer\n",
    "    l2_reg = tf.keras.regularizers.l2(l2_lambda)\n",
    "    \n",
    "    # Encoder\n",
    "    c1 = tf.keras.layers.Conv2D(64, (3, 3), activation='relu', padding='same', kernel_regularizer=l2_reg)(inputs)\n",
    "    c1 = tf.keras.layers.Conv2D(64, (3, 3), activation='relu', padding='same', kernel_regularizer=l2_reg)(c1)\n",
    "    p1 = tf.keras.layers.MaxPooling2D((2, 2))(c1)\n",
    "    \n",
    "    c2 = tf.keras.layers.Conv2D(128, (3, 3), activation='relu', padding='same', kernel_regularizer=l2_reg)(p1)\n",
    "    c2 = tf.keras.layers.Conv2D(128, (3, 3), activation='relu', padding='same', kernel_regularizer=l2_reg)(c2)\n",
    "    p2 = tf.keras.layers.MaxPooling2D((2, 2))(c2)\n",
    "    \n",
    "    # Bottleneck\n",
    "    c3 = tf.keras.layers.Conv2D(256, (3, 3), activation='relu', padding='same', kernel_regularizer=l2_reg)(p2)\n",
    "    c3 = tf.keras.layers.Conv2D(256, (3, 3), activation='relu', padding='same', kernel_regularizer=l2_reg)(c3)\n",
    "    \n",
    "    # Decoder\n",
    "    u4 = tf.keras.layers.Conv2DTranspose(128, (2, 2), strides=(2, 2), padding='same')(c3)\n",
    "    u4 = tf.keras.layers.concatenate([u4, c2])\n",
    "    c4 = tf.keras.layers.Conv2D(128, (3, 3), activation='relu', padding='same', kernel_regularizer=l2_reg)(u4)\n",
    "    c4 = tf.keras.layers.Conv2D(128, (3, 3), activation='relu', padding='same', kernel_regularizer=l2_reg)(c4)\n",
    "    \n",
    "    u5 = tf.keras.layers.Conv2DTranspose(64, (2, 2), strides=(2, 2), padding='same')(c4)\n",
    "    u5 = tf.keras.layers.concatenate([u5, c1])\n",
    "    c5 = tf.keras.layers.Conv2D(64, (3, 3), activation='relu', padding='same', kernel_regularizer=l2_reg)(u5)\n",
    "    c5 = tf.keras.layers.Conv2D(64, (3, 3), activation='relu', padding='same', kernel_regularizer=l2_reg)(c5)\n",
    "    \n",
    "    outputs = tf.keras.layers.Conv2D(2, (1, 1), activation='linear')(c5)\n",
    "    \n",
    "    model = tf.keras.Model(inputs=[inputs], outputs=[outputs])\n",
    "    \n",
    "    return model\n",
    "'''\n",
    "\n",
    "def unet_model(input_shape):\n",
    "    inputs = tf.keras.Input(shape=input_shape)\n",
    "    \n",
    "    # Regularizer\n",
    "    #l2_reg = tf.keras.regularizers.l2(l2_lambda)\n",
    "    \n",
    "    # Encoder\n",
    "    c1 = tf.keras.layers.Conv2D(64, (3, 3), activation='relu', padding='same')(inputs) #filtro original=64\n",
    "    c1 = tf.keras.layers.Conv2D(64, (3, 3), activation='relu', padding='same')(c1) #filtro original=64\n",
    "    p1 = tf.keras.layers.MaxPooling2D((2, 2))(c1)\n",
    "    \n",
    "    c2 = tf.keras.layers.Conv2D(128, (3, 3), activation='relu', padding='same')(p1) #filtro original=128\n",
    "    c2 = tf.keras.layers.Conv2D(128, (3, 3), activation='relu', padding='same')(c2) #filtro original=128\n",
    "    p2 = tf.keras.layers.MaxPooling2D((2, 2))(c2)\n",
    "    \n",
    "    # Bottleneck\n",
    "    c3 = tf.keras.layers.Conv2D(256, (3, 3), activation='relu', padding='same')(p2) #filtro original=256\n",
    "    c3 = tf.keras.layers.Conv2D(256, (3, 3), activation='relu', padding='same')(c3) #filtro original=256\n",
    "    \n",
    "    # Decoder\n",
    "    u4 = tf.keras.layers.Conv2DTranspose(128, (2, 2), strides=(2, 2), padding='same')(c3) #filtro original=128\n",
    "    u4 = tf.keras.layers.concatenate([u4, c2])\n",
    "    c4 = tf.keras.layers.Conv2D(128, (3, 3), activation='relu', padding='same')(u4) #filtro original=128\n",
    "    c4 = tf.keras.layers.Conv2D(128, (3, 3), activation='relu', padding='same')(c4) #filtro original=128\n",
    "    \n",
    "    u5 = tf.keras.layers.Conv2DTranspose(64, (2, 2), strides=(2, 2), padding='same')(c4) #filtro original=64\n",
    "    u5 = tf.keras.layers.concatenate([u5, c1])\n",
    "    c5 = tf.keras.layers.Conv2D(64, (3, 3), activation='relu', padding='same')(u5) #filtro original=64\n",
    "    c5 = tf.keras.layers.Conv2D(64, (3, 3), activation='relu', padding='same')(c5) #filtro original=64\n",
    "    \n",
    "    outputs = tf.keras.layers.Conv2D(2, (1, 1), activation='linear')(c5)\n",
    "    \n",
    "    model = tf.keras.Model(inputs=[inputs], outputs=[outputs])\n",
    "    \n",
    "    return model"
   ]
  },
  {
   "cell_type": "markdown",
   "metadata": {},
   "source": [
    "Definir la metrica NMSE ajustada para utilizar la varianza de los valores verdaderos"
   ]
  },
  {
   "cell_type": "code",
   "execution_count": 22,
   "metadata": {},
   "outputs": [],
   "source": [
    "def nmse(y_true, y_pred):\n",
    "    mse = tf.keras.backend.mean(tf.keras.backend.square(y_true - y_pred))\n",
    "    var_true = tf.keras.backend.var(y_true)\n",
    "    return mse / var_true"
   ]
  },
  {
   "cell_type": "markdown",
   "metadata": {
    "tags": []
   },
   "source": [
    "**HIPERPARAMETROS**"
   ]
  },
  {
   "cell_type": "code",
   "execution_count": 23,
   "metadata": {},
   "outputs": [
    {
     "name": "stdout",
     "output_type": "stream",
     "text": [
      "Total pasos de decaimiento -> 300 pasos.\n"
     ]
    }
   ],
   "source": [
    "max_epoch = 300\n",
    "batchsize = 8\n",
    "learning_rate = 0.001\n",
    "#l2_lambda = 0.01\n",
    "validation_split = 0.3 # 80% entrenamiento & 20% validacion\n",
    "\n",
    "\n",
    " # alpha: el lr min al que llegara el decaimiento sera el 10% del lr inicia\n",
    "alpha = 0.1\n",
    "# decay steps: Numero de pasos de entrenamiento tras los cuales el learning rate decaera desde su valor inicial hasta el valor final determinado por alpha\n",
    "decay_steps = 300#(int(X.shape[0]/batchsize))*max_epoch \n",
    "print(\"Total pasos de decaimiento ->\",decay_steps, \"pasos.\")"
   ]
  },
  {
   "cell_type": "markdown",
   "metadata": {},
   "source": [
    "**CREACIÓN DEL MODELO U-NET**"
   ]
  },
  {
   "cell_type": "code",
   "execution_count": 24,
   "metadata": {},
   "outputs": [],
   "source": [
    "input_shape = X.shape[1:]  # forma del input a entrar. en este caso esta forma debe coincidir con las matrices que entran a la red tensor X = [#inputs, columnas, filas, canales]. Se omite #inputs\n",
    "model = unet_model(input_shape)"
   ]
  },
  {
   "cell_type": "markdown",
   "metadata": {},
   "source": [
    "**DEFINICION DE LA FUNCION DE DECAIMIENTO, ALGORITMO OPTIMIZADOR, FUNCION DE PERDIDA Y METRICA**"
   ]
  },
  {
   "cell_type": "code",
   "execution_count": null,
   "metadata": {},
   "outputs": [],
   "source": [
    "#funcion decaimiento de coseno\n",
    "decay_cosine = tf.keras.experimental.CosineDecay(learning_rate, decay_steps)\n",
    "def lr_schedule(X):\n",
    "    return float(decay_cosine(X))\n",
    "    \n",
    "\n",
    "lr_scheduler = tf.keras.callbacks.LearningRateScheduler(lr_schedule)"
   ]
  },
  {
   "cell_type": "code",
   "execution_count": 25,
   "metadata": {},
   "outputs": [],
   "source": [
    "optimizer = tf.keras.optimizers.Adam(learning_rate)\n",
    "model.compile(optimizer='adam', loss='mean_squared_error', metrics=[nmse])"
   ]
  },
  {
   "cell_type": "markdown",
   "metadata": {},
   "source": [
    "#########################################################################################################<br>\n",
    "#########################################################################################################<br>\n",
    "#########################################################################################################"
   ]
  },
  {
   "cell_type": "markdown",
   "metadata": {},
   "source": [
    "ENTRENAMIENTO DE LA RED"
   ]
  },
  {
   "cell_type": "code",
   "execution_count": 26,
   "metadata": {},
   "outputs": [
    {
     "name": "stdout",
     "output_type": "stream",
     "text": [
      "Epoch 1/300\n",
      "5/5 [==============================] - 27s 5s/step - loss: 0.3568 - nmse: 0.9005 - val_loss: 0.3240 - val_nmse: 0.8535\n",
      "Epoch 2/300\n",
      "5/5 [==============================] - 25s 5s/step - loss: 0.3282 - nmse: 0.8272 - val_loss: 0.3063 - val_nmse: 0.8066\n",
      "Epoch 3/300\n",
      "5/5 [==============================] - 25s 5s/step - loss: 0.3143 - nmse: 0.7933 - val_loss: 0.2933 - val_nmse: 0.7724\n",
      "Epoch 4/300\n",
      "5/5 [==============================] - 25s 5s/step - loss: 0.2978 - nmse: 0.7476 - val_loss: 0.2680 - val_nmse: 0.7056\n",
      "Epoch 5/300\n",
      "5/5 [==============================] - 36s 7s/step - loss: 0.3157 - nmse: 0.8484 - val_loss: 0.3548 - val_nmse: 0.9344\n",
      "Epoch 6/300\n",
      "5/5 [==============================] - 33s 7s/step - loss: 0.3294 - nmse: 0.8273 - val_loss: 0.3048 - val_nmse: 0.8027\n",
      "Epoch 7/300\n",
      "5/5 [==============================] - 29s 6s/step - loss: 0.3162 - nmse: 0.7942 - val_loss: 0.2944 - val_nmse: 0.7754\n",
      "Epoch 8/300\n",
      "5/5 [==============================] - 28s 6s/step - loss: 0.3002 - nmse: 0.7572 - val_loss: 0.2774 - val_nmse: 0.7306\n",
      "Epoch 9/300\n",
      "5/5 [==============================] - 27s 5s/step - loss: 0.2847 - nmse: 0.7181 - val_loss: 0.2616 - val_nmse: 0.6889\n",
      "Epoch 10/300\n",
      "5/5 [==============================] - 26s 5s/step - loss: 0.2660 - nmse: 0.6686 - val_loss: 0.2421 - val_nmse: 0.6373\n",
      "Epoch 11/300\n",
      "5/5 [==============================] - 27s 5s/step - loss: 0.2463 - nmse: 0.6221 - val_loss: 0.2257 - val_nmse: 0.5940\n",
      "Epoch 12/300\n",
      "5/5 [==============================] - 27s 6s/step - loss: 0.2278 - nmse: 0.5746 - val_loss: 0.2056 - val_nmse: 0.5410\n",
      "Epoch 13/300\n",
      "5/5 [==============================] - 24s 5s/step - loss: 0.2128 - nmse: 0.5406 - val_loss: 0.1938 - val_nmse: 0.5100\n",
      "Epoch 14/300\n",
      "5/5 [==============================] - 25s 5s/step - loss: 0.1973 - nmse: 0.4863 - val_loss: 0.1780 - val_nmse: 0.4683\n",
      "Epoch 15/300\n",
      "5/5 [==============================] - 25s 5s/step - loss: 0.1795 - nmse: 0.4404 - val_loss: 0.1630 - val_nmse: 0.4289\n",
      "Epoch 16/300\n",
      "5/5 [==============================] - 30s 6s/step - loss: 0.1669 - nmse: 0.4072 - val_loss: 0.1555 - val_nmse: 0.4088\n",
      "Epoch 17/300\n",
      "5/5 [==============================] - 39s 8s/step - loss: 0.1592 - nmse: 0.3934 - val_loss: 0.1412 - val_nmse: 0.3714\n",
      "Epoch 18/300\n",
      "5/5 [==============================] - 37s 7s/step - loss: 0.1474 - nmse: 0.3709 - val_loss: 0.1399 - val_nmse: 0.3675\n",
      "Epoch 19/300\n",
      "5/5 [==============================] - 35s 6s/step - loss: 0.1405 - nmse: 0.3505 - val_loss: 0.1288 - val_nmse: 0.3383\n",
      "Epoch 20/300\n",
      "5/5 [==============================] - 28s 5s/step - loss: 0.1327 - nmse: 0.3356 - val_loss: 0.1217 - val_nmse: 0.3197\n",
      "Epoch 21/300\n",
      "5/5 [==============================] - 27s 5s/step - loss: 0.1280 - nmse: 0.3274 - val_loss: 0.1172 - val_nmse: 0.3081\n",
      "Epoch 22/300\n",
      "5/5 [==============================] - 35s 7s/step - loss: 0.1221 - nmse: 0.3069 - val_loss: 0.1136 - val_nmse: 0.2986\n",
      "Epoch 23/300\n",
      "5/5 [==============================] - 27s 5s/step - loss: 0.1188 - nmse: 0.2986 - val_loss: 0.1080 - val_nmse: 0.2837\n",
      "Epoch 24/300\n",
      "5/5 [==============================] - 26s 5s/step - loss: 0.1143 - nmse: 0.2845 - val_loss: 0.1084 - val_nmse: 0.2848\n",
      "Epoch 25/300\n",
      "5/5 [==============================] - 27s 5s/step - loss: 0.1122 - nmse: 0.2901 - val_loss: 0.1060 - val_nmse: 0.2786\n",
      "Epoch 26/300\n",
      "5/5 [==============================] - 27s 5s/step - loss: 0.1084 - nmse: 0.2717 - val_loss: 0.1008 - val_nmse: 0.2650\n",
      "Epoch 27/300\n",
      "5/5 [==============================] - 27s 5s/step - loss: 0.1063 - nmse: 0.2666 - val_loss: 0.0991 - val_nmse: 0.2605\n",
      "Epoch 28/300\n",
      "5/5 [==============================] - 26s 5s/step - loss: 0.1038 - nmse: 0.2608 - val_loss: 0.0942 - val_nmse: 0.2475\n",
      "Epoch 29/300\n",
      "5/5 [==============================] - 28s 6s/step - loss: 0.0985 - nmse: 0.2487 - val_loss: 0.0924 - val_nmse: 0.2426\n",
      "Epoch 30/300\n",
      "5/5 [==============================] - 30s 6s/step - loss: 0.0973 - nmse: 0.2414 - val_loss: 0.0948 - val_nmse: 0.2493\n",
      "Epoch 31/300\n",
      "5/5 [==============================] - 33s 7s/step - loss: 0.0948 - nmse: 0.2299 - val_loss: 0.0911 - val_nmse: 0.2394\n",
      "Epoch 32/300\n",
      "5/5 [==============================] - 33s 7s/step - loss: 0.0919 - nmse: 0.2259 - val_loss: 0.0872 - val_nmse: 0.2292\n",
      "Epoch 33/300\n",
      "5/5 [==============================] - 30s 6s/step - loss: 0.0885 - nmse: 0.2264 - val_loss: 0.0827 - val_nmse: 0.2173\n",
      "Epoch 34/300\n",
      "5/5 [==============================] - 33s 7s/step - loss: 0.0866 - nmse: 0.2215 - val_loss: 0.0847 - val_nmse: 0.2226\n",
      "Epoch 35/300\n",
      "5/5 [==============================] - 32s 6s/step - loss: 0.0840 - nmse: 0.2200 - val_loss: 0.0816 - val_nmse: 0.2145\n",
      "Epoch 36/300\n",
      "5/5 [==============================] - 31s 6s/step - loss: 0.0820 - nmse: 0.2126 - val_loss: 0.0799 - val_nmse: 0.2099\n",
      "Epoch 37/300\n",
      "5/5 [==============================] - 31s 6s/step - loss: 0.0787 - nmse: 0.1996 - val_loss: 0.0788 - val_nmse: 0.2072\n",
      "Epoch 38/300\n",
      "5/5 [==============================] - 29s 6s/step - loss: 0.0774 - nmse: 0.2034 - val_loss: 0.0765 - val_nmse: 0.2009\n",
      "Epoch 39/300\n",
      "5/5 [==============================] - 32s 6s/step - loss: 0.0769 - nmse: 0.1990 - val_loss: 0.0815 - val_nmse: 0.2141\n",
      "Epoch 40/300\n",
      "5/5 [==============================] - 37s 7s/step - loss: 0.0738 - nmse: 0.1885 - val_loss: 0.0754 - val_nmse: 0.1981\n",
      "Epoch 41/300\n",
      "5/5 [==============================] - 31s 6s/step - loss: 0.0698 - nmse: 0.1781 - val_loss: 0.0729 - val_nmse: 0.1918\n",
      "Epoch 42/300\n",
      "5/5 [==============================] - 25s 5s/step - loss: 0.0679 - nmse: 0.1813 - val_loss: 0.0724 - val_nmse: 0.1906\n",
      "Epoch 43/300\n",
      "5/5 [==============================] - 25s 5s/step - loss: 0.0646 - nmse: 0.1688 - val_loss: 0.0712 - val_nmse: 0.1871\n",
      "Epoch 44/300\n",
      "5/5 [==============================] - 25s 5s/step - loss: 0.0620 - nmse: 0.1566 - val_loss: 0.0707 - val_nmse: 0.1859\n",
      "Epoch 45/300\n",
      "5/5 [==============================] - 25s 5s/step - loss: 0.0595 - nmse: 0.1473 - val_loss: 0.0722 - val_nmse: 0.1898\n",
      "Epoch 46/300\n",
      "5/5 [==============================] - 25s 5s/step - loss: 0.0565 - nmse: 0.1455 - val_loss: 0.0684 - val_nmse: 0.1798\n",
      "Epoch 47/300\n",
      "5/5 [==============================] - 25s 5s/step - loss: 0.0542 - nmse: 0.1322 - val_loss: 0.0686 - val_nmse: 0.1804\n",
      "Epoch 48/300\n",
      "5/5 [==============================] - 24s 5s/step - loss: 0.0521 - nmse: 0.1280 - val_loss: 0.0680 - val_nmse: 0.1789\n",
      "Epoch 49/300\n",
      "5/5 [==============================] - 25s 5s/step - loss: 0.0497 - nmse: 0.1266 - val_loss: 0.0678 - val_nmse: 0.1782\n",
      "Epoch 50/300\n",
      "5/5 [==============================] - 25s 5s/step - loss: 0.0484 - nmse: 0.1238 - val_loss: 0.0693 - val_nmse: 0.1821\n",
      "Epoch 51/300\n",
      "5/5 [==============================] - 25s 5s/step - loss: 0.0466 - nmse: 0.1126 - val_loss: 0.0691 - val_nmse: 0.1817\n",
      "Epoch 52/300\n",
      "5/5 [==============================] - 25s 5s/step - loss: 0.0453 - nmse: 0.1096 - val_loss: 0.0711 - val_nmse: 0.1870\n",
      "Epoch 53/300\n",
      "5/5 [==============================] - 24s 5s/step - loss: 0.0428 - nmse: 0.1070 - val_loss: 0.0668 - val_nmse: 0.1755\n",
      "Epoch 54/300\n",
      "5/5 [==============================] - 26s 5s/step - loss: 0.0396 - nmse: 0.1024 - val_loss: 0.0679 - val_nmse: 0.1784\n",
      "Epoch 55/300\n",
      "5/5 [==============================] - 31s 6s/step - loss: 0.0379 - nmse: 0.0947 - val_loss: 0.0688 - val_nmse: 0.1806\n",
      "Epoch 56/300\n",
      "5/5 [==============================] - 27s 5s/step - loss: 0.0361 - nmse: 0.0914 - val_loss: 0.0696 - val_nmse: 0.1828\n",
      "Epoch 57/300\n",
      "5/5 [==============================] - 29s 6s/step - loss: 0.0346 - nmse: 0.0880 - val_loss: 0.0672 - val_nmse: 0.1764\n",
      "Epoch 58/300\n",
      "5/5 [==============================] - 37s 7s/step - loss: 0.0332 - nmse: 0.0865 - val_loss: 0.0697 - val_nmse: 0.1833\n",
      "Epoch 59/300\n",
      "5/5 [==============================] - 29s 5s/step - loss: 0.0316 - nmse: 0.0803 - val_loss: 0.0732 - val_nmse: 0.1925\n",
      "Epoch 60/300\n",
      "5/5 [==============================] - 25s 5s/step - loss: 0.0304 - nmse: 0.0737 - val_loss: 0.0697 - val_nmse: 0.1830\n",
      "Epoch 61/300\n",
      "5/5 [==============================] - 25s 5s/step - loss: 0.0283 - nmse: 0.0719 - val_loss: 0.0691 - val_nmse: 0.1815\n",
      "Epoch 62/300\n",
      "5/5 [==============================] - 25s 5s/step - loss: 0.0271 - nmse: 0.0678 - val_loss: 0.0733 - val_nmse: 0.1925\n",
      "Epoch 63/300\n",
      "5/5 [==============================] - 25s 5s/step - loss: 0.0261 - nmse: 0.0669 - val_loss: 0.0713 - val_nmse: 0.1874\n",
      "Epoch 64/300\n",
      "5/5 [==============================] - 24s 5s/step - loss: 0.0254 - nmse: 0.0654 - val_loss: 0.0792 - val_nmse: 0.2082\n",
      "Epoch 65/300\n",
      "5/5 [==============================] - 24s 5s/step - loss: 0.0260 - nmse: 0.0672 - val_loss: 0.0730 - val_nmse: 0.1917\n",
      "Epoch 66/300\n",
      "5/5 [==============================] - 25s 5s/step - loss: 0.0246 - nmse: 0.0629 - val_loss: 0.0703 - val_nmse: 0.1846\n",
      "Epoch 67/300\n",
      "5/5 [==============================] - 25s 5s/step - loss: 0.0238 - nmse: 0.0596 - val_loss: 0.0699 - val_nmse: 0.1834\n",
      "Epoch 68/300\n",
      "5/5 [==============================] - 25s 5s/step - loss: 0.0225 - nmse: 0.0573 - val_loss: 0.0720 - val_nmse: 0.1889\n",
      "Epoch 69/300\n",
      "5/5 [==============================] - 25s 5s/step - loss: 0.0221 - nmse: 0.0562 - val_loss: 0.0703 - val_nmse: 0.1848\n",
      "Epoch 70/300\n",
      "5/5 [==============================] - 25s 5s/step - loss: 0.0207 - nmse: 0.0533 - val_loss: 0.0689 - val_nmse: 0.1810\n",
      "Epoch 71/300\n",
      "5/5 [==============================] - 26s 5s/step - loss: 0.0199 - nmse: 0.0500 - val_loss: 0.0705 - val_nmse: 0.1852\n",
      "Epoch 72/300\n",
      "5/5 [==============================] - 24s 5s/step - loss: 0.0190 - nmse: 0.0479 - val_loss: 0.0699 - val_nmse: 0.1836\n",
      "Epoch 73/300\n",
      "5/5 [==============================] - 25s 5s/step - loss: 0.0181 - nmse: 0.0464 - val_loss: 0.0693 - val_nmse: 0.1821\n",
      "Epoch 74/300\n",
      "5/5 [==============================] - 25s 5s/step - loss: 0.0175 - nmse: 0.0435 - val_loss: 0.0719 - val_nmse: 0.1889\n",
      "Epoch 75/300\n",
      "5/5 [==============================] - 25s 5s/step - loss: 0.0171 - nmse: 0.0429 - val_loss: 0.0703 - val_nmse: 0.1845\n",
      "Epoch 76/300\n",
      "5/5 [==============================] - 25s 5s/step - loss: 0.0165 - nmse: 0.0416 - val_loss: 0.0687 - val_nmse: 0.1804\n",
      "Epoch 77/300\n",
      "5/5 [==============================] - 24s 5s/step - loss: 0.0164 - nmse: 0.0415 - val_loss: 0.0711 - val_nmse: 0.1866\n",
      "Epoch 78/300\n",
      "5/5 [==============================] - 25s 5s/step - loss: 0.0167 - nmse: 0.0426 - val_loss: 0.0737 - val_nmse: 0.1936\n",
      "Epoch 79/300\n",
      "5/5 [==============================] - 24s 5s/step - loss: 0.0169 - nmse: 0.0428 - val_loss: 0.0752 - val_nmse: 0.1977\n",
      "Epoch 80/300\n",
      "5/5 [==============================] - 25s 5s/step - loss: 0.0172 - nmse: 0.0437 - val_loss: 0.0733 - val_nmse: 0.1924\n",
      "Epoch 81/300\n",
      "5/5 [==============================] - 24s 5s/step - loss: 0.0165 - nmse: 0.0423 - val_loss: 0.0740 - val_nmse: 0.1945\n",
      "Epoch 82/300\n",
      "5/5 [==============================] - 24s 5s/step - loss: 0.0163 - nmse: 0.0411 - val_loss: 0.0686 - val_nmse: 0.1800\n",
      "Epoch 83/300\n",
      "5/5 [==============================] - 25s 5s/step - loss: 0.0154 - nmse: 0.0384 - val_loss: 0.0698 - val_nmse: 0.1832\n",
      "Epoch 84/300\n",
      "5/5 [==============================] - 24s 5s/step - loss: 0.0145 - nmse: 0.0362 - val_loss: 0.0711 - val_nmse: 0.1867\n",
      "Epoch 85/300\n",
      "5/5 [==============================] - 25s 5s/step - loss: 0.0136 - nmse: 0.0347 - val_loss: 0.0723 - val_nmse: 0.1900\n",
      "Epoch 86/300\n",
      "5/5 [==============================] - 24s 5s/step - loss: 0.0135 - nmse: 0.0346 - val_loss: 0.0731 - val_nmse: 0.1920\n",
      "Epoch 87/300\n",
      "5/5 [==============================] - 24s 5s/step - loss: 0.0131 - nmse: 0.0332 - val_loss: 0.0705 - val_nmse: 0.1852\n",
      "Epoch 88/300\n",
      "5/5 [==============================] - 25s 5s/step - loss: 0.0126 - nmse: 0.0328 - val_loss: 0.0713 - val_nmse: 0.1871\n",
      "Epoch 89/300\n",
      "5/5 [==============================] - 24s 5s/step - loss: 0.0125 - nmse: 0.0312 - val_loss: 0.0721 - val_nmse: 0.1895\n",
      "Epoch 90/300\n",
      "5/5 [==============================] - 25s 5s/step - loss: 0.0123 - nmse: 0.0314 - val_loss: 0.0702 - val_nmse: 0.1843\n",
      "Epoch 91/300\n",
      "5/5 [==============================] - 24s 5s/step - loss: 0.0127 - nmse: 0.0325 - val_loss: 0.0723 - val_nmse: 0.1898\n",
      "Epoch 92/300\n",
      "5/5 [==============================] - 24s 5s/step - loss: 0.0119 - nmse: 0.0301 - val_loss: 0.0705 - val_nmse: 0.1853\n",
      "Epoch 93/300\n",
      "5/5 [==============================] - 24s 5s/step - loss: 0.0120 - nmse: 0.0300 - val_loss: 0.0697 - val_nmse: 0.1830\n",
      "Epoch 94/300\n",
      "5/5 [==============================] - 24s 5s/step - loss: 0.0115 - nmse: 0.0297 - val_loss: 0.0726 - val_nmse: 0.1906\n",
      "Epoch 95/300\n",
      "5/5 [==============================] - 25s 5s/step - loss: 0.0127 - nmse: 0.0315 - val_loss: 0.0733 - val_nmse: 0.1925\n",
      "Epoch 96/300\n",
      "5/5 [==============================] - 24s 5s/step - loss: 0.0125 - nmse: 0.0313 - val_loss: 0.0704 - val_nmse: 0.1850\n",
      "Epoch 97/300\n",
      "5/5 [==============================] - 24s 5s/step - loss: 0.0128 - nmse: 0.0322 - val_loss: 0.0721 - val_nmse: 0.1893\n",
      "Epoch 98/300\n",
      "5/5 [==============================] - 24s 5s/step - loss: 0.0129 - nmse: 0.0327 - val_loss: 0.0719 - val_nmse: 0.1888\n",
      "Epoch 99/300\n",
      "5/5 [==============================] - 24s 5s/step - loss: 0.0115 - nmse: 0.0286 - val_loss: 0.0697 - val_nmse: 0.1832\n",
      "Epoch 100/300\n",
      "5/5 [==============================] - 26s 5s/step - loss: 0.0113 - nmse: 0.0282 - val_loss: 0.0694 - val_nmse: 0.1822\n",
      "Epoch 101/300\n",
      "5/5 [==============================] - 26s 5s/step - loss: 0.0107 - nmse: 0.0263 - val_loss: 0.0744 - val_nmse: 0.1955\n",
      "Epoch 102/300\n",
      "5/5 [==============================] - 24s 5s/step - loss: 0.0109 - nmse: 0.0275 - val_loss: 0.0695 - val_nmse: 0.1826\n",
      "Epoch 103/300\n",
      "5/5 [==============================] - 24s 5s/step - loss: 0.0105 - nmse: 0.0270 - val_loss: 0.0720 - val_nmse: 0.1892\n",
      "Epoch 104/300\n",
      "5/5 [==============================] - 24s 5s/step - loss: 0.0101 - nmse: 0.0262 - val_loss: 0.0705 - val_nmse: 0.1851\n",
      "Epoch 105/300\n",
      "5/5 [==============================] - 25s 5s/step - loss: 0.0104 - nmse: 0.0265 - val_loss: 0.0702 - val_nmse: 0.1842\n",
      "Epoch 106/300\n",
      "5/5 [==============================] - 28s 6s/step - loss: 0.0100 - nmse: 0.0249 - val_loss: 0.0719 - val_nmse: 0.1888\n",
      "Epoch 107/300\n",
      "5/5 [==============================] - 29s 6s/step - loss: 0.0095 - nmse: 0.0248 - val_loss: 0.0704 - val_nmse: 0.1849\n",
      "Epoch 108/300\n",
      "5/5 [==============================] - 38s 8s/step - loss: 0.0095 - nmse: 0.0242 - val_loss: 0.0703 - val_nmse: 0.1847\n",
      "Epoch 109/300\n",
      "5/5 [==============================] - 31s 6s/step - loss: 0.0091 - nmse: 0.0233 - val_loss: 0.0733 - val_nmse: 0.1926\n",
      "Epoch 110/300\n",
      "5/5 [==============================] - 34s 6s/step - loss: 0.0094 - nmse: 0.0245 - val_loss: 0.0738 - val_nmse: 0.1939\n",
      "Epoch 111/300\n",
      "5/5 [==============================] - 29s 6s/step - loss: 0.0107 - nmse: 0.0270 - val_loss: 0.0688 - val_nmse: 0.1808\n",
      "Epoch 112/300\n",
      "5/5 [==============================] - 28s 6s/step - loss: 0.0105 - nmse: 0.0263 - val_loss: 0.0706 - val_nmse: 0.1855\n",
      "Epoch 113/300\n",
      "5/5 [==============================] - 28s 6s/step - loss: 0.0098 - nmse: 0.0252 - val_loss: 0.0735 - val_nmse: 0.1931\n",
      "Epoch 114/300\n",
      "5/5 [==============================] - 28s 6s/step - loss: 0.0098 - nmse: 0.0247 - val_loss: 0.0731 - val_nmse: 0.1921\n",
      "Epoch 115/300\n",
      "5/5 [==============================] - 28s 6s/step - loss: 0.0093 - nmse: 0.0239 - val_loss: 0.0710 - val_nmse: 0.1865\n",
      "Epoch 116/300\n",
      "5/5 [==============================] - 30s 6s/step - loss: 0.0091 - nmse: 0.0232 - val_loss: 0.0714 - val_nmse: 0.1876\n",
      "Epoch 117/300\n",
      "5/5 [==============================] - 25s 5s/step - loss: 0.0083 - nmse: 0.0212 - val_loss: 0.0711 - val_nmse: 0.1867\n",
      "Epoch 118/300\n",
      "5/5 [==============================] - 24s 5s/step - loss: 0.0082 - nmse: 0.0207 - val_loss: 0.0712 - val_nmse: 0.1868\n",
      "Epoch 119/300\n",
      "5/5 [==============================] - 25s 5s/step - loss: 0.0082 - nmse: 0.0202 - val_loss: 0.0702 - val_nmse: 0.1843\n",
      "Epoch 120/300\n",
      "5/5 [==============================] - 24s 5s/step - loss: 0.0083 - nmse: 0.0208 - val_loss: 0.0708 - val_nmse: 0.1860\n",
      "Epoch 121/300\n",
      "5/5 [==============================] - 24s 5s/step - loss: 0.0086 - nmse: 0.0214 - val_loss: 0.0707 - val_nmse: 0.1855\n",
      "Epoch 122/300\n",
      "5/5 [==============================] - 25s 5s/step - loss: 0.0081 - nmse: 0.0206 - val_loss: 0.0723 - val_nmse: 0.1899\n",
      "Epoch 123/300\n",
      "5/5 [==============================] - 24s 5s/step - loss: 0.0080 - nmse: 0.0207 - val_loss: 0.0714 - val_nmse: 0.1875\n",
      "Epoch 124/300\n",
      "5/5 [==============================] - 25s 5s/step - loss: 0.0082 - nmse: 0.0203 - val_loss: 0.0707 - val_nmse: 0.1858\n",
      "Epoch 125/300\n",
      "5/5 [==============================] - 24s 5s/step - loss: 0.0077 - nmse: 0.0196 - val_loss: 0.0731 - val_nmse: 0.1921\n",
      "Epoch 126/300\n",
      "5/5 [==============================] - 25s 5s/step - loss: 0.0080 - nmse: 0.0206 - val_loss: 0.0717 - val_nmse: 0.1883\n",
      "Epoch 127/300\n",
      "5/5 [==============================] - 25s 5s/step - loss: 0.0080 - nmse: 0.0196 - val_loss: 0.0710 - val_nmse: 0.1865\n",
      "Epoch 128/300\n",
      "5/5 [==============================] - 24s 5s/step - loss: 0.0076 - nmse: 0.0191 - val_loss: 0.0720 - val_nmse: 0.1891\n",
      "Epoch 129/300\n",
      "5/5 [==============================] - 25s 5s/step - loss: 0.0076 - nmse: 0.0189 - val_loss: 0.0696 - val_nmse: 0.1829\n",
      "Epoch 130/300\n",
      "5/5 [==============================] - 24s 5s/step - loss: 0.0074 - nmse: 0.0187 - val_loss: 0.0708 - val_nmse: 0.1860\n",
      "Epoch 131/300\n",
      "5/5 [==============================] - 24s 5s/step - loss: 0.0071 - nmse: 0.0182 - val_loss: 0.0706 - val_nmse: 0.1855\n",
      "Epoch 132/300\n",
      "5/5 [==============================] - 29s 6s/step - loss: 0.0069 - nmse: 0.0175 - val_loss: 0.0721 - val_nmse: 0.1894\n",
      "Epoch 133/300\n",
      "5/5 [==============================] - 26s 5s/step - loss: 0.0068 - nmse: 0.0173 - val_loss: 0.0726 - val_nmse: 0.1908\n",
      "Epoch 134/300\n",
      "5/5 [==============================] - 27s 5s/step - loss: 0.0071 - nmse: 0.0176 - val_loss: 0.0703 - val_nmse: 0.1847\n",
      "Epoch 135/300\n",
      "5/5 [==============================] - 25s 5s/step - loss: 0.0071 - nmse: 0.0177 - val_loss: 0.0735 - val_nmse: 0.1932\n",
      "Epoch 136/300\n",
      "5/5 [==============================] - 27s 5s/step - loss: 0.0072 - nmse: 0.0179 - val_loss: 0.0702 - val_nmse: 0.1844\n",
      "Epoch 137/300\n",
      "5/5 [==============================] - 26s 5s/step - loss: 0.0070 - nmse: 0.0176 - val_loss: 0.0698 - val_nmse: 0.1832\n",
      "Epoch 138/300\n",
      "5/5 [==============================] - 25s 5s/step - loss: 0.0068 - nmse: 0.0175 - val_loss: 0.0721 - val_nmse: 0.1893\n",
      "Epoch 139/300\n",
      "5/5 [==============================] - 25s 5s/step - loss: 0.0072 - nmse: 0.0187 - val_loss: 0.0731 - val_nmse: 0.1920\n",
      "Epoch 140/300\n",
      "5/5 [==============================] - 25s 5s/step - loss: 0.0070 - nmse: 0.0179 - val_loss: 0.0716 - val_nmse: 0.1880\n",
      "Epoch 141/300\n",
      "5/5 [==============================] - 31s 6s/step - loss: 0.0070 - nmse: 0.0179 - val_loss: 0.0714 - val_nmse: 0.1875\n",
      "Epoch 142/300\n",
      "5/5 [==============================] - 29s 6s/step - loss: 0.0068 - nmse: 0.0173 - val_loss: 0.0716 - val_nmse: 0.1880\n",
      "Epoch 143/300\n",
      "5/5 [==============================] - 25s 5s/step - loss: 0.0066 - nmse: 0.0166 - val_loss: 0.0713 - val_nmse: 0.1874\n",
      "Epoch 144/300\n",
      "5/5 [==============================] - 26s 5s/step - loss: 0.0065 - nmse: 0.0164 - val_loss: 0.0726 - val_nmse: 0.1906\n",
      "Epoch 145/300\n",
      "5/5 [==============================] - 27s 5s/step - loss: 0.0064 - nmse: 0.0161 - val_loss: 0.0705 - val_nmse: 0.1852\n",
      "Epoch 146/300\n",
      "5/5 [==============================] - 27s 5s/step - loss: 0.0061 - nmse: 0.0153 - val_loss: 0.0703 - val_nmse: 0.1846\n",
      "Epoch 147/300\n",
      "5/5 [==============================] - 25s 5s/step - loss: 0.0062 - nmse: 0.0154 - val_loss: 0.0730 - val_nmse: 0.1917\n",
      "Epoch 148/300\n",
      "5/5 [==============================] - 27s 6s/step - loss: 0.0068 - nmse: 0.0173 - val_loss: 0.0710 - val_nmse: 0.1866\n",
      "Epoch 149/300\n",
      "5/5 [==============================] - 26s 5s/step - loss: 0.0066 - nmse: 0.0169 - val_loss: 0.0740 - val_nmse: 0.1944\n",
      "Epoch 150/300\n",
      "5/5 [==============================] - 27s 6s/step - loss: 0.0066 - nmse: 0.0166 - val_loss: 0.0724 - val_nmse: 0.1901\n",
      "Epoch 151/300\n",
      "5/5 [==============================] - 24s 5s/step - loss: 0.0065 - nmse: 0.0165 - val_loss: 0.0692 - val_nmse: 0.1816\n",
      "Epoch 152/300\n",
      "5/5 [==============================] - 24s 5s/step - loss: 0.0066 - nmse: 0.0168 - val_loss: 0.0738 - val_nmse: 0.1937\n",
      "Epoch 153/300\n",
      "5/5 [==============================] - 24s 5s/step - loss: 0.0070 - nmse: 0.0178 - val_loss: 0.0699 - val_nmse: 0.1836\n",
      "Epoch 154/300\n",
      "5/5 [==============================] - 35s 7s/step - loss: 0.0064 - nmse: 0.0162 - val_loss: 0.0711 - val_nmse: 0.1866\n",
      "Epoch 155/300\n",
      "5/5 [==============================] - 28s 5s/step - loss: 0.0062 - nmse: 0.0155 - val_loss: 0.0718 - val_nmse: 0.1886\n",
      "Epoch 156/300\n",
      "5/5 [==============================] - 27s 5s/step - loss: 0.0059 - nmse: 0.0150 - val_loss: 0.0705 - val_nmse: 0.1851\n",
      "Epoch 157/300\n",
      "5/5 [==============================] - 25s 5s/step - loss: 0.0058 - nmse: 0.0149 - val_loss: 0.0702 - val_nmse: 0.1843\n",
      "Epoch 158/300\n",
      "5/5 [==============================] - 24s 5s/step - loss: 0.0058 - nmse: 0.0144 - val_loss: 0.0736 - val_nmse: 0.1933\n",
      "Epoch 159/300\n",
      "5/5 [==============================] - 24s 5s/step - loss: 0.0060 - nmse: 0.0152 - val_loss: 0.0699 - val_nmse: 0.1835\n",
      "Epoch 160/300\n",
      "5/5 [==============================] - 24s 5s/step - loss: 0.0059 - nmse: 0.0150 - val_loss: 0.0708 - val_nmse: 0.1860\n",
      "Epoch 161/300\n",
      "5/5 [==============================] - 25s 5s/step - loss: 0.0057 - nmse: 0.0143 - val_loss: 0.0740 - val_nmse: 0.1944\n",
      "Epoch 162/300\n",
      "5/5 [==============================] - 24s 5s/step - loss: 0.0059 - nmse: 0.0151 - val_loss: 0.0699 - val_nmse: 0.1837\n",
      "Epoch 163/300\n",
      "5/5 [==============================] - 24s 5s/step - loss: 0.0057 - nmse: 0.0149 - val_loss: 0.0720 - val_nmse: 0.1890\n",
      "Epoch 164/300\n",
      "5/5 [==============================] - 25s 5s/step - loss: 0.0057 - nmse: 0.0144 - val_loss: 0.0739 - val_nmse: 0.1940\n",
      "Epoch 165/300\n",
      "5/5 [==============================] - 31s 6s/step - loss: 0.0059 - nmse: 0.0147 - val_loss: 0.0721 - val_nmse: 0.1895\n",
      "Epoch 166/300\n",
      "5/5 [==============================] - 33s 6s/step - loss: 0.0055 - nmse: 0.0138 - val_loss: 0.0712 - val_nmse: 0.1871\n",
      "Epoch 167/300\n",
      "5/5 [==============================] - 40s 8s/step - loss: 0.0057 - nmse: 0.0142 - val_loss: 0.0729 - val_nmse: 0.1915\n",
      "Epoch 168/300\n",
      "5/5 [==============================] - 40s 8s/step - loss: 0.0056 - nmse: 0.0143 - val_loss: 0.0710 - val_nmse: 0.1863\n",
      "Epoch 169/300\n",
      "5/5 [==============================] - 27s 5s/step - loss: 0.0059 - nmse: 0.0151 - val_loss: 0.0700 - val_nmse: 0.1837\n",
      "Epoch 170/300\n",
      "5/5 [==============================] - 26s 5s/step - loss: 0.0062 - nmse: 0.0152 - val_loss: 0.0720 - val_nmse: 0.1890\n",
      "Epoch 171/300\n",
      "5/5 [==============================] - 26s 5s/step - loss: 0.0069 - nmse: 0.0173 - val_loss: 0.0715 - val_nmse: 0.1879\n",
      "Epoch 172/300\n",
      "5/5 [==============================] - 26s 5s/step - loss: 0.0061 - nmse: 0.0153 - val_loss: 0.0721 - val_nmse: 0.1894\n",
      "Epoch 173/300\n",
      "5/5 [==============================] - 26s 5s/step - loss: 0.0059 - nmse: 0.0149 - val_loss: 0.0729 - val_nmse: 0.1916\n",
      "Epoch 174/300\n",
      "5/5 [==============================] - 26s 5s/step - loss: 0.0062 - nmse: 0.0157 - val_loss: 0.0691 - val_nmse: 0.1815\n",
      "Epoch 175/300\n",
      "5/5 [==============================] - 26s 5s/step - loss: 0.0057 - nmse: 0.0148 - val_loss: 0.0718 - val_nmse: 0.1886\n",
      "Epoch 176/300\n",
      "5/5 [==============================] - 31s 6s/step - loss: 0.0053 - nmse: 0.0133 - val_loss: 0.0713 - val_nmse: 0.1873\n",
      "Epoch 177/300\n",
      "5/5 [==============================] - 37s 7s/step - loss: 0.0053 - nmse: 0.0133 - val_loss: 0.0702 - val_nmse: 0.1843\n",
      "Epoch 178/300\n",
      "5/5 [==============================] - 39s 8s/step - loss: 0.0051 - nmse: 0.0126 - val_loss: 0.0703 - val_nmse: 0.1845\n",
      "Epoch 179/300\n",
      "5/5 [==============================] - 28s 5s/step - loss: 0.0050 - nmse: 0.0127 - val_loss: 0.0708 - val_nmse: 0.1860\n",
      "Epoch 180/300\n",
      "5/5 [==============================] - 27s 5s/step - loss: 0.0049 - nmse: 0.0123 - val_loss: 0.0722 - val_nmse: 0.1898\n",
      "Epoch 181/300\n",
      "5/5 [==============================] - 26s 5s/step - loss: 0.0051 - nmse: 0.0126 - val_loss: 0.0713 - val_nmse: 0.1874\n",
      "Epoch 182/300\n",
      "5/5 [==============================] - 27s 5s/step - loss: 0.0048 - nmse: 0.0123 - val_loss: 0.0728 - val_nmse: 0.1912\n",
      "Epoch 183/300\n",
      "5/5 [==============================] - 27s 5s/step - loss: 0.0052 - nmse: 0.0134 - val_loss: 0.0724 - val_nmse: 0.1901\n",
      "Epoch 184/300\n",
      "5/5 [==============================] - 27s 5s/step - loss: 0.0054 - nmse: 0.0134 - val_loss: 0.0707 - val_nmse: 0.1856\n",
      "Epoch 185/300\n",
      "5/5 [==============================] - 26s 5s/step - loss: 0.0053 - nmse: 0.0135 - val_loss: 0.0710 - val_nmse: 0.1865\n",
      "Epoch 186/300\n",
      "5/5 [==============================] - 26s 5s/step - loss: 0.0053 - nmse: 0.0137 - val_loss: 0.0746 - val_nmse: 0.1961\n",
      "Epoch 187/300\n",
      "5/5 [==============================] - 26s 5s/step - loss: 0.0058 - nmse: 0.0147 - val_loss: 0.0703 - val_nmse: 0.1846\n",
      "Epoch 188/300\n",
      "5/5 [==============================] - 26s 5s/step - loss: 0.0048 - nmse: 0.0123 - val_loss: 0.0707 - val_nmse: 0.1859\n",
      "Epoch 189/300\n",
      "5/5 [==============================] - 26s 5s/step - loss: 0.0046 - nmse: 0.0117 - val_loss: 0.0715 - val_nmse: 0.1879\n",
      "Epoch 190/300\n",
      "5/5 [==============================] - 28s 6s/step - loss: 0.0045 - nmse: 0.0114 - val_loss: 0.0715 - val_nmse: 0.1879\n",
      "Epoch 191/300\n",
      "5/5 [==============================] - 26s 5s/step - loss: 0.0046 - nmse: 0.0119 - val_loss: 0.0725 - val_nmse: 0.1904\n",
      "Epoch 192/300\n",
      "5/5 [==============================] - 26s 5s/step - loss: 0.0047 - nmse: 0.0119 - val_loss: 0.0699 - val_nmse: 0.1836\n",
      "Epoch 193/300\n",
      "5/5 [==============================] - 27s 5s/step - loss: 0.0048 - nmse: 0.0124 - val_loss: 0.0735 - val_nmse: 0.1932\n",
      "Epoch 194/300\n",
      "5/5 [==============================] - 26s 5s/step - loss: 0.0052 - nmse: 0.0131 - val_loss: 0.0736 - val_nmse: 0.1934\n",
      "Epoch 195/300\n",
      "5/5 [==============================] - 24s 5s/step - loss: 0.0052 - nmse: 0.0132 - val_loss: 0.0699 - val_nmse: 0.1835\n",
      "Epoch 196/300\n",
      "5/5 [==============================] - 24s 5s/step - loss: 0.0054 - nmse: 0.0136 - val_loss: 0.0720 - val_nmse: 0.1891\n",
      "Epoch 197/300\n",
      "5/5 [==============================] - 25s 5s/step - loss: 0.0048 - nmse: 0.0120 - val_loss: 0.0701 - val_nmse: 0.1841\n",
      "Epoch 198/300\n",
      "5/5 [==============================] - 25s 5s/step - loss: 0.0048 - nmse: 0.0122 - val_loss: 0.0715 - val_nmse: 0.1878\n",
      "Epoch 199/300\n",
      "5/5 [==============================] - 25s 5s/step - loss: 0.0047 - nmse: 0.0120 - val_loss: 0.0702 - val_nmse: 0.1845\n",
      "Epoch 200/300\n",
      "5/5 [==============================] - 28s 6s/step - loss: 0.0046 - nmse: 0.0117 - val_loss: 0.0722 - val_nmse: 0.1896\n",
      "Epoch 201/300\n",
      "5/5 [==============================] - 26s 5s/step - loss: 0.0045 - nmse: 0.0113 - val_loss: 0.0713 - val_nmse: 0.1871\n",
      "Epoch 202/300\n",
      "5/5 [==============================] - 25s 5s/step - loss: 0.0048 - nmse: 0.0123 - val_loss: 0.0714 - val_nmse: 0.1874\n",
      "Epoch 203/300\n",
      "5/5 [==============================] - 25s 5s/step - loss: 0.0047 - nmse: 0.0117 - val_loss: 0.0701 - val_nmse: 0.1840\n",
      "Epoch 204/300\n",
      "5/5 [==============================] - 25s 5s/step - loss: 0.0042 - nmse: 0.0107 - val_loss: 0.0709 - val_nmse: 0.1861\n",
      "Epoch 205/300\n",
      "5/5 [==============================] - 26s 5s/step - loss: 0.0043 - nmse: 0.0109 - val_loss: 0.0709 - val_nmse: 0.1862\n",
      "Epoch 206/300\n",
      "5/5 [==============================] - 26s 5s/step - loss: 0.0043 - nmse: 0.0108 - val_loss: 0.0707 - val_nmse: 0.1857\n",
      "Epoch 207/300\n",
      "5/5 [==============================] - 25s 5s/step - loss: 0.0041 - nmse: 0.0103 - val_loss: 0.0710 - val_nmse: 0.1864\n",
      "Epoch 208/300\n",
      "5/5 [==============================] - 25s 5s/step - loss: 0.0040 - nmse: 0.0102 - val_loss: 0.0715 - val_nmse: 0.1879\n",
      "Epoch 209/300\n",
      "5/5 [==============================] - 25s 5s/step - loss: 0.0041 - nmse: 0.0104 - val_loss: 0.0708 - val_nmse: 0.1860\n",
      "Epoch 210/300\n",
      "5/5 [==============================] - 25s 5s/step - loss: 0.0040 - nmse: 0.0100 - val_loss: 0.0694 - val_nmse: 0.1823\n",
      "Epoch 211/300\n",
      "5/5 [==============================] - 25s 5s/step - loss: 0.0040 - nmse: 0.0102 - val_loss: 0.0724 - val_nmse: 0.1900\n",
      "Epoch 212/300\n",
      "5/5 [==============================] - 25s 5s/step - loss: 0.0043 - nmse: 0.0111 - val_loss: 0.0706 - val_nmse: 0.1853\n",
      "Epoch 213/300\n",
      "5/5 [==============================] - 25s 5s/step - loss: 0.0041 - nmse: 0.0104 - val_loss: 0.0708 - val_nmse: 0.1858\n",
      "Epoch 214/300\n",
      "5/5 [==============================] - 25s 5s/step - loss: 0.0039 - nmse: 0.0099 - val_loss: 0.0710 - val_nmse: 0.1863\n",
      "Epoch 215/300\n",
      "5/5 [==============================] - 24s 5s/step - loss: 0.0040 - nmse: 0.0103 - val_loss: 0.0705 - val_nmse: 0.1850\n",
      "Epoch 216/300\n",
      "5/5 [==============================] - 25s 5s/step - loss: 0.0041 - nmse: 0.0105 - val_loss: 0.0709 - val_nmse: 0.1861\n",
      "Epoch 217/300\n",
      "5/5 [==============================] - 25s 5s/step - loss: 0.0041 - nmse: 0.0104 - val_loss: 0.0711 - val_nmse: 0.1867\n",
      "Epoch 218/300\n",
      "5/5 [==============================] - 25s 5s/step - loss: 0.0041 - nmse: 0.0103 - val_loss: 0.0704 - val_nmse: 0.1849\n",
      "Epoch 219/300\n",
      "5/5 [==============================] - 25s 5s/step - loss: 0.0039 - nmse: 0.0098 - val_loss: 0.0706 - val_nmse: 0.1855\n",
      "Epoch 220/300\n",
      "5/5 [==============================] - 24s 5s/step - loss: 0.0037 - nmse: 0.0093 - val_loss: 0.0702 - val_nmse: 0.1843\n",
      "Epoch 221/300\n",
      "5/5 [==============================] - 24s 5s/step - loss: 0.0036 - nmse: 0.0090 - val_loss: 0.0709 - val_nmse: 0.1862\n",
      "Epoch 222/300\n",
      "5/5 [==============================] - 25s 5s/step - loss: 0.0036 - nmse: 0.0093 - val_loss: 0.0716 - val_nmse: 0.1881\n",
      "Epoch 223/300\n",
      "5/5 [==============================] - 25s 5s/step - loss: 0.0039 - nmse: 0.0101 - val_loss: 0.0715 - val_nmse: 0.1879\n",
      "Epoch 224/300\n",
      "5/5 [==============================] - 25s 5s/step - loss: 0.0046 - nmse: 0.0114 - val_loss: 0.0710 - val_nmse: 0.1864\n",
      "Epoch 225/300\n",
      "5/5 [==============================] - 24s 5s/step - loss: 0.0041 - nmse: 0.0108 - val_loss: 0.0714 - val_nmse: 0.1874\n",
      "Epoch 226/300\n",
      "5/5 [==============================] - 25s 5s/step - loss: 0.0046 - nmse: 0.0117 - val_loss: 0.0723 - val_nmse: 0.1897\n",
      "Epoch 227/300\n",
      "5/5 [==============================] - 24s 5s/step - loss: 0.0043 - nmse: 0.0111 - val_loss: 0.0709 - val_nmse: 0.1864\n",
      "Epoch 228/300\n",
      "5/5 [==============================] - 25s 5s/step - loss: 0.0045 - nmse: 0.0116 - val_loss: 0.0708 - val_nmse: 0.1859\n",
      "Epoch 229/300\n",
      "5/5 [==============================] - 25s 5s/step - loss: 0.0045 - nmse: 0.0112 - val_loss: 0.0701 - val_nmse: 0.1840\n",
      "Epoch 230/300\n",
      "5/5 [==============================] - 24s 5s/step - loss: 0.0040 - nmse: 0.0101 - val_loss: 0.0708 - val_nmse: 0.1860\n",
      "Epoch 231/300\n",
      "5/5 [==============================] - 24s 5s/step - loss: 0.0038 - nmse: 0.0096 - val_loss: 0.0696 - val_nmse: 0.1828\n",
      "Epoch 232/300\n",
      "5/5 [==============================] - 24s 5s/step - loss: 0.0037 - nmse: 0.0094 - val_loss: 0.0698 - val_nmse: 0.1834\n",
      "Epoch 233/300\n",
      "5/5 [==============================] - 28s 6s/step - loss: 0.0040 - nmse: 0.0102 - val_loss: 0.0702 - val_nmse: 0.1844\n",
      "Epoch 234/300\n",
      "5/5 [==============================] - 26s 5s/step - loss: 0.0038 - nmse: 0.0096 - val_loss: 0.0708 - val_nmse: 0.1860\n",
      "Epoch 235/300\n",
      "5/5 [==============================] - 25s 5s/step - loss: 0.0040 - nmse: 0.0101 - val_loss: 0.0697 - val_nmse: 0.1830\n",
      "Epoch 236/300\n",
      "5/5 [==============================] - 27s 5s/step - loss: 0.0041 - nmse: 0.0102 - val_loss: 0.0720 - val_nmse: 0.1892\n",
      "Epoch 237/300\n",
      "5/5 [==============================] - 27s 5s/step - loss: 0.0038 - nmse: 0.0095 - val_loss: 0.0699 - val_nmse: 0.1836\n",
      "Epoch 238/300\n",
      "5/5 [==============================] - 28s 5s/step - loss: 0.0037 - nmse: 0.0093 - val_loss: 0.0702 - val_nmse: 0.1843\n",
      "Epoch 239/300\n",
      "5/5 [==============================] - 28s 6s/step - loss: 0.0036 - nmse: 0.0092 - val_loss: 0.0710 - val_nmse: 0.1864\n",
      "Epoch 240/300\n",
      "5/5 [==============================] - 25s 5s/step - loss: 0.0036 - nmse: 0.0088 - val_loss: 0.0693 - val_nmse: 0.1819\n",
      "Epoch 241/300\n",
      "5/5 [==============================] - 25s 5s/step - loss: 0.0034 - nmse: 0.0085 - val_loss: 0.0718 - val_nmse: 0.1884\n",
      "Epoch 242/300\n",
      "5/5 [==============================] - 25s 5s/step - loss: 0.0033 - nmse: 0.0081 - val_loss: 0.0704 - val_nmse: 0.1848\n",
      "Epoch 243/300\n",
      "5/5 [==============================] - 25s 5s/step - loss: 0.0033 - nmse: 0.0083 - val_loss: 0.0699 - val_nmse: 0.1836\n",
      "Epoch 244/300\n",
      "5/5 [==============================] - 30s 6s/step - loss: 0.0032 - nmse: 0.0081 - val_loss: 0.0726 - val_nmse: 0.1907\n",
      "Epoch 245/300\n",
      "5/5 [==============================] - 33s 7s/step - loss: 0.0037 - nmse: 0.0093 - val_loss: 0.0707 - val_nmse: 0.1856\n",
      "Epoch 246/300\n",
      "5/5 [==============================] - 29s 6s/step - loss: 0.0035 - nmse: 0.0089 - val_loss: 0.0706 - val_nmse: 0.1853\n",
      "Epoch 247/300\n",
      "5/5 [==============================] - 26s 5s/step - loss: 0.0033 - nmse: 0.0082 - val_loss: 0.0708 - val_nmse: 0.1859\n",
      "Epoch 248/300\n",
      "5/5 [==============================] - 25s 5s/step - loss: 0.0034 - nmse: 0.0084 - val_loss: 0.0705 - val_nmse: 0.1851\n",
      "Epoch 249/300\n",
      "5/5 [==============================] - 25s 5s/step - loss: 0.0031 - nmse: 0.0078 - val_loss: 0.0711 - val_nmse: 0.1867\n",
      "Epoch 250/300\n",
      "5/5 [==============================] - 25s 5s/step - loss: 0.0031 - nmse: 0.0076 - val_loss: 0.0696 - val_nmse: 0.1828\n",
      "Epoch 251/300\n",
      "5/5 [==============================] - 26s 5s/step - loss: 0.0031 - nmse: 0.0075 - val_loss: 0.0705 - val_nmse: 0.1851\n",
      "Epoch 252/300\n",
      "5/5 [==============================] - 28s 5s/step - loss: 0.0029 - nmse: 0.0074 - val_loss: 0.0715 - val_nmse: 0.1877\n",
      "Epoch 253/300\n",
      "5/5 [==============================] - 25s 5s/step - loss: 0.0030 - nmse: 0.0076 - val_loss: 0.0705 - val_nmse: 0.1851\n",
      "Epoch 254/300\n",
      "5/5 [==============================] - 26s 5s/step - loss: 0.0031 - nmse: 0.0080 - val_loss: 0.0714 - val_nmse: 0.1876\n",
      "Epoch 255/300\n",
      "5/5 [==============================] - 25s 5s/step - loss: 0.0041 - nmse: 0.0103 - val_loss: 0.0715 - val_nmse: 0.1879\n",
      "Epoch 256/300\n",
      "5/5 [==============================] - 25s 5s/step - loss: 0.0033 - nmse: 0.0084 - val_loss: 0.0695 - val_nmse: 0.1824\n",
      "Epoch 257/300\n",
      "5/5 [==============================] - 24s 5s/step - loss: 0.0036 - nmse: 0.0093 - val_loss: 0.0729 - val_nmse: 0.1915\n",
      "Epoch 258/300\n",
      "5/5 [==============================] - 25s 5s/step - loss: 0.0036 - nmse: 0.0089 - val_loss: 0.0696 - val_nmse: 0.1827\n",
      "Epoch 259/300\n",
      "5/5 [==============================] - 25s 5s/step - loss: 0.0034 - nmse: 0.0086 - val_loss: 0.0718 - val_nmse: 0.1886\n",
      "Epoch 260/300\n",
      "5/5 [==============================] - 25s 5s/step - loss: 0.0036 - nmse: 0.0090 - val_loss: 0.0699 - val_nmse: 0.1836\n",
      "Epoch 261/300\n",
      "5/5 [==============================] - 25s 5s/step - loss: 0.0038 - nmse: 0.0098 - val_loss: 0.0728 - val_nmse: 0.1912\n",
      "Epoch 262/300\n",
      "5/5 [==============================] - 25s 5s/step - loss: 0.0041 - nmse: 0.0102 - val_loss: 0.0724 - val_nmse: 0.1900\n",
      "Epoch 263/300\n",
      "5/5 [==============================] - 25s 5s/step - loss: 0.0039 - nmse: 0.0097 - val_loss: 0.0700 - val_nmse: 0.1838\n",
      "Epoch 264/300\n",
      "5/5 [==============================] - 25s 5s/step - loss: 0.0033 - nmse: 0.0085 - val_loss: 0.0715 - val_nmse: 0.1877\n",
      "Epoch 265/300\n",
      "5/5 [==============================] - 25s 5s/step - loss: 0.0035 - nmse: 0.0087 - val_loss: 0.0711 - val_nmse: 0.1868\n",
      "Epoch 266/300\n",
      "5/5 [==============================] - 25s 5s/step - loss: 0.0033 - nmse: 0.0083 - val_loss: 0.0709 - val_nmse: 0.1861\n",
      "Epoch 267/300\n",
      "5/5 [==============================] - 25s 5s/step - loss: 0.0033 - nmse: 0.0084 - val_loss: 0.0701 - val_nmse: 0.1841\n",
      "Epoch 268/300\n",
      "5/5 [==============================] - 25s 5s/step - loss: 0.0032 - nmse: 0.0079 - val_loss: 0.0699 - val_nmse: 0.1837\n",
      "Epoch 269/300\n",
      "5/5 [==============================] - 25s 5s/step - loss: 0.0030 - nmse: 0.0076 - val_loss: 0.0710 - val_nmse: 0.1864\n",
      "Epoch 270/300\n",
      "5/5 [==============================] - 25s 5s/step - loss: 0.0031 - nmse: 0.0078 - val_loss: 0.0715 - val_nmse: 0.1878\n",
      "Epoch 271/300\n",
      "5/5 [==============================] - 25s 5s/step - loss: 0.0031 - nmse: 0.0078 - val_loss: 0.0700 - val_nmse: 0.1839\n",
      "Epoch 272/300\n",
      "5/5 [==============================] - 25s 5s/step - loss: 0.0031 - nmse: 0.0078 - val_loss: 0.0715 - val_nmse: 0.1879\n",
      "Epoch 273/300\n",
      "5/5 [==============================] - 25s 5s/step - loss: 0.0031 - nmse: 0.0078 - val_loss: 0.0710 - val_nmse: 0.1866\n",
      "Epoch 274/300\n",
      "5/5 [==============================] - 25s 5s/step - loss: 0.0031 - nmse: 0.0079 - val_loss: 0.0698 - val_nmse: 0.1832\n",
      "Epoch 275/300\n",
      "5/5 [==============================] - 25s 5s/step - loss: 0.0031 - nmse: 0.0077 - val_loss: 0.0704 - val_nmse: 0.1849\n",
      "Epoch 276/300\n",
      "5/5 [==============================] - 26s 5s/step - loss: 0.0031 - nmse: 0.0078 - val_loss: 0.0707 - val_nmse: 0.1858\n",
      "Epoch 277/300\n",
      "5/5 [==============================] - 25s 5s/step - loss: 0.0029 - nmse: 0.0075 - val_loss: 0.0700 - val_nmse: 0.1837\n",
      "Epoch 278/300\n",
      "5/5 [==============================] - 25s 5s/step - loss: 0.0031 - nmse: 0.0078 - val_loss: 0.0724 - val_nmse: 0.1903\n",
      "Epoch 279/300\n",
      "5/5 [==============================] - 25s 5s/step - loss: 0.0032 - nmse: 0.0079 - val_loss: 0.0701 - val_nmse: 0.1842\n",
      "Epoch 280/300\n",
      "5/5 [==============================] - 25s 5s/step - loss: 0.0029 - nmse: 0.0074 - val_loss: 0.0713 - val_nmse: 0.1873\n",
      "Epoch 281/300\n",
      "5/5 [==============================] - 25s 5s/step - loss: 0.0028 - nmse: 0.0069 - val_loss: 0.0705 - val_nmse: 0.1851\n",
      "Epoch 282/300\n",
      "5/5 [==============================] - 25s 5s/step - loss: 0.0026 - nmse: 0.0067 - val_loss: 0.0692 - val_nmse: 0.1816\n",
      "Epoch 283/300\n",
      "5/5 [==============================] - 25s 5s/step - loss: 0.0028 - nmse: 0.0071 - val_loss: 0.0709 - val_nmse: 0.1863\n",
      "Epoch 284/300\n",
      "5/5 [==============================] - 25s 5s/step - loss: 0.0028 - nmse: 0.0070 - val_loss: 0.0713 - val_nmse: 0.1872\n",
      "Epoch 285/300\n",
      "5/5 [==============================] - 25s 5s/step - loss: 0.0028 - nmse: 0.0072 - val_loss: 0.0699 - val_nmse: 0.1837\n",
      "Epoch 286/300\n",
      "5/5 [==============================] - 25s 5s/step - loss: 0.0032 - nmse: 0.0081 - val_loss: 0.0723 - val_nmse: 0.1898\n",
      "Epoch 287/300\n",
      "5/5 [==============================] - 25s 5s/step - loss: 0.0029 - nmse: 0.0073 - val_loss: 0.0703 - val_nmse: 0.1845\n",
      "Epoch 288/300\n",
      "5/5 [==============================] - 25s 5s/step - loss: 0.0025 - nmse: 0.0064 - val_loss: 0.0708 - val_nmse: 0.1859\n",
      "Epoch 289/300\n",
      "5/5 [==============================] - 25s 5s/step - loss: 0.0027 - nmse: 0.0069 - val_loss: 0.0703 - val_nmse: 0.1847\n",
      "Epoch 290/300\n",
      "5/5 [==============================] - 25s 5s/step - loss: 0.0031 - nmse: 0.0078 - val_loss: 0.0721 - val_nmse: 0.1893\n",
      "Epoch 291/300\n",
      "5/5 [==============================] - 25s 5s/step - loss: 0.0029 - nmse: 0.0073 - val_loss: 0.0702 - val_nmse: 0.1844\n",
      "Epoch 292/300\n",
      "5/5 [==============================] - 25s 5s/step - loss: 0.0027 - nmse: 0.0070 - val_loss: 0.0706 - val_nmse: 0.1855\n",
      "Epoch 293/300\n",
      "5/5 [==============================] - 25s 5s/step - loss: 0.0028 - nmse: 0.0072 - val_loss: 0.0718 - val_nmse: 0.1885\n",
      "Epoch 294/300\n",
      "5/5 [==============================] - 26s 5s/step - loss: 0.0032 - nmse: 0.0082 - val_loss: 0.0716 - val_nmse: 0.1881\n",
      "Epoch 295/300\n",
      "5/5 [==============================] - 25s 5s/step - loss: 0.0037 - nmse: 0.0092 - val_loss: 0.0695 - val_nmse: 0.1826\n",
      "Epoch 296/300\n",
      "5/5 [==============================] - 25s 5s/step - loss: 0.0039 - nmse: 0.0099 - val_loss: 0.0709 - val_nmse: 0.1862\n",
      "Epoch 297/300\n",
      "5/5 [==============================] - 25s 5s/step - loss: 0.0041 - nmse: 0.0108 - val_loss: 0.0732 - val_nmse: 0.1923\n",
      "Epoch 298/300\n",
      "5/5 [==============================] - 25s 5s/step - loss: 0.0051 - nmse: 0.0128 - val_loss: 0.0717 - val_nmse: 0.1883\n",
      "Epoch 299/300\n",
      "5/5 [==============================] - 25s 5s/step - loss: 0.0048 - nmse: 0.0121 - val_loss: 0.0699 - val_nmse: 0.1835\n",
      "Epoch 300/300\n",
      "5/5 [==============================] - 25s 5s/step - loss: 0.0035 - nmse: 0.0090 - val_loss: 0.0695 - val_nmse: 0.1825\n",
      "Tiempo total de entrenamiento: 132.00 minutos.\n"
     ]
    }
   ],
   "source": [
    "start_time = time.time()\n",
    "#history = model.fit(X, Y, epochs=max_epoch, batch_size=batchsize, callbacks=[lr_scheduler], validation_split=validation_split)\n",
    "history = model.fit(X, Y, epochs=max_epoch, batch_size=batchsize, validation_split=validation_split)\n",
    "end_time = time.time()\n",
    "total_time = end_time - start_time\n",
    "min_time = total_time / 60\n",
    "print(f'Tiempo total de entrenamiento: {min_time:.2f} minutos.')"
   ]
  },
  {
   "cell_type": "markdown",
   "metadata": {},
   "source": [
    "#########################################################################################################<br>\n",
    "#########################################################################################################<br>\n",
    "#########################################################################################################"
   ]
  },
  {
   "cell_type": "markdown",
   "metadata": {},
   "source": [
    "Visualizar el NMSE"
   ]
  },
  {
   "cell_type": "code",
   "execution_count": 27,
   "metadata": {},
   "outputs": [
    {
     "data": {
      "image/png": "[encoded data removed]",
      "text/plain": [
       "<Figure size 640x480 with 1 Axes>"
      ]
     },
     "metadata": {},
     "output_type": "display_data"
    }
   ],
   "source": [
    "plt.plot(history.history['nmse'], label='NMSE (entrenamiento)')\n",
    "plt.plot(history.history['val_nmse'], label='NMSE (validacion)')\n",
    "plt.xlabel('Epoca')\n",
    "plt.ylabel('NMSE')\n",
    "plt.legend()\n",
    "plt.show()"
   ]
  },
  {
   "cell_type": "markdown",
   "metadata": {},
   "source": [
    "**Guardar modelo**"
   ]
  },
  {
   "cell_type": "code",
   "execution_count": 28,
   "metadata": {},
   "outputs": [],
   "source": [
    "# Directorio en donde se almacenara el modelo\n",
    "save_dir = 'D:/TT/Memoria/waveletycnn/codigo_python/modelos_generados'\n",
    "os.makedirs(save_dir, exist_ok=True)  # Crear el directorio si no existe\n",
    "\n",
    "# Nombre del archivo del modelo\n",
    "model_name = 'unet_model_decay_coseno_with_normalization_zcore_7.keras'\n",
    "\n",
    "# Ruta completa del archivo\n",
    "model_path = os.path.join(save_dir, model_name)\n",
    "\n",
    "# Guardar el modelo entrenado\n",
    "model.save(model_path)"
   ]
  },
  {
   "cell_type": "markdown",
   "metadata": {},
   "source": [
    "**PREDECIR UNA SEÑAL VSC A PARTIR DE UNA SEÑAL PAM**"
   ]
  },
  {
   "cell_type": "code",
   "execution_count": null,
   "metadata": {},
   "outputs": [],
   "source": [
    "# Funcion para predecir con el modelo entrenado\n",
    "def predict_with_model(model, input_data):\n",
    "    prediction = model.predict(input_data)\n",
    "    return prediction\n"
   ]
  },
  {
   "cell_type": "code",
   "execution_count": null,
   "metadata": {},
   "outputs": [],
   "source": [
    "# Cargar una matriz de entrada para hacer una predicción \n",
    "input_matrix = X[0:1] \n",
    "\n",
    "# Realizar la predicción\n",
    "predicted_output = predict_with_model(model, input_matrix)\n",
    "\n",
    "# Mostrar la predicción\n",
    "print(\"Predicción de la primera muestra de entrada:\")\n",
    "print(predicted_output)"
   ]
  }
 ],
 "metadata": {
  "kernelspec": {
   "display_name": "Python 3 (ipykernel)",
   "language": "python",
   "name": "python3"
  },
  "language_info": {
   "codemirror_mode": {
    "name": "ipython",
    "version": 3
   },
   "file_extension": ".py",
   "mimetype": "text/x-python",
   "name": "python",
   "nbconvert_exporter": "python",
   "pygments_lexer": "ipython3",
   "version": "3.8.0"
  }
 },
 "nbformat": 4,
 "nbformat_minor": 4
}
