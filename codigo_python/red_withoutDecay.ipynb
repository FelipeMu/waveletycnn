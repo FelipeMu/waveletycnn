{
 "cells": [
  {
   "cell_type": "markdown",
   "metadata": {},
   "source": [
    "Librerias para trabajar con la red neuronal y procesamiento de datos"
   ]
  },
  {
   "cell_type": "code",
   "execution_count": 1,
   "metadata": {},
   "outputs": [],
   "source": [
    "import os\n",
    "import numpy as np # type: ignore\n",
    "from scipy.io import loadmat # type: ignore\n",
    "import tensorflow as tf # Para red neuronal profunda\n",
    "import numpy as np\n",
    "import matplotlib.pyplot as plt\n",
    "import time # Para tomar el tiempo de entrenamiento de la red"
   ]
  },
  {
   "cell_type": "code",
   "execution_count": 2,
   "metadata": {},
   "outputs": [],
   "source": [
    "os.environ['TF_ENABLE_ONEDNN_OPTS'] = '0'"
   ]
  },
  {
   "cell_type": "markdown",
   "metadata": {},
   "source": [
    "##################################################################################<br>\n",
    "##################### Convertir matrices de .mat a .npy ##########################<br>\n",
    "##################################################################################"
   ]
  },
  {
   "cell_type": "markdown",
   "metadata": {},
   "source": [
    "Directorios de entrada y salida"
   ]
  },
  {
   "cell_type": "code",
   "execution_count": 3,
   "metadata": {},
   "outputs": [],
   "source": [
    "input_pam_dir = 'D:/TT/Memoria/waveletycnn/codigo_matlab/codigo_fuente/matrices_complejas_pam_mat' # matrices en formato .mat\n",
    "input_vsc_dir = 'D:/TT/Memoria/waveletycnn/codigo_matlab/codigo_fuente/matrices_complejas_vsc_mat' # matrices en formato .mat\n",
    "output_pam_dir = 'D:/TT/Memoria/waveletycnn/codigo_python/matrices_complejas_pam_python' # INPUT PARA LA RED\n",
    "output_vsc_dir = 'D:/TT/Memoria/waveletycnn/codigo_python/matrices_complejas_vsc_python' # OUTPUT O SALIDAS ESPERADAS PARA LA RED"
   ]
  },
  {
   "cell_type": "markdown",
   "metadata": {},
   "source": [
    "Crear los directorios de salida si no existen"
   ]
  },
  {
   "cell_type": "code",
   "execution_count": 4,
   "metadata": {},
   "outputs": [],
   "source": [
    "os.makedirs(output_pam_dir, exist_ok=True)\n",
    "os.makedirs(output_vsc_dir, exist_ok=True)"
   ]
  },
  {
   "cell_type": "markdown",
   "metadata": {},
   "source": [
    "Funcion para convertir archivos .mat a .npy"
   ]
  },
  {
   "cell_type": "code",
   "execution_count": 5,
   "metadata": {},
   "outputs": [],
   "source": [
    "def convert_mat_to_npy(input_dir, output_dir, prefix):\n",
    "    for i in range(1, 31):\n",
    "        mat_file = os.path.join(input_dir, f'{prefix}_noise_{i}.mat')\n",
    "        npy_file = os.path.join(output_dir, f'{prefix}_noise_{i}.npy')\n",
    "        \n",
    "        # Cargar el archivo .mat\n",
    "        mat_data = loadmat(mat_file)\n",
    "        \n",
    "        # Extraer la matriz compleja\n",
    "        matrix_key = [key for key in mat_data.keys() if not key.startswith('__')][0]\n",
    "        matrix = mat_data[matrix_key]\n",
    "        \n",
    "        # Guardar la matriz en formato .npy\n",
    "        np.save(npy_file, matrix)"
   ]
  },
  {
   "cell_type": "markdown",
   "metadata": {},
   "source": [
    "Convertir archivos .mat a .npy para PAM y VSC"
   ]
  },
  {
   "cell_type": "code",
   "execution_count": 6,
   "metadata": {},
   "outputs": [],
   "source": [
    "convert_mat_to_npy(input_pam_dir, output_pam_dir, 'matrix_complex_pam')\n",
    "convert_mat_to_npy(input_vsc_dir, output_vsc_dir, 'matrix_complex_vsc')"
   ]
  },
  {
   "cell_type": "markdown",
   "metadata": {},
   "source": [
    "###################################################################################<br>\n",
    "##################### Conversion a tensor tridimensional ##########################<br>\n",
    "###################################################################################"
   ]
  },
  {
   "cell_type": "markdown",
   "metadata": {},
   "source": [
    "Directorios de entrada y salida"
   ]
  },
  {
   "cell_type": "code",
   "execution_count": 7,
   "metadata": {},
   "outputs": [],
   "source": [
    "input_pam_dir = 'D:/TT/Memoria/waveletycnn/codigo_python/matrices_complejas_pam_python'\n",
    "input_vsc_dir = 'D:/TT/Memoria/waveletycnn/codigo_python/matrices_complejas_vsc_python'\n",
    "output_pam_dir = 'D:/TT/Memoria/waveletycnn/codigo_python/matrices_complejas_pam_procesadas'\n",
    "output_vsc_dir = 'D:/TT/Memoria/waveletycnn/codigo_python/matrices_complejas_vsc_procesadas'"
   ]
  },
  {
   "cell_type": "markdown",
   "metadata": {},
   "source": [
    "Crear directorios de salida si no existen"
   ]
  },
  {
   "cell_type": "code",
   "execution_count": 8,
   "metadata": {},
   "outputs": [],
   "source": [
    "os.makedirs(output_pam_dir, exist_ok=True)\n",
    "os.makedirs(output_vsc_dir, exist_ok=True)"
   ]
  },
  {
   "cell_type": "markdown",
   "metadata": {},
   "source": [
    "Funcion para procesar las matrices complejas"
   ]
  },
  {
   "cell_type": "code",
   "execution_count": 9,
   "metadata": {},
   "outputs": [],
   "source": [
    "def procesar_matriz_compleja(matriz_compleja):\n",
    "    datos_organizados = np.stack((matriz_compleja.real, matriz_compleja.imag), axis=-1)\n",
    "    return datos_organizados"
   ]
  },
  {
   "cell_type": "markdown",
   "metadata": {},
   "source": [
    "Procesar matrices complejas en la carpeta input_pam_dir"
   ]
  },
  {
   "cell_type": "code",
   "execution_count": 10,
   "metadata": {},
   "outputs": [],
   "source": [
    "for filename in os.listdir(input_pam_dir):\n",
    "    if filename.endswith('.npy'):\n",
    "        input_path = os.path.join(input_pam_dir, filename)\n",
    "        output_path = os.path.join(output_pam_dir, filename)\n",
    "        \n",
    "        # Cargar la matriz compleja\n",
    "        matriz_compleja = np.load(input_path)\n",
    "        \n",
    "        # Procesar la matriz compleja\n",
    "        datos_organizados = procesar_matriz_compleja(matriz_compleja)\n",
    "        \n",
    "        # Guardar los datos procesados\n",
    "        np.save(output_path, datos_organizados)"
   ]
  },
  {
   "cell_type": "markdown",
   "metadata": {},
   "source": [
    "Procesar matrices complejas en la carpeta input_vsc_dir"
   ]
  },
  {
   "cell_type": "code",
   "execution_count": 11,
   "metadata": {},
   "outputs": [
    {
     "name": "stdout",
     "output_type": "stream",
     "text": [
      "Procesamiento completado.\n"
     ]
    }
   ],
   "source": [
    "for filename in os.listdir(input_vsc_dir):\n",
    "    if filename.endswith('.npy'):\n",
    "        input_path = os.path.join(input_vsc_dir, filename)\n",
    "        output_path = os.path.join(output_vsc_dir, filename)\n",
    "        \n",
    "        # Cargar la matriz compleja\n",
    "        matriz_compleja = np.load(input_path)\n",
    "        \n",
    "        # Procesar la matriz compleja\n",
    "        datos_organizados = procesar_matriz_compleja(matriz_compleja)\n",
    "        \n",
    "        # Guardar los datos procesados\n",
    "        np.save(output_path, datos_organizados)\n",
    "print(\"Procesamiento completado.\")"
   ]
  },
  {
   "cell_type": "markdown",
   "metadata": {},
   "source": [
    "###################################################################################<br>\n",
    "################## Verificacicon de \"shape\" - matrices pam y vsc ##################<br>\n",
    "###################################################################################"
   ]
  },
  {
   "cell_type": "markdown",
   "metadata": {},
   "source": [
    "Directorios de salida"
   ]
  },
  {
   "cell_type": "code",
   "execution_count": 12,
   "metadata": {},
   "outputs": [],
   "source": [
    "output_pam_dir_check = 'D:/TT/Memoria/waveletycnn/codigo_python/matrices_complejas_pam_procesadas'\n",
    "output_vsc_dir_check = 'D:/TT/Memoria/waveletycnn/codigo_python/matrices_complejas_vsc_procesadas'"
   ]
  },
  {
   "cell_type": "markdown",
   "metadata": {},
   "source": [
    "Funcion para verificar la forma de una matriz"
   ]
  },
  {
   "cell_type": "code",
   "execution_count": 13,
   "metadata": {},
   "outputs": [],
   "source": [
    "def verificar_shape(directorio, nombre_archivo):\n",
    "    path = os.path.join(directorio, nombre_archivo)\n",
    "    matriz = np.load(path)\n",
    "    return matriz.shape"
   ]
  },
  {
   "cell_type": "markdown",
   "metadata": {},
   "source": [
    "Verificar la forma de un archivo de ejemplo en output_pam_dir_check"
   ]
  },
  {
   "cell_type": "code",
   "execution_count": 14,
   "metadata": {},
   "outputs": [
    {
     "name": "stdout",
     "output_type": "stream",
     "text": [
      "Shape de matrix_complex_pam_noise_1.npy en D:/TT/Memoria/waveletycnn/codigo_python/matrices_complejas_pam_procesadas: (36, 1024, 2)\n"
     ]
    }
   ],
   "source": [
    "ejemplo_pam = os.listdir(output_pam_dir_check)[0]  # Obtener el primer archivo de la carpeta\n",
    "shape_pam = verificar_shape(output_pam_dir_check, ejemplo_pam)\n",
    "print(f\"Shape de {ejemplo_pam} en {output_pam_dir_check}: {shape_pam}\")"
   ]
  },
  {
   "cell_type": "markdown",
   "metadata": {},
   "source": [
    "Verificar la forma de un archivo de ejemplo en output_vsc_dir_check"
   ]
  },
  {
   "cell_type": "code",
   "execution_count": 15,
   "metadata": {},
   "outputs": [
    {
     "name": "stdout",
     "output_type": "stream",
     "text": [
      "Shape de matrix_complex_vsc_noise_1.npy en D:/TT/Memoria/waveletycnn/codigo_python/matrices_complejas_vsc_procesadas: (36, 1024, 2)\n"
     ]
    }
   ],
   "source": [
    "ejemplo_vsc = os.listdir(output_vsc_dir_check)[0]  # Obtener el primer archivo de la carpeta\n",
    "shape_vsc = verificar_shape(output_vsc_dir_check, ejemplo_vsc)\n",
    "print(f\"Shape de {ejemplo_vsc} en {output_vsc_dir_check}: {shape_vsc}\")"
   ]
  },
  {
   "cell_type": "markdown",
   "metadata": {},
   "source": [
    "##################################################################################<br>\n",
    "####################### Red Neuronal Profunda: U-net #############################<br>\n",
    "##################################################################################"
   ]
  },
  {
   "cell_type": "markdown",
   "metadata": {},
   "source": [
    "Directorios de entrada"
   ]
  },
  {
   "cell_type": "code",
   "execution_count": 16,
   "metadata": {},
   "outputs": [],
   "source": [
    "input_pam_dir = 'D:/TT/Memoria/waveletycnn/codigo_python/matrices_complejas_pam_procesadas'\n",
    "output_vsc_dir = 'D:/TT/Memoria/waveletycnn/codigo_python/matrices_complejas_vsc_procesadas'"
   ]
  },
  {
   "cell_type": "markdown",
   "metadata": {},
   "source": [
    "Funcion para cargar los archivos .npy"
   ]
  },
  {
   "cell_type": "code",
   "execution_count": 17,
   "metadata": {},
   "outputs": [],
   "source": [
    "def load_npy_files(input_dir):\n",
    "    files = sorted([os.path.join(input_dir, f) for f in os.listdir(input_dir) if f.endswith('.npy')])\n",
    "    data = [np.load(f) for f in files]\n",
    "    return np.array(data)"
   ]
  },
  {
   "cell_type": "markdown",
   "metadata": {},
   "source": [
    "Cargar los datos de entrada y salida"
   ]
  },
  {
   "cell_type": "code",
   "execution_count": 18,
   "metadata": {},
   "outputs": [],
   "source": [
    "X = load_npy_files(input_pam_dir) # inputs\n",
    "Y = load_npy_files(output_vsc_dir) # outputs"
   ]
  },
  {
   "cell_type": "markdown",
   "metadata": {},
   "source": [
    "Verificar las formas de los datos cargados (# entradas, filas, columnas, canales)"
   ]
  },
  {
   "cell_type": "code",
   "execution_count": 19,
   "metadata": {},
   "outputs": [
    {
     "name": "stdout",
     "output_type": "stream",
     "text": [
      "Shape de los inputs (X): (30, 36, 1024, 2)\n",
      "Shape de los outputs (Y): (30, 36, 1024, 2)\n"
     ]
    }
   ],
   "source": [
    "print(f\"Shape de los inputs (X): {X.shape}\")\n",
    "print(f\"Shape de los outputs (Y): {Y.shape}\")"
   ]
  },
  {
   "cell_type": "markdown",
   "metadata": {},
   "source": [
    "Definir la U-Net con regularizacion L2"
   ]
  },
  {
   "cell_type": "code",
   "execution_count": 20,
   "metadata": {},
   "outputs": [],
   "source": [
    "def unet_model_with_l2(input_shape, l2_lambda):\n",
    "    inputs = tf.keras.Input(shape=input_shape)\n",
    "    \n",
    "    # Regularizer\n",
    "    l2_reg = tf.keras.regularizers.l2(l2_lambda)\n",
    "    \n",
    "    # Encoder\n",
    "    c1 = tf.keras.layers.Conv2D(64, (3, 3), activation='relu', padding='same', kernel_regularizer=l2_reg)(inputs)\n",
    "    c1 = tf.keras.layers.Conv2D(64, (3, 3), activation='relu', padding='same', kernel_regularizer=l2_reg)(c1)\n",
    "    p1 = tf.keras.layers.MaxPooling2D((2, 2))(c1)\n",
    "    \n",
    "    c2 = tf.keras.layers.Conv2D(128, (3, 3), activation='relu', padding='same', kernel_regularizer=l2_reg)(p1)\n",
    "    c2 = tf.keras.layers.Conv2D(128, (3, 3), activation='relu', padding='same', kernel_regularizer=l2_reg)(c2)\n",
    "    p2 = tf.keras.layers.MaxPooling2D((2, 2))(c2)\n",
    "    \n",
    "    # Bottleneck\n",
    "    c3 = tf.keras.layers.Conv2D(256, (3, 3), activation='relu', padding='same', kernel_regularizer=l2_reg)(p2)\n",
    "    c3 = tf.keras.layers.Conv2D(256, (3, 3), activation='relu', padding='same', kernel_regularizer=l2_reg)(c3)\n",
    "    \n",
    "    # Decoder\n",
    "    u4 = tf.keras.layers.Conv2DTranspose(128, (2, 2), strides=(2, 2), padding='same')(c3)\n",
    "    u4 = tf.keras.layers.concatenate([u4, c2])\n",
    "    c4 = tf.keras.layers.Conv2D(128, (3, 3), activation='relu', padding='same', kernel_regularizer=l2_reg)(u4)\n",
    "    c4 = tf.keras.layers.Conv2D(128, (3, 3), activation='relu', padding='same', kernel_regularizer=l2_reg)(c4)\n",
    "    \n",
    "    u5 = tf.keras.layers.Conv2DTranspose(64, (2, 2), strides=(2, 2), padding='same')(c4)\n",
    "    u5 = tf.keras.layers.concatenate([u5, c1])\n",
    "    c5 = tf.keras.layers.Conv2D(64, (3, 3), activation='relu', padding='same', kernel_regularizer=l2_reg)(u5)\n",
    "    c5 = tf.keras.layers.Conv2D(64, (3, 3), activation='relu', padding='same', kernel_regularizer=l2_reg)(c5)\n",
    "    \n",
    "    outputs = tf.keras.layers.Conv2D(2, (1, 1), activation='linear')(c5)\n",
    "    \n",
    "    model = tf.keras.Model(inputs=[inputs], outputs=[outputs])\n",
    "    \n",
    "    return model"
   ]
  },
  {
   "cell_type": "markdown",
   "metadata": {},
   "source": [
    "Definir la metrica NMSE ajustada para utilizar la varianza de los valores verdaderos"
   ]
  },
  {
   "cell_type": "code",
   "execution_count": 21,
   "metadata": {},
   "outputs": [],
   "source": [
    "def nmse(y_true, y_pred):\n",
    "    mse = tf.keras.backend.mean(tf.keras.backend.square(y_true - y_pred))\n",
    "    var_true = tf.keras.backend.var(y_true)\n",
    "    return mse / var_true"
   ]
  },
  {
   "cell_type": "markdown",
   "metadata": {},
   "source": [
    "Hiperparametros"
   ]
  },
  {
   "cell_type": "code",
   "execution_count": 28,
   "metadata": {},
   "outputs": [],
   "source": [
    "max_epoch = 100\n",
    "batchsize = 8\n",
    "learning_rate = 0.001\n",
    "l2_lambda = 0.01\n",
    "validation_split = 0.3 # 70% entrenamiento & 30% validacion"
   ]
  },
  {
   "cell_type": "markdown",
   "metadata": {},
   "source": [
    "Definir el modelo"
   ]
  },
  {
   "cell_type": "code",
   "execution_count": 23,
   "metadata": {},
   "outputs": [],
   "source": [
    "input_shape = X.shape[1:]  # forma del input a entrar. en este caso esta forma debe coincidir con las matrices que entran a la red\n",
    "model = unet_model_with_l2(input_shape, l2_lambda)"
   ]
  },
  {
   "cell_type": "markdown",
   "metadata": {},
   "source": [
    "DEFINICION DE LA FUNCION DE DECAIMIENTO, ALGORITMO OPTIMIZADOR, FUNCION DE PERDIDA Y METRICA"
   ]
  },
  {
   "cell_type": "code",
   "execution_count": 24,
   "metadata": {},
   "outputs": [],
   "source": [
    "optimizer = tf.keras.optimizers.Adam(learning_rate)\n",
    "model.compile(optimizer=optimizer, loss='mean_squared_error', metrics=[nmse])"
   ]
  },
  {
   "cell_type": "markdown",
   "metadata": {},
   "source": [
    "#########################################################################################################<br>\n",
    "#########################################################################################################<br>\n",
    "#########################################################################################################"
   ]
  },
  {
   "cell_type": "markdown",
   "metadata": {},
   "source": [
    "ENTRENAMIENTO DE LA RED"
   ]
  },
  {
   "cell_type": "code",
   "execution_count": 29,
   "metadata": {},
   "outputs": [
    {
     "name": "stdout",
     "output_type": "stream",
     "text": [
      "Train on 21 samples, validate on 9 samples\n",
      "Epoch 1/100\n",
      "21/21 [==============================] - 1s 64ms/sample - loss: 0.2319 - nmse: 0.4492 - val_loss: 0.2152 - val_nmse: 0.4030\n",
      "Epoch 2/100\n",
      "21/21 [==============================] - 1s 49ms/sample - loss: 0.2310 - nmse: 0.4581 - val_loss: 0.2191 - val_nmse: 0.4144\n",
      "Epoch 3/100\n",
      "21/21 [==============================] - 1s 49ms/sample - loss: 0.2356 - nmse: 0.4638 - val_loss: 0.2246 - val_nmse: 0.4277\n",
      "Epoch 4/100\n",
      "21/21 [==============================] - 1s 49ms/sample - loss: 0.2442 - nmse: 0.4802 - val_loss: 0.2310 - val_nmse: 0.4486\n",
      "Epoch 5/100\n",
      "21/21 [==============================] - 1s 49ms/sample - loss: 0.2435 - nmse: 0.4848 - val_loss: 0.2252 - val_nmse: 0.4323\n",
      "Epoch 6/100\n",
      "21/21 [==============================] - 1s 49ms/sample - loss: 0.2372 - nmse: 0.4639 - val_loss: 0.2226 - val_nmse: 0.4250\n",
      "Epoch 7/100\n",
      "21/21 [==============================] - 1s 49ms/sample - loss: 0.2370 - nmse: 0.4675 - val_loss: 0.2201 - val_nmse: 0.4191\n",
      "Epoch 8/100\n",
      "21/21 [==============================] - 1s 49ms/sample - loss: 0.2360 - nmse: 0.4641 - val_loss: 0.2177 - val_nmse: 0.4125\n",
      "Epoch 9/100\n",
      "21/21 [==============================] - 1s 49ms/sample - loss: 0.2337 - nmse: 0.4590 - val_loss: 0.2198 - val_nmse: 0.4175\n",
      "Epoch 10/100\n",
      "21/21 [==============================] - 1s 50ms/sample - loss: 0.2347 - nmse: 0.4641 - val_loss: 0.2186 - val_nmse: 0.4146\n",
      "Epoch 11/100\n",
      "21/21 [==============================] - 1s 50ms/sample - loss: 0.2349 - nmse: 0.4585 - val_loss: 0.2142 - val_nmse: 0.4020\n",
      "Epoch 12/100\n",
      "21/21 [==============================] - 1s 50ms/sample - loss: 0.2307 - nmse: 0.4462 - val_loss: 0.2154 - val_nmse: 0.4056\n",
      "Epoch 13/100\n",
      "21/21 [==============================] - 1s 49ms/sample - loss: 0.2305 - nmse: 0.4425 - val_loss: 0.2139 - val_nmse: 0.4004\n",
      "Epoch 14/100\n",
      "21/21 [==============================] - 1s 49ms/sample - loss: 0.2304 - nmse: 0.4519 - val_loss: 0.2175 - val_nmse: 0.4089\n",
      "Epoch 15/100\n",
      "21/21 [==============================] - 1s 50ms/sample - loss: 0.2354 - nmse: 0.4647 - val_loss: 0.2300 - val_nmse: 0.4436\n",
      "Epoch 16/100\n",
      "21/21 [==============================] - 1s 50ms/sample - loss: 0.2519 - nmse: 0.5026 - val_loss: 0.2267 - val_nmse: 0.4365\n",
      "Epoch 17/100\n",
      "21/21 [==============================] - 1s 50ms/sample - loss: 0.2383 - nmse: 0.4674 - val_loss: 0.2231 - val_nmse: 0.4274\n",
      "Epoch 18/100\n",
      "21/21 [==============================] - 1s 50ms/sample - loss: 0.2365 - nmse: 0.4640 - val_loss: 0.2215 - val_nmse: 0.4227\n",
      "Epoch 19/100\n",
      "21/21 [==============================] - 1s 50ms/sample - loss: 0.2354 - nmse: 0.4623 - val_loss: 0.2191 - val_nmse: 0.4150\n",
      "Epoch 20/100\n",
      "21/21 [==============================] - 1s 50ms/sample - loss: 0.2346 - nmse: 0.4629 - val_loss: 0.2209 - val_nmse: 0.4216\n",
      "Epoch 21/100\n",
      "21/21 [==============================] - 1s 50ms/sample - loss: 0.2346 - nmse: 0.4631 - val_loss: 0.2236 - val_nmse: 0.4293\n",
      "Epoch 22/100\n",
      "21/21 [==============================] - 1s 50ms/sample - loss: 0.2363 - nmse: 0.4671 - val_loss: 0.2226 - val_nmse: 0.4251\n",
      "Epoch 23/100\n",
      "21/21 [==============================] - 1s 50ms/sample - loss: 0.2362 - nmse: 0.4643 - val_loss: 0.2171 - val_nmse: 0.4107\n",
      "Epoch 24/100\n",
      "21/21 [==============================] - 1s 50ms/sample - loss: 0.2336 - nmse: 0.4613 - val_loss: 0.2162 - val_nmse: 0.4087\n",
      "Epoch 25/100\n",
      "21/21 [==============================] - 1s 50ms/sample - loss: 0.2329 - nmse: 0.4520 - val_loss: 0.2151 - val_nmse: 0.4035\n",
      "Epoch 26/100\n",
      "21/21 [==============================] - 1s 50ms/sample - loss: 0.2312 - nmse: 0.4537 - val_loss: 0.2212 - val_nmse: 0.4214\n",
      "Epoch 27/100\n",
      "21/21 [==============================] - 1s 50ms/sample - loss: 0.2348 - nmse: 0.4624 - val_loss: 0.2203 - val_nmse: 0.4174\n",
      "Epoch 28/100\n",
      "21/21 [==============================] - 1s 50ms/sample - loss: 0.2397 - nmse: 0.4783 - val_loss: 0.2310 - val_nmse: 0.4468\n",
      "Epoch 29/100\n",
      "21/21 [==============================] - 1s 50ms/sample - loss: 0.2432 - nmse: 0.4751 - val_loss: 0.2148 - val_nmse: 0.4044\n",
      "Epoch 30/100\n",
      "21/21 [==============================] - 1s 50ms/sample - loss: 0.2342 - nmse: 0.4634 - val_loss: 0.2159 - val_nmse: 0.4073\n",
      "Epoch 31/100\n",
      "21/21 [==============================] - 1s 50ms/sample - loss: 0.2334 - nmse: 0.4582 - val_loss: 0.2186 - val_nmse: 0.4149\n",
      "Epoch 32/100\n",
      "21/21 [==============================] - 1s 50ms/sample - loss: 0.2322 - nmse: 0.4529 - val_loss: 0.2181 - val_nmse: 0.4133\n",
      "Epoch 33/100\n",
      "21/21 [==============================] - 1s 50ms/sample - loss: 0.2321 - nmse: 0.4549 - val_loss: 0.2163 - val_nmse: 0.4073\n",
      "Epoch 34/100\n",
      "21/21 [==============================] - 1s 50ms/sample - loss: 0.2328 - nmse: 0.4469 - val_loss: 0.2174 - val_nmse: 0.4110\n",
      "Epoch 35/100\n",
      "21/21 [==============================] - 1s 50ms/sample - loss: 0.2312 - nmse: 0.4592 - val_loss: 0.2215 - val_nmse: 0.4206\n",
      "Epoch 36/100\n",
      "21/21 [==============================] - 1s 50ms/sample - loss: 0.2362 - nmse: 0.4649 - val_loss: 0.2175 - val_nmse: 0.4104\n",
      "Epoch 37/100\n",
      "21/21 [==============================] - 1s 50ms/sample - loss: 0.2349 - nmse: 0.4647 - val_loss: 0.2221 - val_nmse: 0.4244\n",
      "Epoch 38/100\n",
      "21/21 [==============================] - 1s 50ms/sample - loss: 0.2362 - nmse: 0.4701 - val_loss: 0.2157 - val_nmse: 0.4062\n",
      "Epoch 39/100\n",
      "21/21 [==============================] - 1s 50ms/sample - loss: 0.2317 - nmse: 0.4494 - val_loss: 0.2156 - val_nmse: 0.4051\n",
      "Epoch 40/100\n",
      "21/21 [==============================] - 1s 50ms/sample - loss: 0.2327 - nmse: 0.4594 - val_loss: 0.2171 - val_nmse: 0.4106\n",
      "Epoch 41/100\n",
      "21/21 [==============================] - 1s 50ms/sample - loss: 0.2309 - nmse: 0.4454 - val_loss: 0.2153 - val_nmse: 0.4047\n",
      "Epoch 42/100\n",
      "21/21 [==============================] - 1s 50ms/sample - loss: 0.2312 - nmse: 0.4516 - val_loss: 0.2145 - val_nmse: 0.4018\n",
      "Epoch 43/100\n",
      "21/21 [==============================] - 1s 50ms/sample - loss: 0.2323 - nmse: 0.4575 - val_loss: 0.2202 - val_nmse: 0.4173\n",
      "Epoch 44/100\n",
      "21/21 [==============================] - 1s 50ms/sample - loss: 0.2413 - nmse: 0.4745 - val_loss: 0.2318 - val_nmse: 0.4511\n",
      "Epoch 45/100\n",
      "21/21 [==============================] - 1s 50ms/sample - loss: 0.2401 - nmse: 0.4703 - val_loss: 0.2211 - val_nmse: 0.4213\n",
      "Epoch 46/100\n",
      "21/21 [==============================] - 1s 50ms/sample - loss: 0.2351 - nmse: 0.4561 - val_loss: 0.2167 - val_nmse: 0.4099\n",
      "Epoch 47/100\n",
      "21/21 [==============================] - 1s 50ms/sample - loss: 0.2327 - nmse: 0.4490 - val_loss: 0.2136 - val_nmse: 0.3998\n",
      "Epoch 48/100\n",
      "21/21 [==============================] - 1s 50ms/sample - loss: 0.2311 - nmse: 0.4496 - val_loss: 0.2142 - val_nmse: 0.4015\n",
      "Epoch 49/100\n",
      "21/21 [==============================] - 1s 50ms/sample - loss: 0.2311 - nmse: 0.4502 - val_loss: 0.2197 - val_nmse: 0.4171\n",
      "Epoch 50/100\n",
      "21/21 [==============================] - 1s 50ms/sample - loss: 0.2362 - nmse: 0.4684 - val_loss: 0.2324 - val_nmse: 0.4516\n",
      "Epoch 51/100\n",
      "21/21 [==============================] - 1s 50ms/sample - loss: 0.2512 - nmse: 0.5009 - val_loss: 0.2251 - val_nmse: 0.4339\n",
      "Epoch 52/100\n",
      "21/21 [==============================] - 1s 50ms/sample - loss: 0.2367 - nmse: 0.4632 - val_loss: 0.2200 - val_nmse: 0.4195\n",
      "Epoch 53/100\n",
      "21/21 [==============================] - 1s 50ms/sample - loss: 0.2342 - nmse: 0.4553 - val_loss: 0.2165 - val_nmse: 0.4090\n",
      "Epoch 54/100\n",
      "21/21 [==============================] - 1s 50ms/sample - loss: 0.2324 - nmse: 0.4608 - val_loss: 0.2188 - val_nmse: 0.4163\n",
      "Epoch 55/100\n",
      "21/21 [==============================] - 1s 50ms/sample - loss: 0.2326 - nmse: 0.4619 - val_loss: 0.2201 - val_nmse: 0.4190\n",
      "Epoch 56/100\n",
      "21/21 [==============================] - 1s 50ms/sample - loss: 0.2340 - nmse: 0.4526 - val_loss: 0.2197 - val_nmse: 0.4184\n",
      "Epoch 57/100\n",
      "21/21 [==============================] - 1s 50ms/sample - loss: 0.2342 - nmse: 0.4599 - val_loss: 0.2188 - val_nmse: 0.4164\n",
      "Epoch 58/100\n",
      "21/21 [==============================] - 1s 50ms/sample - loss: 0.2337 - nmse: 0.4560 - val_loss: 0.2171 - val_nmse: 0.4096\n",
      "Epoch 59/100\n",
      "21/21 [==============================] - 1s 50ms/sample - loss: 0.2323 - nmse: 0.4600 - val_loss: 0.2170 - val_nmse: 0.4101\n",
      "Epoch 60/100\n",
      "21/21 [==============================] - 1s 50ms/sample - loss: 0.2339 - nmse: 0.4608 - val_loss: 0.2225 - val_nmse: 0.4258\n",
      "Epoch 61/100\n",
      "21/21 [==============================] - 1s 49ms/sample - loss: 0.2389 - nmse: 0.4793 - val_loss: 0.2199 - val_nmse: 0.4197\n",
      "Epoch 62/100\n",
      "21/21 [==============================] - 1s 49ms/sample - loss: 0.2333 - nmse: 0.4555 - val_loss: 0.2158 - val_nmse: 0.4081\n",
      "Epoch 63/100\n",
      "21/21 [==============================] - 1s 50ms/sample - loss: 0.2321 - nmse: 0.4484 - val_loss: 0.2159 - val_nmse: 0.4068\n",
      "Epoch 64/100\n",
      "21/21 [==============================] - 1s 50ms/sample - loss: 0.2302 - nmse: 0.4516 - val_loss: 0.2162 - val_nmse: 0.4086\n",
      "Epoch 65/100\n",
      "21/21 [==============================] - 1s 50ms/sample - loss: 0.2319 - nmse: 0.4586 - val_loss: 0.2133 - val_nmse: 0.4002\n",
      "Epoch 66/100\n",
      "21/21 [==============================] - 1s 50ms/sample - loss: 0.2289 - nmse: 0.4456 - val_loss: 0.2138 - val_nmse: 0.4011\n",
      "Epoch 67/100\n",
      "21/21 [==============================] - 1s 50ms/sample - loss: 0.2302 - nmse: 0.4478 - val_loss: 0.2147 - val_nmse: 0.4031\n",
      "Epoch 68/100\n",
      "21/21 [==============================] - 1s 50ms/sample - loss: 0.2308 - nmse: 0.4461 - val_loss: 0.2126 - val_nmse: 0.3972\n",
      "Epoch 69/100\n",
      "21/21 [==============================] - 1s 50ms/sample - loss: 0.2281 - nmse: 0.4406 - val_loss: 0.2122 - val_nmse: 0.3950\n",
      "Epoch 70/100\n",
      "21/21 [==============================] - 1s 50ms/sample - loss: 0.2288 - nmse: 0.4437 - val_loss: 0.2162 - val_nmse: 0.4069\n",
      "Epoch 71/100\n",
      "21/21 [==============================] - 1s 49ms/sample - loss: 0.2342 - nmse: 0.4656 - val_loss: 0.2430 - val_nmse: 0.4797\n",
      "Epoch 72/100\n",
      "21/21 [==============================] - 1s 50ms/sample - loss: 0.2794 - nmse: 0.5785 - val_loss: 0.2351 - val_nmse: 0.4607\n",
      "Epoch 73/100\n",
      "21/21 [==============================] - 1s 50ms/sample - loss: 0.2580 - nmse: 0.5135 - val_loss: 0.2347 - val_nmse: 0.4630\n",
      "Epoch 74/100\n",
      "21/21 [==============================] - 1s 50ms/sample - loss: 0.2537 - nmse: 0.5044 - val_loss: 0.2331 - val_nmse: 0.4592\n",
      "Epoch 75/100\n",
      "21/21 [==============================] - 1s 50ms/sample - loss: 0.2493 - nmse: 0.5028 - val_loss: 0.2326 - val_nmse: 0.4563\n",
      "Epoch 76/100\n",
      "21/21 [==============================] - 1s 49ms/sample - loss: 0.2452 - nmse: 0.4915 - val_loss: 0.2195 - val_nmse: 0.4218\n",
      "Epoch 77/100\n",
      "21/21 [==============================] - 1s 50ms/sample - loss: 0.2394 - nmse: 0.4744 - val_loss: 0.2262 - val_nmse: 0.4416\n",
      "Epoch 78/100\n",
      "21/21 [==============================] - 1s 50ms/sample - loss: 0.2382 - nmse: 0.4788 - val_loss: 0.2212 - val_nmse: 0.4266\n",
      "Epoch 79/100\n",
      "21/21 [==============================] - 1s 50ms/sample - loss: 0.2388 - nmse: 0.4783 - val_loss: 0.2206 - val_nmse: 0.4250\n",
      "Epoch 80/100\n",
      "21/21 [==============================] - 1s 50ms/sample - loss: 0.2355 - nmse: 0.4631 - val_loss: 0.2186 - val_nmse: 0.4185\n",
      "Epoch 81/100\n",
      "21/21 [==============================] - 1s 50ms/sample - loss: 0.2332 - nmse: 0.4638 - val_loss: 0.2169 - val_nmse: 0.4130\n",
      "Epoch 82/100\n",
      "21/21 [==============================] - 1s 50ms/sample - loss: 0.2321 - nmse: 0.4545 - val_loss: 0.2157 - val_nmse: 0.4083\n",
      "Epoch 83/100\n",
      "21/21 [==============================] - 1s 50ms/sample - loss: 0.2313 - nmse: 0.4562 - val_loss: 0.2169 - val_nmse: 0.4107\n",
      "Epoch 84/100\n",
      "21/21 [==============================] - 1s 50ms/sample - loss: 0.2320 - nmse: 0.4539 - val_loss: 0.2150 - val_nmse: 0.4052\n",
      "Epoch 85/100\n",
      "21/21 [==============================] - 1s 50ms/sample - loss: 0.2310 - nmse: 0.4545 - val_loss: 0.2151 - val_nmse: 0.4062\n",
      "Epoch 86/100\n",
      "21/21 [==============================] - 1s 50ms/sample - loss: 0.2306 - nmse: 0.4513 - val_loss: 0.2159 - val_nmse: 0.4064\n",
      "Epoch 87/100\n",
      "21/21 [==============================] - 1s 50ms/sample - loss: 0.2316 - nmse: 0.4538 - val_loss: 0.2152 - val_nmse: 0.4047\n",
      "Epoch 88/100\n",
      "21/21 [==============================] - 1s 50ms/sample - loss: 0.2308 - nmse: 0.4549 - val_loss: 0.2143 - val_nmse: 0.4027\n",
      "Epoch 89/100\n",
      "21/21 [==============================] - 1s 50ms/sample - loss: 0.2300 - nmse: 0.4483 - val_loss: 0.2140 - val_nmse: 0.4002\n",
      "Epoch 90/100\n",
      "21/21 [==============================] - 1s 50ms/sample - loss: 0.2298 - nmse: 0.4436 - val_loss: 0.2140 - val_nmse: 0.4012\n",
      "Epoch 91/100\n",
      "21/21 [==============================] - 1s 50ms/sample - loss: 0.2299 - nmse: 0.4447 - val_loss: 0.2139 - val_nmse: 0.4011\n",
      "Epoch 92/100\n",
      "21/21 [==============================] - 1s 50ms/sample - loss: 0.2291 - nmse: 0.4431 - val_loss: 0.2124 - val_nmse: 0.3953\n",
      "Epoch 93/100\n",
      "21/21 [==============================] - 1s 50ms/sample - loss: 0.2284 - nmse: 0.4513 - val_loss: 0.2135 - val_nmse: 0.3995\n",
      "Epoch 94/100\n",
      "21/21 [==============================] - 1s 50ms/sample - loss: 0.2296 - nmse: 0.4437 - val_loss: 0.2149 - val_nmse: 0.4035\n",
      "Epoch 95/100\n",
      "21/21 [==============================] - 1s 50ms/sample - loss: 0.2328 - nmse: 0.4578 - val_loss: 0.2221 - val_nmse: 0.4225\n",
      "Epoch 96/100\n",
      "21/21 [==============================] - 1s 50ms/sample - loss: 0.2386 - nmse: 0.4698 - val_loss: 0.2184 - val_nmse: 0.4138\n",
      "Epoch 97/100\n",
      "21/21 [==============================] - 1s 49ms/sample - loss: 0.2315 - nmse: 0.4521 - val_loss: 0.2188 - val_nmse: 0.4133\n",
      "Epoch 98/100\n",
      "21/21 [==============================] - 1s 49ms/sample - loss: 0.2337 - nmse: 0.4633 - val_loss: 0.2129 - val_nmse: 0.3984\n",
      "Epoch 99/100\n",
      "21/21 [==============================] - 1s 50ms/sample - loss: 0.2303 - nmse: 0.4505 - val_loss: 0.2141 - val_nmse: 0.4038\n",
      "Epoch 100/100\n",
      "21/21 [==============================] - 1s 50ms/sample - loss: 0.2290 - nmse: 0.4498 - val_loss: 0.2132 - val_nmse: 0.4006\n",
      "Tiempo total de entrenamiento: 104.75 segundos.\n"
     ]
    }
   ],
   "source": [
    "start_time = time.time()\n",
    "history = model.fit(X, Y, epochs=max_epoch, batch_size=batchsize, validation_split=validation_split)\n",
    "end_time = time.time()\n",
    "total_time = end_time - start_time\n",
    "print(f'Tiempo total de entrenamiento: {total_time:.2f} segundos.')"
   ]
  },
  {
   "cell_type": "markdown",
   "metadata": {},
   "source": [
    "#########################################################################################################<br>\n",
    "#########################################################################################################<br>\n",
    "#########################################################################################################"
   ]
  },
  {
   "cell_type": "markdown",
   "metadata": {},
   "source": [
    "Visualizar el NMSE"
   ]
  },
  {
   "cell_type": "code",
   "execution_count": null,
   "metadata": {},
   "outputs": [],
   "source": [
    "plt.plot(history.history['nmse'], label='NMSE (entrenamiento)')\n",
    "plt.plot(history.history['val_nmse'], label='NMSE (validacion)')\n",
    "plt.xlabel('Epoca')\n",
    "plt.ylabel('NMSE')\n",
    "plt.legend()\n",
    "plt.show()"
   ]
  }
 ],
 "metadata": {
  "kernelspec": {
   "display_name": "myred",
   "language": "python",
   "name": "myred"
  },
  "language_info": {
   "codemirror_mode": {
    "name": "ipython",
    "version": 3
   },
   "file_extension": ".py",
   "mimetype": "text/x-python",
   "name": "python",
   "nbconvert_exporter": "python",
   "pygments_lexer": "ipython3",
   "version": "3.6.13"
  }
 },
 "nbformat": 4,
 "nbformat_minor": 4
}
