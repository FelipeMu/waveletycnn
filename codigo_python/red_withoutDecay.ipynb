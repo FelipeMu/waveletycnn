{
 "cells": [
  {
   "cell_type": "markdown",
   "metadata": {},
   "source": [
    "Librerias para trabajar con la red neuronal y procesamiento de datos"
   ]
  },
  {
   "cell_type": "code",
   "execution_count": 1,
   "metadata": {},
   "outputs": [],
   "source": [
    "import os\n",
    "import numpy as np # type: ignore\n",
    "from scipy.io import loadmat # type: ignore\n",
    "import tensorflow as tf # Para red neuronal profunda\n",
    "import numpy as np\n",
    "import matplotlib.pyplot as plt\n",
    "import time # Para tomar el tiempo de entrenamiento de la red"
   ]
  },
  {
   "cell_type": "code",
   "execution_count": 2,
   "metadata": {},
   "outputs": [],
   "source": [
    "os.environ['TF_ENABLE_ONEDNN_OPTS'] = '0'"
   ]
  },
  {
   "cell_type": "markdown",
   "metadata": {},
   "source": [
    "##################################################################################<br>\n",
    "##################### Convertir matrices de .mat a .npy ##########################<br>\n",
    "##################################################################################"
   ]
  },
  {
   "cell_type": "markdown",
   "metadata": {},
   "source": [
    "Directorios de entrada y salida"
   ]
  },
  {
   "cell_type": "code",
   "execution_count": 3,
   "metadata": {},
   "outputs": [],
   "source": [
    "input_pam_dir = 'D:/TT/Memoria/waveletycnn/codigo_matlab/codigo_fuente/matrices_complejas_pam_mat' # matrices en formato .mat\n",
    "input_vsc_dir = 'D:/TT/Memoria/waveletycnn/codigo_matlab/codigo_fuente/matrices_complejas_vsc_mat' # matrices en formato .mat\n",
    "output_pam_dir = 'D:/TT/Memoria/waveletycnn/codigo_python/matrices_complejas_pam_python' # INPUT PARA LA RED\n",
    "output_vsc_dir = 'D:/TT/Memoria/waveletycnn/codigo_python/matrices_complejas_vsc_python' # OUTPUT O SALIDAS ESPERADAS PARA LA RED"
   ]
  },
  {
   "cell_type": "markdown",
   "metadata": {},
   "source": [
    "Crear los directorios de salida si no existen"
   ]
  },
  {
   "cell_type": "code",
   "execution_count": 4,
   "metadata": {},
   "outputs": [],
   "source": [
    "os.makedirs(output_pam_dir, exist_ok=True)\n",
    "os.makedirs(output_vsc_dir, exist_ok=True)"
   ]
  },
  {
   "cell_type": "markdown",
   "metadata": {},
   "source": [
    "Funcion para convertir archivos .mat a .npy"
   ]
  },
  {
   "cell_type": "code",
   "execution_count": 5,
   "metadata": {},
   "outputs": [],
   "source": [
    "def convert_mat_to_npy(input_dir, output_dir, prefix):\n",
    "    for i in range(1, 31):\n",
    "        mat_file = os.path.join(input_dir, f'{prefix}_noise_{i}.mat')\n",
    "        npy_file = os.path.join(output_dir, f'{prefix}_noise_{i}.npy')\n",
    "        \n",
    "        # Cargar el archivo .mat\n",
    "        mat_data = loadmat(mat_file)\n",
    "        \n",
    "        # Extraer la matriz compleja\n",
    "        matrix_key = [key for key in mat_data.keys() if not key.startswith('__')][0]\n",
    "        matrix = mat_data[matrix_key]\n",
    "        \n",
    "        # Guardar la matriz en formato .npy\n",
    "        np.save(npy_file, matrix)"
   ]
  },
  {
   "cell_type": "markdown",
   "metadata": {},
   "source": [
    "Convertir archivos .mat a .npy para PAM y VSC"
   ]
  },
  {
   "cell_type": "code",
   "execution_count": 6,
   "metadata": {},
   "outputs": [],
   "source": [
    "convert_mat_to_npy(input_pam_dir, output_pam_dir, 'matrix_complex_pam')\n",
    "convert_mat_to_npy(input_vsc_dir, output_vsc_dir, 'matrix_complex_vsc')"
   ]
  },
  {
   "cell_type": "markdown",
   "metadata": {},
   "source": [
    "###################################################################################<br>\n",
    "##################### Conversion a tensor tridimensional ##########################<br>\n",
    "###################################################################################"
   ]
  },
  {
   "cell_type": "markdown",
   "metadata": {},
   "source": [
    "Directorios de entrada y salida"
   ]
  },
  {
   "cell_type": "code",
   "execution_count": 7,
   "metadata": {},
   "outputs": [],
   "source": [
    "input_pam_dir = 'D:/TT/Memoria/waveletycnn/codigo_python/matrices_complejas_pam_python'\n",
    "input_vsc_dir = 'D:/TT/Memoria/waveletycnn/codigo_python/matrices_complejas_vsc_python'\n",
    "output_pam_dir = 'D:/TT/Memoria/waveletycnn/codigo_python/matrices_complejas_pam_procesadas'\n",
    "output_vsc_dir = 'D:/TT/Memoria/waveletycnn/codigo_python/matrices_complejas_vsc_procesadas'"
   ]
  },
  {
   "cell_type": "markdown",
   "metadata": {},
   "source": [
    "Crear directorios de salida si no existen"
   ]
  },
  {
   "cell_type": "code",
   "execution_count": 8,
   "metadata": {},
   "outputs": [],
   "source": [
    "os.makedirs(output_pam_dir, exist_ok=True)\n",
    "os.makedirs(output_vsc_dir, exist_ok=True)"
   ]
  },
  {
   "cell_type": "markdown",
   "metadata": {},
   "source": [
    "Funcion para procesar las matrices complejas"
   ]
  },
  {
   "cell_type": "code",
   "execution_count": 9,
   "metadata": {},
   "outputs": [],
   "source": [
    "def procesar_matriz_compleja(matriz_compleja):\n",
    "    datos_organizados = np.stack((matriz_compleja.real, matriz_compleja.imag), axis=-1)\n",
    "    return datos_organizados"
   ]
  },
  {
   "cell_type": "markdown",
   "metadata": {},
   "source": [
    "Procesar matrices complejas en la carpeta input_pam_dir"
   ]
  },
  {
   "cell_type": "code",
   "execution_count": 10,
   "metadata": {},
   "outputs": [],
   "source": [
    "for filename in os.listdir(input_pam_dir):\n",
    "    if filename.endswith('.npy'):\n",
    "        input_path = os.path.join(input_pam_dir, filename)\n",
    "        output_path = os.path.join(output_pam_dir, filename)\n",
    "        \n",
    "        # Cargar la matriz compleja\n",
    "        matriz_compleja = np.load(input_path)\n",
    "        \n",
    "        # Procesar la matriz compleja\n",
    "        datos_organizados = procesar_matriz_compleja(matriz_compleja)\n",
    "        \n",
    "        # Guardar los datos procesados\n",
    "        np.save(output_path, datos_organizados)"
   ]
  },
  {
   "cell_type": "markdown",
   "metadata": {},
   "source": [
    "Procesar matrices complejas en la carpeta input_vsc_dir"
   ]
  },
  {
   "cell_type": "code",
   "execution_count": 11,
   "metadata": {},
   "outputs": [
    {
     "name": "stdout",
     "output_type": "stream",
     "text": [
      "Procesamiento completado.\n"
     ]
    }
   ],
   "source": [
    "for filename in os.listdir(input_vsc_dir):\n",
    "    if filename.endswith('.npy'):\n",
    "        input_path = os.path.join(input_vsc_dir, filename)\n",
    "        output_path = os.path.join(output_vsc_dir, filename)\n",
    "        \n",
    "        # Cargar la matriz compleja\n",
    "        matriz_compleja = np.load(input_path)\n",
    "        \n",
    "        # Procesar la matriz compleja\n",
    "        datos_organizados = procesar_matriz_compleja(matriz_compleja)\n",
    "        \n",
    "        # Guardar los datos procesados\n",
    "        np.save(output_path, datos_organizados)\n",
    "print(\"Procesamiento completado.\")"
   ]
  },
  {
   "cell_type": "markdown",
   "metadata": {},
   "source": [
    "###################################################################################<br>\n",
    "################## Verificacicon de \"shape\" - matrices pam y vsc ##################<br>\n",
    "###################################################################################"
   ]
  },
  {
   "cell_type": "markdown",
   "metadata": {},
   "source": [
    "Directorios de salida"
   ]
  },
  {
   "cell_type": "code",
   "execution_count": 12,
   "metadata": {},
   "outputs": [],
   "source": [
    "output_pam_dir_check = 'D:/TT/Memoria/waveletycnn/codigo_python/matrices_complejas_pam_procesadas'\n",
    "output_vsc_dir_check = 'D:/TT/Memoria/waveletycnn/codigo_python/matrices_complejas_vsc_procesadas'"
   ]
  },
  {
   "cell_type": "markdown",
   "metadata": {},
   "source": [
    "Funcion para verificar la forma de una matriz"
   ]
  },
  {
   "cell_type": "code",
   "execution_count": 13,
   "metadata": {},
   "outputs": [],
   "source": [
    "def verificar_shape(directorio, nombre_archivo):\n",
    "    path = os.path.join(directorio, nombre_archivo)\n",
    "    matriz = np.load(path)\n",
    "    return matriz.shape"
   ]
  },
  {
   "cell_type": "markdown",
   "metadata": {},
   "source": [
    "Verificar la forma de un archivo de ejemplo en output_pam_dir_check"
   ]
  },
  {
   "cell_type": "code",
   "execution_count": 14,
   "metadata": {},
   "outputs": [
    {
     "name": "stdout",
     "output_type": "stream",
     "text": [
      "Shape de matrix_complex_pam_noise_1.npy en D:/TT/Memoria/waveletycnn/codigo_python/matrices_complejas_pam_procesadas: (36, 1024, 2)\n"
     ]
    }
   ],
   "source": [
    "ejemplo_pam = os.listdir(output_pam_dir_check)[0]  # Obtener el primer archivo de la carpeta\n",
    "shape_pam = verificar_shape(output_pam_dir_check, ejemplo_pam)\n",
    "print(f\"Shape de {ejemplo_pam} en {output_pam_dir_check}: {shape_pam}\")"
   ]
  },
  {
   "cell_type": "markdown",
   "metadata": {},
   "source": [
    "Verificar la forma de un archivo de ejemplo en output_vsc_dir_check"
   ]
  },
  {
   "cell_type": "code",
   "execution_count": 15,
   "metadata": {},
   "outputs": [
    {
     "name": "stdout",
     "output_type": "stream",
     "text": [
      "Shape de matrix_complex_vsc_noise_1.npy en D:/TT/Memoria/waveletycnn/codigo_python/matrices_complejas_vsc_procesadas: (36, 1024, 2)\n"
     ]
    }
   ],
   "source": [
    "ejemplo_vsc = os.listdir(output_vsc_dir_check)[0]  # Obtener el primer archivo de la carpeta\n",
    "shape_vsc = verificar_shape(output_vsc_dir_check, ejemplo_vsc)\n",
    "print(f\"Shape de {ejemplo_vsc} en {output_vsc_dir_check}: {shape_vsc}\")"
   ]
  },
  {
   "cell_type": "markdown",
   "metadata": {},
   "source": [
    "##################################################################################<br>\n",
    "####################### Red Neuronal Profunda: U-net #############################<br>\n",
    "##################################################################################"
   ]
  },
  {
   "cell_type": "markdown",
   "metadata": {},
   "source": [
    "Directorios de entrada"
   ]
  },
  {
   "cell_type": "code",
   "execution_count": 16,
   "metadata": {},
   "outputs": [],
   "source": [
    "input_pam_dir = 'D:/TT/Memoria/waveletycnn/codigo_python/matrices_complejas_pam_procesadas'\n",
    "output_vsc_dir = 'D:/TT/Memoria/waveletycnn/codigo_python/matrices_complejas_vsc_procesadas'"
   ]
  },
  {
   "cell_type": "markdown",
   "metadata": {},
   "source": [
    "Funcion para cargar los archivos .npy"
   ]
  },
  {
   "cell_type": "code",
   "execution_count": 17,
   "metadata": {},
   "outputs": [],
   "source": [
    "def load_npy_files(input_dir):\n",
    "    files = sorted([os.path.join(input_dir, f) for f in os.listdir(input_dir) if f.endswith('.npy')])\n",
    "    data = [np.load(f) for f in files]\n",
    "    return np.array(data)"
   ]
  },
  {
   "cell_type": "markdown",
   "metadata": {},
   "source": [
    "Cargar los datos de entrada y salida"
   ]
  },
  {
   "cell_type": "code",
   "execution_count": 18,
   "metadata": {},
   "outputs": [],
   "source": [
    "X = load_npy_files(input_pam_dir) # inputs\n",
    "Y = load_npy_files(output_vsc_dir) # outputs"
   ]
  },
  {
   "cell_type": "markdown",
   "metadata": {},
   "source": [
    "Verificar las formas de los datos cargados (# entradas, filas, columnas, canales)"
   ]
  },
  {
   "cell_type": "code",
   "execution_count": 19,
   "metadata": {},
   "outputs": [
    {
     "name": "stdout",
     "output_type": "stream",
     "text": [
      "Shape de los inputs (X): (30, 36, 1024, 2)\n",
      "Shape de los outputs (Y): (30, 36, 1024, 2)\n"
     ]
    }
   ],
   "source": [
    "print(f\"Shape de los inputs (X): {X.shape}\")\n",
    "print(f\"Shape de los outputs (Y): {Y.shape}\")"
   ]
  },
  {
   "cell_type": "markdown",
   "metadata": {},
   "source": [
    "Definir la U-Net con regularizacion L2"
   ]
  },
  {
   "cell_type": "code",
   "execution_count": 20,
   "metadata": {},
   "outputs": [],
   "source": [
    "'''\n",
    "def unet_model_with_l2(input_shape, l2_lambda):\n",
    "    inputs = tf.keras.Input(shape=input_shape)\n",
    "    \n",
    "    # Regularizer\n",
    "    l2_reg = tf.keras.regularizers.l2(l2_lambda)\n",
    "    \n",
    "    # Encoder\n",
    "    c1 = tf.keras.layers.Conv2D(64, (3, 3), activation='relu', padding='same', kernel_regularizer=l2_reg)(inputs)\n",
    "    c1 = tf.keras.layers.Conv2D(64, (3, 3), activation='relu', padding='same', kernel_regularizer=l2_reg)(c1)\n",
    "    p1 = tf.keras.layers.MaxPooling2D((2, 2))(c1)\n",
    "    \n",
    "    c2 = tf.keras.layers.Conv2D(128, (3, 3), activation='relu', padding='same', kernel_regularizer=l2_reg)(p1)\n",
    "    c2 = tf.keras.layers.Conv2D(128, (3, 3), activation='relu', padding='same', kernel_regularizer=l2_reg)(c2)\n",
    "    p2 = tf.keras.layers.MaxPooling2D((2, 2))(c2)\n",
    "    \n",
    "    # Bottleneck\n",
    "    c3 = tf.keras.layers.Conv2D(256, (3, 3), activation='relu', padding='same', kernel_regularizer=l2_reg)(p2)\n",
    "    c3 = tf.keras.layers.Conv2D(256, (3, 3), activation='relu', padding='same', kernel_regularizer=l2_reg)(c3)\n",
    "    \n",
    "    # Decoder\n",
    "    u4 = tf.keras.layers.Conv2DTranspose(128, (2, 2), strides=(2, 2), padding='same')(c3)\n",
    "    u4 = tf.keras.layers.concatenate([u4, c2])\n",
    "    c4 = tf.keras.layers.Conv2D(128, (3, 3), activation='relu', padding='same', kernel_regularizer=l2_reg)(u4)\n",
    "    c4 = tf.keras.layers.Conv2D(128, (3, 3), activation='relu', padding='same', kernel_regularizer=l2_reg)(c4)\n",
    "    \n",
    "    u5 = tf.keras.layers.Conv2DTranspose(64, (2, 2), strides=(2, 2), padding='same')(c4)\n",
    "    u5 = tf.keras.layers.concatenate([u5, c1])\n",
    "    c5 = tf.keras.layers.Conv2D(64, (3, 3), activation='relu', padding='same', kernel_regularizer=l2_reg)(u5)\n",
    "    c5 = tf.keras.layers.Conv2D(64, (3, 3), activation='relu', padding='same', kernel_regularizer=l2_reg)(c5)\n",
    "    \n",
    "    outputs = tf.keras.layers.Conv2D(2, (1, 1), activation='linear')(c5)\n",
    "    \n",
    "    model = tf.keras.Model(inputs=[inputs], outputs=[outputs])\n",
    "    \n",
    "    return model\n",
    "'''\n",
    "\n",
    "def unet_model_with_l2(input_shape):\n",
    "    inputs = tf.keras.Input(shape=input_shape)\n",
    "    \n",
    "    # Regularizer\n",
    "    #l2_reg = tf.keras.regularizers.l2(l2_lambda)\n",
    "    \n",
    "    # Encoder\n",
    "    c1 = tf.keras.layers.Conv2D(128, (3, 3), activation='relu', padding='same')(inputs) #filtro original=64\n",
    "    c1 = tf.keras.layers.Conv2D(128, (3, 3), activation='relu', padding='same')(c1) #filtro original=64\n",
    "    p1 = tf.keras.layers.MaxPooling2D((2, 2))(c1)\n",
    "    \n",
    "    c2 = tf.keras.layers.Conv2D(256, (3, 3), activation='relu', padding='same')(p1) #filtro original=128\n",
    "    c2 = tf.keras.layers.Conv2D(256, (3, 3), activation='relu', padding='same')(c2) #filtro original=128\n",
    "    p2 = tf.keras.layers.MaxPooling2D((2, 2))(c2)\n",
    "    \n",
    "    # Bottleneck\n",
    "    c3 = tf.keras.layers.Conv2D(512, (3, 3), activation='relu', padding='same')(p2) #filtro original=256\n",
    "    c3 = tf.keras.layers.Conv2D(512, (3, 3), activation='relu', padding='same')(c3) #filtro original=256\n",
    "    \n",
    "    # Decoder\n",
    "    u4 = tf.keras.layers.Conv2DTranspose(256, (2, 2), strides=(2, 2), padding='same')(c3) #filtro original=128\n",
    "    u4 = tf.keras.layers.concatenate([u4, c2])\n",
    "    c4 = tf.keras.layers.Conv2D(256, (3, 3), activation='relu', padding='same')(u4) #filtro original=128\n",
    "    c4 = tf.keras.layers.Conv2D(256, (3, 3), activation='relu', padding='same')(c4) #filtro original=128\n",
    "    \n",
    "    u5 = tf.keras.layers.Conv2DTranspose(64, (2, 2), strides=(2, 2), padding='same')(c4) #filtro original=64\n",
    "    u5 = tf.keras.layers.concatenate([u5, c1])\n",
    "    c5 = tf.keras.layers.Conv2D(128, (3, 3), activation='relu', padding='same')(u5) #filtro original=64\n",
    "    c5 = tf.keras.layers.Conv2D(128, (3, 3), activation='relu', padding='same')(c5) #filtro original=64\n",
    "    \n",
    "    outputs = tf.keras.layers.Conv2D(2, (1, 1), activation='linear')(c5)\n",
    "    \n",
    "    model = tf.keras.Model(inputs=[inputs], outputs=[outputs])\n",
    "    \n",
    "    return model"
   ]
  },
  {
   "cell_type": "markdown",
   "metadata": {},
   "source": [
    "Definir la metrica NMSE ajustada para utilizar la varianza de los valores verdaderos"
   ]
  },
  {
   "cell_type": "code",
   "execution_count": 21,
   "metadata": {},
   "outputs": [],
   "source": [
    "def nmse(y_true, y_pred):\n",
    "    mse = tf.keras.backend.mean(tf.keras.backend.square(y_true - y_pred))\n",
    "    var_true = tf.keras.backend.var(y_true)\n",
    "    return mse / var_true"
   ]
  },
  {
   "cell_type": "markdown",
   "metadata": {},
   "source": [
    "Hiperparametros"
   ]
  },
  {
   "cell_type": "code",
   "execution_count": 22,
   "metadata": {},
   "outputs": [],
   "source": [
    "max_epoch = 200\n",
    "batchsize = 8\n",
    "learning_rate = 0.001\n",
    "#l2_lambda = 0.01\n",
    "validation_split = 0.3 # 70% entrenamiento & 30% validacion"
   ]
  },
  {
   "cell_type": "markdown",
   "metadata": {},
   "source": [
    "Definir el modelo"
   ]
  },
  {
   "cell_type": "code",
   "execution_count": 23,
   "metadata": {},
   "outputs": [],
   "source": [
    "input_shape = X.shape[1:]  # forma del input a entrar. en este caso esta forma debe coincidir con las matrices que entran a la red\n",
    "#model = unet_model_with_l2(input_shape, l2_lambda)\n",
    "model = unet_model_with_l2(input_shape)"
   ]
  },
  {
   "cell_type": "markdown",
   "metadata": {},
   "source": [
    "DEFINICION DE LA FUNCION DE DECAIMIENTO, ALGORITMO OPTIMIZADOR, FUNCION DE PERDIDA Y METRICA"
   ]
  },
  {
   "cell_type": "code",
   "execution_count": 24,
   "metadata": {},
   "outputs": [],
   "source": [
    "optimizer = tf.keras.optimizers.Adam(learning_rate)\n",
    "model.compile(optimizer=optimizer, loss='mean_squared_error', metrics=[nmse])"
   ]
  },
  {
   "cell_type": "markdown",
   "metadata": {},
   "source": [
    "#########################################################################################################<br>\n",
    "#########################################################################################################<br>\n",
    "#########################################################################################################"
   ]
  },
  {
   "cell_type": "markdown",
   "metadata": {},
   "source": [
    "ENTRENAMIENTO DE LA RED"
   ]
  },
  {
   "cell_type": "code",
   "execution_count": 25,
   "metadata": {},
   "outputs": [
    {
     "name": "stdout",
     "output_type": "stream",
     "text": [
      "Train on 21 samples, validate on 9 samples\n",
      "Epoch 1/200\n",
      "21/21 [==============================] - 19s 901ms/sample - loss: 0.3985 - nmse: 1.0441 - val_loss: 0.3349 - val_nmse: 0.8970\n",
      "Epoch 2/200\n",
      "21/21 [==============================] - 3s 137ms/sample - loss: 0.3508 - nmse: 0.9012 - val_loss: 0.3320 - val_nmse: 0.8903\n",
      "Epoch 3/200\n",
      "21/21 [==============================] - 3s 137ms/sample - loss: 0.3462 - nmse: 0.8899 - val_loss: 0.3189 - val_nmse: 0.8511\n",
      "Epoch 4/200\n",
      "21/21 [==============================] - 3s 137ms/sample - loss: 0.3311 - nmse: 0.8473 - val_loss: 0.3040 - val_nmse: 0.8105\n",
      "Epoch 5/200\n",
      "21/21 [==============================] - 3s 138ms/sample - loss: 0.3215 - nmse: 0.8254 - val_loss: 0.3008 - val_nmse: 0.7983\n",
      "Epoch 6/200\n",
      "21/21 [==============================] - 3s 138ms/sample - loss: 0.3152 - nmse: 0.8097 - val_loss: 0.2923 - val_nmse: 0.7757\n",
      "Epoch 7/200\n",
      "21/21 [==============================] - 3s 137ms/sample - loss: 0.3088 - nmse: 0.7885 - val_loss: 0.2870 - val_nmse: 0.7622\n",
      "Epoch 8/200\n",
      "21/21 [==============================] - 3s 138ms/sample - loss: 0.3022 - nmse: 0.7767 - val_loss: 0.2773 - val_nmse: 0.7324\n",
      "Epoch 9/200\n",
      "21/21 [==============================] - 3s 137ms/sample - loss: 0.2926 - nmse: 0.7495 - val_loss: 0.2682 - val_nmse: 0.7064\n",
      "Epoch 10/200\n",
      "21/21 [==============================] - 3s 138ms/sample - loss: 0.2880 - nmse: 0.7422 - val_loss: 0.2622 - val_nmse: 0.6903\n",
      "Epoch 11/200\n",
      "21/21 [==============================] - 3s 137ms/sample - loss: 0.2817 - nmse: 0.7248 - val_loss: 0.2567 - val_nmse: 0.6757\n",
      "Epoch 12/200\n",
      "21/21 [==============================] - 3s 138ms/sample - loss: 0.2714 - nmse: 0.6991 - val_loss: 0.2486 - val_nmse: 0.6503\n",
      "Epoch 13/200\n",
      "21/21 [==============================] - 3s 138ms/sample - loss: 0.2616 - nmse: 0.6720 - val_loss: 0.2319 - val_nmse: 0.6064\n",
      "Epoch 14/200\n",
      "21/21 [==============================] - 3s 137ms/sample - loss: 0.2474 - nmse: 0.6342 - val_loss: 0.2224 - val_nmse: 0.5792\n",
      "Epoch 15/200\n",
      "21/21 [==============================] - 3s 137ms/sample - loss: 0.2357 - nmse: 0.6035 - val_loss: 0.2033 - val_nmse: 0.5266\n",
      "Epoch 16/200\n",
      "21/21 [==============================] - 3s 138ms/sample - loss: 0.2206 - nmse: 0.5607 - val_loss: 0.2025 - val_nmse: 0.5188\n",
      "Epoch 17/200\n",
      "21/21 [==============================] - 3s 138ms/sample - loss: 0.2124 - nmse: 0.5471 - val_loss: 0.1794 - val_nmse: 0.4599\n",
      "Epoch 18/200\n",
      "21/21 [==============================] - 3s 138ms/sample - loss: 0.1929 - nmse: 0.4878 - val_loss: 0.1667 - val_nmse: 0.4238\n",
      "Epoch 19/200\n",
      "21/21 [==============================] - 3s 138ms/sample - loss: 0.1820 - nmse: 0.4595 - val_loss: 0.1602 - val_nmse: 0.4034\n",
      "Epoch 20/200\n",
      "21/21 [==============================] - 3s 138ms/sample - loss: 0.1738 - nmse: 0.4437 - val_loss: 0.1481 - val_nmse: 0.3730\n",
      "Epoch 21/200\n",
      "21/21 [==============================] - 3s 138ms/sample - loss: 0.1650 - nmse: 0.4227 - val_loss: 0.1459 - val_nmse: 0.3694\n",
      "Epoch 22/200\n",
      "21/21 [==============================] - 3s 138ms/sample - loss: 0.1591 - nmse: 0.4121 - val_loss: 0.1418 - val_nmse: 0.3541\n",
      "Epoch 23/200\n",
      "21/21 [==============================] - 3s 138ms/sample - loss: 0.1527 - nmse: 0.3946 - val_loss: 0.1344 - val_nmse: 0.3345\n",
      "Epoch 24/200\n",
      "21/21 [==============================] - 3s 138ms/sample - loss: 0.1448 - nmse: 0.3721 - val_loss: 0.1283 - val_nmse: 0.3176\n",
      "Epoch 25/200\n",
      "21/21 [==============================] - 3s 139ms/sample - loss: 0.1406 - nmse: 0.3647 - val_loss: 0.1226 - val_nmse: 0.3030\n",
      "Epoch 26/200\n",
      "21/21 [==============================] - 3s 138ms/sample - loss: 0.1354 - nmse: 0.3437 - val_loss: 0.1187 - val_nmse: 0.2900\n",
      "Epoch 27/200\n",
      "21/21 [==============================] - 3s 138ms/sample - loss: 0.1312 - nmse: 0.3343 - val_loss: 0.1141 - val_nmse: 0.2781\n",
      "Epoch 28/200\n",
      "21/21 [==============================] - 3s 138ms/sample - loss: 0.1274 - nmse: 0.3216 - val_loss: 0.1135 - val_nmse: 0.2751\n",
      "Epoch 29/200\n",
      "21/21 [==============================] - 3s 138ms/sample - loss: 0.1250 - nmse: 0.3220 - val_loss: 0.1082 - val_nmse: 0.2618\n",
      "Epoch 30/200\n",
      "21/21 [==============================] - 3s 138ms/sample - loss: 0.1214 - nmse: 0.3099 - val_loss: 0.1047 - val_nmse: 0.2512\n",
      "Epoch 31/200\n",
      "21/21 [==============================] - 3s 137ms/sample - loss: 0.1169 - nmse: 0.3029 - val_loss: 0.1034 - val_nmse: 0.2474\n",
      "Epoch 32/200\n",
      "21/21 [==============================] - 3s 138ms/sample - loss: 0.1152 - nmse: 0.2929 - val_loss: 0.1010 - val_nmse: 0.2424\n",
      "Epoch 33/200\n",
      "21/21 [==============================] - 3s 137ms/sample - loss: 0.1129 - nmse: 0.2872 - val_loss: 0.1017 - val_nmse: 0.2439\n",
      "Epoch 34/200\n",
      "21/21 [==============================] - 3s 138ms/sample - loss: 0.1101 - nmse: 0.2770 - val_loss: 0.0938 - val_nmse: 0.2209\n",
      "Epoch 35/200\n",
      "21/21 [==============================] - 3s 138ms/sample - loss: 0.1054 - nmse: 0.2721 - val_loss: 0.0924 - val_nmse: 0.2142\n",
      "Epoch 36/200\n",
      "21/21 [==============================] - 3s 138ms/sample - loss: 0.1029 - nmse: 0.2671 - val_loss: 0.0944 - val_nmse: 0.2205\n",
      "Epoch 37/200\n",
      "21/21 [==============================] - 3s 138ms/sample - loss: 0.1067 - nmse: 0.2770 - val_loss: 0.0937 - val_nmse: 0.2215\n",
      "Epoch 38/200\n",
      "21/21 [==============================] - 3s 138ms/sample - loss: 0.1048 - nmse: 0.2651 - val_loss: 0.0927 - val_nmse: 0.2173\n",
      "Epoch 39/200\n",
      "21/21 [==============================] - 3s 138ms/sample - loss: 0.1003 - nmse: 0.2555 - val_loss: 0.0893 - val_nmse: 0.2065\n",
      "Epoch 40/200\n",
      "21/21 [==============================] - 3s 138ms/sample - loss: 0.0962 - nmse: 0.2467 - val_loss: 0.0858 - val_nmse: 0.1979\n",
      "Epoch 41/200\n",
      "21/21 [==============================] - 3s 137ms/sample - loss: 0.0931 - nmse: 0.2408 - val_loss: 0.0868 - val_nmse: 0.1978\n",
      "Epoch 42/200\n",
      "21/21 [==============================] - 3s 138ms/sample - loss: 0.0921 - nmse: 0.2391 - val_loss: 0.0870 - val_nmse: 0.1985\n",
      "Epoch 43/200\n",
      "21/21 [==============================] - 3s 138ms/sample - loss: 0.0911 - nmse: 0.2340 - val_loss: 0.0822 - val_nmse: 0.1867\n",
      "Epoch 44/200\n",
      "21/21 [==============================] - 3s 138ms/sample - loss: 0.0873 - nmse: 0.2190 - val_loss: 0.0821 - val_nmse: 0.1842\n",
      "Epoch 45/200\n",
      "21/21 [==============================] - 3s 139ms/sample - loss: 0.0832 - nmse: 0.2147 - val_loss: 0.0801 - val_nmse: 0.1790\n",
      "Epoch 46/200\n",
      "21/21 [==============================] - 3s 138ms/sample - loss: 0.0808 - nmse: 0.1996 - val_loss: 0.0796 - val_nmse: 0.1764\n",
      "Epoch 47/200\n",
      "21/21 [==============================] - 3s 138ms/sample - loss: 0.0771 - nmse: 0.2016 - val_loss: 0.0788 - val_nmse: 0.1731\n",
      "Epoch 48/200\n",
      "21/21 [==============================] - 3s 138ms/sample - loss: 0.0777 - nmse: 0.1976 - val_loss: 0.0804 - val_nmse: 0.1780\n",
      "Epoch 49/200\n",
      "21/21 [==============================] - 3s 138ms/sample - loss: 0.0768 - nmse: 0.1958 - val_loss: 0.0837 - val_nmse: 0.1844\n",
      "Epoch 50/200\n",
      "21/21 [==============================] - 3s 139ms/sample - loss: 0.0761 - nmse: 0.1939 - val_loss: 0.0774 - val_nmse: 0.1679\n",
      "Epoch 51/200\n",
      "21/21 [==============================] - 3s 138ms/sample - loss: 0.0708 - nmse: 0.1830 - val_loss: 0.0785 - val_nmse: 0.1715\n",
      "Epoch 52/200\n",
      "21/21 [==============================] - 3s 138ms/sample - loss: 0.0689 - nmse: 0.1758 - val_loss: 0.0762 - val_nmse: 0.1656\n",
      "Epoch 53/200\n",
      "21/21 [==============================] - 3s 139ms/sample - loss: 0.0645 - nmse: 0.1666 - val_loss: 0.0715 - val_nmse: 0.1531\n",
      "Epoch 54/200\n",
      "21/21 [==============================] - 3s 138ms/sample - loss: 0.0609 - nmse: 0.1537 - val_loss: 0.0739 - val_nmse: 0.1580\n",
      "Epoch 55/200\n",
      "21/21 [==============================] - 3s 139ms/sample - loss: 0.0582 - nmse: 0.1493 - val_loss: 0.0710 - val_nmse: 0.1494\n",
      "Epoch 56/200\n",
      "21/21 [==============================] - 3s 138ms/sample - loss: 0.0562 - nmse: 0.1451 - val_loss: 0.0747 - val_nmse: 0.1581\n",
      "Epoch 57/200\n",
      "21/21 [==============================] - 3s 138ms/sample - loss: 0.0537 - nmse: 0.1391 - val_loss: 0.0722 - val_nmse: 0.1529\n",
      "Epoch 58/200\n",
      "21/21 [==============================] - 3s 138ms/sample - loss: 0.0521 - nmse: 0.1362 - val_loss: 0.0715 - val_nmse: 0.1521\n",
      "Epoch 59/200\n",
      "21/21 [==============================] - 3s 138ms/sample - loss: 0.0523 - nmse: 0.1333 - val_loss: 0.0694 - val_nmse: 0.1461\n",
      "Epoch 60/200\n",
      "21/21 [==============================] - 3s 139ms/sample - loss: 0.0478 - nmse: 0.1206 - val_loss: 0.0723 - val_nmse: 0.1518\n",
      "Epoch 61/200\n",
      "21/21 [==============================] - 3s 138ms/sample - loss: 0.0454 - nmse: 0.1178 - val_loss: 0.0681 - val_nmse: 0.1420\n",
      "Epoch 62/200\n",
      "21/21 [==============================] - 3s 138ms/sample - loss: 0.0422 - nmse: 0.1086 - val_loss: 0.0705 - val_nmse: 0.1457\n",
      "Epoch 63/200\n",
      "21/21 [==============================] - 3s 139ms/sample - loss: 0.0389 - nmse: 0.0990 - val_loss: 0.0726 - val_nmse: 0.1495\n",
      "Epoch 64/200\n",
      "21/21 [==============================] - 3s 138ms/sample - loss: 0.0377 - nmse: 0.0965 - val_loss: 0.0710 - val_nmse: 0.1447\n",
      "Epoch 65/200\n",
      "21/21 [==============================] - 3s 138ms/sample - loss: 0.0364 - nmse: 0.0933 - val_loss: 0.0696 - val_nmse: 0.1433\n",
      "Epoch 66/200\n",
      "21/21 [==============================] - 3s 138ms/sample - loss: 0.0355 - nmse: 0.0883 - val_loss: 0.0723 - val_nmse: 0.1508\n",
      "Epoch 67/200\n",
      "21/21 [==============================] - 3s 137ms/sample - loss: 0.0339 - nmse: 0.0860 - val_loss: 0.0693 - val_nmse: 0.1431\n",
      "Epoch 68/200\n",
      "21/21 [==============================] - 3s 139ms/sample - loss: 0.0313 - nmse: 0.0803 - val_loss: 0.0699 - val_nmse: 0.1445\n",
      "Epoch 69/200\n",
      "21/21 [==============================] - 3s 138ms/sample - loss: 0.0296 - nmse: 0.0752 - val_loss: 0.0678 - val_nmse: 0.1401\n",
      "Epoch 70/200\n",
      "21/21 [==============================] - 3s 138ms/sample - loss: 0.0269 - nmse: 0.0689 - val_loss: 0.0665 - val_nmse: 0.1362\n",
      "Epoch 71/200\n",
      "21/21 [==============================] - 3s 138ms/sample - loss: 0.0255 - nmse: 0.0657 - val_loss: 0.0718 - val_nmse: 0.1474\n",
      "Epoch 72/200\n",
      "21/21 [==============================] - 3s 138ms/sample - loss: 0.0250 - nmse: 0.0617 - val_loss: 0.0668 - val_nmse: 0.1374\n",
      "Epoch 73/200\n",
      "21/21 [==============================] - 3s 139ms/sample - loss: 0.0237 - nmse: 0.0614 - val_loss: 0.0690 - val_nmse: 0.1410\n",
      "Epoch 74/200\n",
      "21/21 [==============================] - 3s 138ms/sample - loss: 0.0231 - nmse: 0.0587 - val_loss: 0.0695 - val_nmse: 0.1458\n",
      "Epoch 75/200\n",
      "21/21 [==============================] - 3s 139ms/sample - loss: 0.0211 - nmse: 0.0540 - val_loss: 0.0667 - val_nmse: 0.1367\n",
      "Epoch 76/200\n",
      "21/21 [==============================] - 3s 138ms/sample - loss: 0.0200 - nmse: 0.0519 - val_loss: 0.0638 - val_nmse: 0.1339\n",
      "Epoch 77/200\n",
      "21/21 [==============================] - 3s 139ms/sample - loss: 0.0210 - nmse: 0.0539 - val_loss: 0.0703 - val_nmse: 0.1493\n",
      "Epoch 78/200\n",
      "21/21 [==============================] - 3s 138ms/sample - loss: 0.0225 - nmse: 0.0574 - val_loss: 0.0675 - val_nmse: 0.1415\n",
      "Epoch 79/200\n",
      "21/21 [==============================] - 3s 139ms/sample - loss: 0.0204 - nmse: 0.0524 - val_loss: 0.0656 - val_nmse: 0.1354\n",
      "Epoch 80/200\n",
      "21/21 [==============================] - 3s 138ms/sample - loss: 0.0184 - nmse: 0.0460 - val_loss: 0.0664 - val_nmse: 0.1357\n",
      "Epoch 81/200\n",
      "21/21 [==============================] - 3s 139ms/sample - loss: 0.0181 - nmse: 0.0460 - val_loss: 0.0669 - val_nmse: 0.1376\n",
      "Epoch 82/200\n",
      "21/21 [==============================] - 3s 138ms/sample - loss: 0.0170 - nmse: 0.0437 - val_loss: 0.0652 - val_nmse: 0.1342\n",
      "Epoch 83/200\n",
      "21/21 [==============================] - 3s 138ms/sample - loss: 0.0165 - nmse: 0.0420 - val_loss: 0.0634 - val_nmse: 0.1293\n",
      "Epoch 84/200\n",
      "21/21 [==============================] - 3s 138ms/sample - loss: 0.0152 - nmse: 0.0397 - val_loss: 0.0660 - val_nmse: 0.1352\n",
      "Epoch 85/200\n",
      "21/21 [==============================] - 3s 138ms/sample - loss: 0.0151 - nmse: 0.0387 - val_loss: 0.0670 - val_nmse: 0.1373\n",
      "Epoch 86/200\n",
      "21/21 [==============================] - 3s 138ms/sample - loss: 0.0151 - nmse: 0.0387 - val_loss: 0.0663 - val_nmse: 0.1352\n",
      "Epoch 87/200\n",
      "21/21 [==============================] - 3s 138ms/sample - loss: 0.0152 - nmse: 0.0399 - val_loss: 0.0642 - val_nmse: 0.1304\n",
      "Epoch 88/200\n",
      "21/21 [==============================] - 3s 138ms/sample - loss: 0.0144 - nmse: 0.0367 - val_loss: 0.0634 - val_nmse: 0.1297\n",
      "Epoch 89/200\n",
      "21/21 [==============================] - 3s 138ms/sample - loss: 0.0135 - nmse: 0.0349 - val_loss: 0.0655 - val_nmse: 0.1343\n",
      "Epoch 90/200\n",
      "21/21 [==============================] - 3s 138ms/sample - loss: 0.0131 - nmse: 0.0327 - val_loss: 0.0682 - val_nmse: 0.1397\n",
      "Epoch 91/200\n",
      "21/21 [==============================] - 3s 139ms/sample - loss: 0.0121 - nmse: 0.0307 - val_loss: 0.0667 - val_nmse: 0.1354\n",
      "Epoch 92/200\n",
      "21/21 [==============================] - 3s 138ms/sample - loss: 0.0117 - nmse: 0.0300 - val_loss: 0.0646 - val_nmse: 0.1318\n",
      "Epoch 93/200\n",
      "21/21 [==============================] - 3s 138ms/sample - loss: 0.0105 - nmse: 0.0265 - val_loss: 0.0647 - val_nmse: 0.1311\n",
      "Epoch 94/200\n",
      "21/21 [==============================] - 3s 138ms/sample - loss: 0.0101 - nmse: 0.0260 - val_loss: 0.0628 - val_nmse: 0.1282\n",
      "Epoch 95/200\n",
      "21/21 [==============================] - 3s 138ms/sample - loss: 0.0093 - nmse: 0.0240 - val_loss: 0.0637 - val_nmse: 0.1293\n",
      "Epoch 96/200\n",
      "21/21 [==============================] - 3s 138ms/sample - loss: 0.0092 - nmse: 0.0232 - val_loss: 0.0644 - val_nmse: 0.1312\n",
      "Epoch 97/200\n",
      "21/21 [==============================] - 3s 138ms/sample - loss: 0.0089 - nmse: 0.0228 - val_loss: 0.0630 - val_nmse: 0.1285\n",
      "Epoch 98/200\n",
      "21/21 [==============================] - 3s 138ms/sample - loss: 0.0087 - nmse: 0.0226 - val_loss: 0.0630 - val_nmse: 0.1276\n",
      "Epoch 99/200\n",
      "21/21 [==============================] - 3s 138ms/sample - loss: 0.0087 - nmse: 0.0222 - val_loss: 0.0651 - val_nmse: 0.1335\n",
      "Epoch 100/200\n",
      "21/21 [==============================] - 3s 138ms/sample - loss: 0.0087 - nmse: 0.0221 - val_loss: 0.0624 - val_nmse: 0.1271\n",
      "Epoch 101/200\n",
      "21/21 [==============================] - 3s 138ms/sample - loss: 0.0081 - nmse: 0.0210 - val_loss: 0.0632 - val_nmse: 0.1284\n",
      "Epoch 102/200\n",
      "21/21 [==============================] - 3s 138ms/sample - loss: 0.0078 - nmse: 0.0200 - val_loss: 0.0626 - val_nmse: 0.1269\n",
      "Epoch 103/200\n",
      "21/21 [==============================] - 3s 138ms/sample - loss: 0.0072 - nmse: 0.0186 - val_loss: 0.0648 - val_nmse: 0.1318\n",
      "Epoch 104/200\n",
      "21/21 [==============================] - 3s 139ms/sample - loss: 0.0072 - nmse: 0.0184 - val_loss: 0.0638 - val_nmse: 0.1290\n",
      "Epoch 105/200\n",
      "21/21 [==============================] - 3s 138ms/sample - loss: 0.0070 - nmse: 0.0181 - val_loss: 0.0626 - val_nmse: 0.1271\n",
      "Epoch 106/200\n",
      "21/21 [==============================] - 3s 139ms/sample - loss: 0.0067 - nmse: 0.0173 - val_loss: 0.0617 - val_nmse: 0.1246\n",
      "Epoch 107/200\n",
      "21/21 [==============================] - 3s 138ms/sample - loss: 0.0066 - nmse: 0.0166 - val_loss: 0.0629 - val_nmse: 0.1279\n",
      "Epoch 108/200\n",
      "21/21 [==============================] - 3s 139ms/sample - loss: 0.0065 - nmse: 0.0164 - val_loss: 0.0628 - val_nmse: 0.1275\n",
      "Epoch 109/200\n",
      "21/21 [==============================] - 3s 138ms/sample - loss: 0.0062 - nmse: 0.0162 - val_loss: 0.0641 - val_nmse: 0.1302\n",
      "Epoch 110/200\n",
      "21/21 [==============================] - 3s 138ms/sample - loss: 0.0068 - nmse: 0.0175 - val_loss: 0.0637 - val_nmse: 0.1291\n",
      "Epoch 111/200\n",
      "21/21 [==============================] - 3s 138ms/sample - loss: 0.0060 - nmse: 0.0150 - val_loss: 0.0628 - val_nmse: 0.1279\n",
      "Epoch 112/200\n",
      "21/21 [==============================] - 3s 138ms/sample - loss: 0.0059 - nmse: 0.0151 - val_loss: 0.0629 - val_nmse: 0.1266\n",
      "Epoch 113/200\n",
      "21/21 [==============================] - 3s 138ms/sample - loss: 0.0059 - nmse: 0.0154 - val_loss: 0.0638 - val_nmse: 0.1303\n",
      "Epoch 114/200\n",
      "21/21 [==============================] - 3s 139ms/sample - loss: 0.0064 - nmse: 0.0160 - val_loss: 0.0622 - val_nmse: 0.1260\n",
      "Epoch 115/200\n",
      "21/21 [==============================] - 3s 138ms/sample - loss: 0.0060 - nmse: 0.0155 - val_loss: 0.0644 - val_nmse: 0.1310\n",
      "Epoch 116/200\n",
      "21/21 [==============================] - 3s 138ms/sample - loss: 0.0063 - nmse: 0.0164 - val_loss: 0.0637 - val_nmse: 0.1297\n",
      "Epoch 117/200\n",
      "21/21 [==============================] - 3s 138ms/sample - loss: 0.0057 - nmse: 0.0147 - val_loss: 0.0626 - val_nmse: 0.1262\n",
      "Epoch 118/200\n",
      "21/21 [==============================] - 3s 138ms/sample - loss: 0.0058 - nmse: 0.0151 - val_loss: 0.0635 - val_nmse: 0.1289\n",
      "Epoch 119/200\n",
      "21/21 [==============================] - 3s 138ms/sample - loss: 0.0058 - nmse: 0.0149 - val_loss: 0.0629 - val_nmse: 0.1275\n",
      "Epoch 120/200\n",
      "21/21 [==============================] - 3s 138ms/sample - loss: 0.0060 - nmse: 0.0157 - val_loss: 0.0617 - val_nmse: 0.1252\n",
      "Epoch 121/200\n",
      "21/21 [==============================] - 3s 139ms/sample - loss: 0.0058 - nmse: 0.0149 - val_loss: 0.0627 - val_nmse: 0.1274\n",
      "Epoch 122/200\n",
      "21/21 [==============================] - 3s 138ms/sample - loss: 0.0055 - nmse: 0.0141 - val_loss: 0.0649 - val_nmse: 0.1315\n",
      "Epoch 123/200\n",
      "21/21 [==============================] - 3s 139ms/sample - loss: 0.0057 - nmse: 0.0146 - val_loss: 0.0637 - val_nmse: 0.1288\n",
      "Epoch 124/200\n",
      "21/21 [==============================] - 3s 138ms/sample - loss: 0.0057 - nmse: 0.0146 - val_loss: 0.0662 - val_nmse: 0.1349\n",
      "Epoch 125/200\n",
      "21/21 [==============================] - 3s 139ms/sample - loss: 0.0064 - nmse: 0.0162 - val_loss: 0.0645 - val_nmse: 0.1306\n",
      "Epoch 126/200\n",
      "21/21 [==============================] - 3s 139ms/sample - loss: 0.0062 - nmse: 0.0157 - val_loss: 0.0649 - val_nmse: 0.1323\n",
      "Epoch 127/200\n",
      "21/21 [==============================] - 3s 139ms/sample - loss: 0.0064 - nmse: 0.0159 - val_loss: 0.0636 - val_nmse: 0.1289\n",
      "Epoch 128/200\n",
      "21/21 [==============================] - 3s 138ms/sample - loss: 0.0055 - nmse: 0.0139 - val_loss: 0.0632 - val_nmse: 0.1276\n",
      "Epoch 129/200\n",
      "21/21 [==============================] - 3s 139ms/sample - loss: 0.0054 - nmse: 0.0140 - val_loss: 0.0659 - val_nmse: 0.1337\n",
      "Epoch 130/200\n",
      "21/21 [==============================] - 3s 138ms/sample - loss: 0.0052 - nmse: 0.0134 - val_loss: 0.0620 - val_nmse: 0.1244\n",
      "Epoch 131/200\n",
      "21/21 [==============================] - 3s 139ms/sample - loss: 0.0051 - nmse: 0.0130 - val_loss: 0.0623 - val_nmse: 0.1259\n",
      "Epoch 132/200\n",
      "21/21 [==============================] - 3s 139ms/sample - loss: 0.0046 - nmse: 0.0115 - val_loss: 0.0622 - val_nmse: 0.1256\n",
      "Epoch 133/200\n",
      "21/21 [==============================] - 3s 138ms/sample - loss: 0.0043 - nmse: 0.0112 - val_loss: 0.0617 - val_nmse: 0.1246\n",
      "Epoch 134/200\n",
      "21/21 [==============================] - 3s 138ms/sample - loss: 0.0041 - nmse: 0.0103 - val_loss: 0.0622 - val_nmse: 0.1256\n",
      "Epoch 135/200\n",
      "21/21 [==============================] - 3s 138ms/sample - loss: 0.0041 - nmse: 0.0107 - val_loss: 0.0620 - val_nmse: 0.1254\n",
      "Epoch 136/200\n",
      "21/21 [==============================] - 3s 138ms/sample - loss: 0.0039 - nmse: 0.0099 - val_loss: 0.0616 - val_nmse: 0.1243\n",
      "Epoch 137/200\n",
      "21/21 [==============================] - 3s 138ms/sample - loss: 0.0040 - nmse: 0.0105 - val_loss: 0.0625 - val_nmse: 0.1261\n",
      "Epoch 138/200\n",
      "21/21 [==============================] - 3s 138ms/sample - loss: 0.0038 - nmse: 0.0099 - val_loss: 0.0630 - val_nmse: 0.1273\n",
      "Epoch 139/200\n",
      "21/21 [==============================] - 3s 138ms/sample - loss: 0.0037 - nmse: 0.0093 - val_loss: 0.0625 - val_nmse: 0.1259\n",
      "Epoch 140/200\n",
      "21/21 [==============================] - 3s 139ms/sample - loss: 0.0035 - nmse: 0.0089 - val_loss: 0.0616 - val_nmse: 0.1238\n",
      "Epoch 141/200\n",
      "21/21 [==============================] - 3s 139ms/sample - loss: 0.0034 - nmse: 0.0088 - val_loss: 0.0614 - val_nmse: 0.1241\n",
      "Epoch 142/200\n",
      "21/21 [==============================] - 3s 139ms/sample - loss: 0.0034 - nmse: 0.0086 - val_loss: 0.0617 - val_nmse: 0.1247\n",
      "Epoch 143/200\n",
      "21/21 [==============================] - 3s 139ms/sample - loss: 0.0033 - nmse: 0.0085 - val_loss: 0.0614 - val_nmse: 0.1240\n",
      "Epoch 144/200\n",
      "21/21 [==============================] - 3s 139ms/sample - loss: 0.0035 - nmse: 0.0089 - val_loss: 0.0626 - val_nmse: 0.1263\n",
      "Epoch 145/200\n",
      "21/21 [==============================] - 3s 139ms/sample - loss: 0.0035 - nmse: 0.0089 - val_loss: 0.0625 - val_nmse: 0.1264\n",
      "Epoch 146/200\n",
      "21/21 [==============================] - 3s 138ms/sample - loss: 0.0034 - nmse: 0.0088 - val_loss: 0.0620 - val_nmse: 0.1248\n",
      "Epoch 147/200\n",
      "21/21 [==============================] - 3s 139ms/sample - loss: 0.0032 - nmse: 0.0083 - val_loss: 0.0627 - val_nmse: 0.1260\n",
      "Epoch 148/200\n",
      "21/21 [==============================] - 3s 138ms/sample - loss: 0.0034 - nmse: 0.0088 - val_loss: 0.0624 - val_nmse: 0.1259\n",
      "Epoch 149/200\n",
      "21/21 [==============================] - 3s 139ms/sample - loss: 0.0034 - nmse: 0.0086 - val_loss: 0.0607 - val_nmse: 0.1225\n",
      "Epoch 150/200\n",
      "21/21 [==============================] - 3s 138ms/sample - loss: 0.0033 - nmse: 0.0088 - val_loss: 0.0616 - val_nmse: 0.1253\n",
      "Epoch 151/200\n",
      "21/21 [==============================] - 3s 138ms/sample - loss: 0.0036 - nmse: 0.0091 - val_loss: 0.0613 - val_nmse: 0.1242\n",
      "Epoch 152/200\n",
      "21/21 [==============================] - 3s 139ms/sample - loss: 0.0033 - nmse: 0.0083 - val_loss: 0.0619 - val_nmse: 0.1246\n",
      "Epoch 153/200\n",
      "21/21 [==============================] - 3s 138ms/sample - loss: 0.0031 - nmse: 0.0079 - val_loss: 0.0613 - val_nmse: 0.1240\n",
      "Epoch 154/200\n",
      "21/21 [==============================] - 3s 138ms/sample - loss: 0.0033 - nmse: 0.0083 - val_loss: 0.0613 - val_nmse: 0.1244\n",
      "Epoch 155/200\n",
      "21/21 [==============================] - 3s 138ms/sample - loss: 0.0034 - nmse: 0.0085 - val_loss: 0.0611 - val_nmse: 0.1231\n",
      "Epoch 156/200\n",
      "21/21 [==============================] - 3s 139ms/sample - loss: 0.0029 - nmse: 0.0074 - val_loss: 0.0618 - val_nmse: 0.1243\n",
      "Epoch 157/200\n",
      "21/21 [==============================] - 3s 139ms/sample - loss: 0.0028 - nmse: 0.0073 - val_loss: 0.0621 - val_nmse: 0.1249\n",
      "Epoch 158/200\n",
      "21/21 [==============================] - 3s 138ms/sample - loss: 0.0026 - nmse: 0.0067 - val_loss: 0.0623 - val_nmse: 0.1255\n",
      "Epoch 159/200\n",
      "21/21 [==============================] - 3s 139ms/sample - loss: 0.0026 - nmse: 0.0068 - val_loss: 0.0618 - val_nmse: 0.1244\n",
      "Epoch 160/200\n",
      "21/21 [==============================] - 3s 139ms/sample - loss: 0.0028 - nmse: 0.0074 - val_loss: 0.0617 - val_nmse: 0.1240\n",
      "Epoch 161/200\n",
      "21/21 [==============================] - 3s 139ms/sample - loss: 0.0029 - nmse: 0.0075 - val_loss: 0.0615 - val_nmse: 0.1240\n",
      "Epoch 162/200\n",
      "21/21 [==============================] - 3s 138ms/sample - loss: 0.0034 - nmse: 0.0091 - val_loss: 0.0616 - val_nmse: 0.1236\n",
      "Epoch 163/200\n",
      "21/21 [==============================] - 3s 138ms/sample - loss: 0.0031 - nmse: 0.0082 - val_loss: 0.0627 - val_nmse: 0.1267\n",
      "Epoch 164/200\n",
      "21/21 [==============================] - 3s 138ms/sample - loss: 0.0033 - nmse: 0.0084 - val_loss: 0.0629 - val_nmse: 0.1283\n",
      "Epoch 165/200\n",
      "21/21 [==============================] - 3s 138ms/sample - loss: 0.0038 - nmse: 0.0098 - val_loss: 0.0616 - val_nmse: 0.1251\n",
      "Epoch 166/200\n",
      "21/21 [==============================] - 3s 138ms/sample - loss: 0.0036 - nmse: 0.0091 - val_loss: 0.0609 - val_nmse: 0.1228\n",
      "Epoch 167/200\n",
      "21/21 [==============================] - 3s 139ms/sample - loss: 0.0032 - nmse: 0.0081 - val_loss: 0.0609 - val_nmse: 0.1235\n",
      "Epoch 168/200\n",
      "21/21 [==============================] - 3s 138ms/sample - loss: 0.0033 - nmse: 0.0083 - val_loss: 0.0614 - val_nmse: 0.1246\n",
      "Epoch 169/200\n",
      "21/21 [==============================] - 3s 139ms/sample - loss: 0.0032 - nmse: 0.0080 - val_loss: 0.0618 - val_nmse: 0.1254\n",
      "Epoch 170/200\n",
      "21/21 [==============================] - 3s 139ms/sample - loss: 0.0033 - nmse: 0.0085 - val_loss: 0.0610 - val_nmse: 0.1231\n",
      "Epoch 171/200\n",
      "21/21 [==============================] - 3s 138ms/sample - loss: 0.0028 - nmse: 0.0073 - val_loss: 0.0609 - val_nmse: 0.1229\n",
      "Epoch 172/200\n",
      "21/21 [==============================] - 3s 138ms/sample - loss: 0.0028 - nmse: 0.0072 - val_loss: 0.0611 - val_nmse: 0.1233\n",
      "Epoch 173/200\n",
      "21/21 [==============================] - 3s 138ms/sample - loss: 0.0028 - nmse: 0.0072 - val_loss: 0.0618 - val_nmse: 0.1245\n",
      "Epoch 174/200\n",
      "21/21 [==============================] - 3s 138ms/sample - loss: 0.0027 - nmse: 0.0068 - val_loss: 0.0624 - val_nmse: 0.1251\n",
      "Epoch 175/200\n",
      "21/21 [==============================] - 3s 138ms/sample - loss: 0.0026 - nmse: 0.0067 - val_loss: 0.0623 - val_nmse: 0.1251\n",
      "Epoch 176/200\n",
      "21/21 [==============================] - 3s 139ms/sample - loss: 0.0025 - nmse: 0.0063 - val_loss: 0.0627 - val_nmse: 0.1256\n",
      "Epoch 177/200\n",
      "21/21 [==============================] - 3s 138ms/sample - loss: 0.0023 - nmse: 0.0060 - val_loss: 0.0622 - val_nmse: 0.1251\n",
      "Epoch 178/200\n",
      "21/21 [==============================] - 3s 138ms/sample - loss: 0.0023 - nmse: 0.0061 - val_loss: 0.0616 - val_nmse: 0.1231\n",
      "Epoch 179/200\n",
      "21/21 [==============================] - 3s 139ms/sample - loss: 0.0022 - nmse: 0.0057 - val_loss: 0.0620 - val_nmse: 0.1243\n",
      "Epoch 180/200\n",
      "21/21 [==============================] - 3s 138ms/sample - loss: 0.0020 - nmse: 0.0052 - val_loss: 0.0612 - val_nmse: 0.1226\n",
      "Epoch 181/200\n",
      "21/21 [==============================] - 3s 138ms/sample - loss: 0.0019 - nmse: 0.0050 - val_loss: 0.0610 - val_nmse: 0.1225\n",
      "Epoch 182/200\n",
      "21/21 [==============================] - 3s 139ms/sample - loss: 0.0020 - nmse: 0.0052 - val_loss: 0.0614 - val_nmse: 0.1232\n",
      "Epoch 183/200\n",
      "21/21 [==============================] - 3s 138ms/sample - loss: 0.0020 - nmse: 0.0052 - val_loss: 0.0606 - val_nmse: 0.1219\n",
      "Epoch 184/200\n",
      "21/21 [==============================] - 3s 138ms/sample - loss: 0.0020 - nmse: 0.0052 - val_loss: 0.0617 - val_nmse: 0.1241\n",
      "Epoch 185/200\n",
      "21/21 [==============================] - 3s 138ms/sample - loss: 0.0020 - nmse: 0.0050 - val_loss: 0.0620 - val_nmse: 0.1245\n",
      "Epoch 186/200\n",
      "21/21 [==============================] - 3s 139ms/sample - loss: 0.0019 - nmse: 0.0048 - val_loss: 0.0613 - val_nmse: 0.1229\n",
      "Epoch 187/200\n",
      "21/21 [==============================] - 3s 138ms/sample - loss: 0.0019 - nmse: 0.0048 - val_loss: 0.0623 - val_nmse: 0.1248\n",
      "Epoch 188/200\n",
      "21/21 [==============================] - 3s 139ms/sample - loss: 0.0019 - nmse: 0.0049 - val_loss: 0.0626 - val_nmse: 0.1256\n",
      "Epoch 189/200\n",
      "21/21 [==============================] - 3s 137ms/sample - loss: 0.0019 - nmse: 0.0049 - val_loss: 0.0624 - val_nmse: 0.1253\n",
      "Epoch 190/200\n",
      "21/21 [==============================] - 3s 139ms/sample - loss: 0.0020 - nmse: 0.0050 - val_loss: 0.0625 - val_nmse: 0.1251\n",
      "Epoch 191/200\n",
      "21/21 [==============================] - 3s 139ms/sample - loss: 0.0019 - nmse: 0.0049 - val_loss: 0.0624 - val_nmse: 0.1250\n",
      "Epoch 192/200\n",
      "21/21 [==============================] - 3s 138ms/sample - loss: 0.0019 - nmse: 0.0049 - val_loss: 0.0614 - val_nmse: 0.1234\n",
      "Epoch 193/200\n",
      "21/21 [==============================] - 3s 139ms/sample - loss: 0.0017 - nmse: 0.0044 - val_loss: 0.0615 - val_nmse: 0.1232\n",
      "Epoch 194/200\n",
      "21/21 [==============================] - 3s 138ms/sample - loss: 0.0016 - nmse: 0.0042 - val_loss: 0.0616 - val_nmse: 0.1232\n",
      "Epoch 195/200\n",
      "21/21 [==============================] - 3s 138ms/sample - loss: 0.0017 - nmse: 0.0044 - val_loss: 0.0615 - val_nmse: 0.1231\n",
      "Epoch 196/200\n",
      "21/21 [==============================] - 3s 138ms/sample - loss: 0.0017 - nmse: 0.0043 - val_loss: 0.0621 - val_nmse: 0.1247\n",
      "Epoch 197/200\n",
      "21/21 [==============================] - 3s 138ms/sample - loss: 0.0016 - nmse: 0.0041 - val_loss: 0.0620 - val_nmse: 0.1246\n",
      "Epoch 198/200\n",
      "21/21 [==============================] - 3s 138ms/sample - loss: 0.0017 - nmse: 0.0043 - val_loss: 0.0620 - val_nmse: 0.1244\n",
      "Epoch 199/200\n",
      "21/21 [==============================] - 3s 138ms/sample - loss: 0.0017 - nmse: 0.0043 - val_loss: 0.0618 - val_nmse: 0.1241\n",
      "Epoch 200/200\n",
      "21/21 [==============================] - 3s 138ms/sample - loss: 0.0017 - nmse: 0.0043 - val_loss: 0.0619 - val_nmse: 0.1241\n",
      "Tiempo total de entrenamiento: 9.95 minutos.\n"
     ]
    }
   ],
   "source": [
    "start_time = time.time()\n",
    "history = model.fit(X, Y, epochs=max_epoch, batch_size=batchsize, validation_split=validation_split)\n",
    "end_time = time.time()\n",
    "total_time = end_time - start_time\n",
    "min_time = total_time / 60\n",
    "print(f'Tiempo total de entrenamiento: {min_time:.2f} minutos.')"
   ]
  },
  {
   "cell_type": "markdown",
   "metadata": {},
   "source": [
    "#########################################################################################################<br>\n",
    "#########################################################################################################<br>\n",
    "#########################################################################################################"
   ]
  },
  {
   "cell_type": "markdown",
   "metadata": {},
   "source": [
    "Visualizar el NMSE"
   ]
  },
  {
   "cell_type": "code",
   "execution_count": 26,
   "metadata": {},
   "outputs": [
    {
     "data": {
      "image/png": "[encoded data removed]",
      "text/plain": [
       "<Figure size 432x288 with 1 Axes>"
      ]
     },
     "metadata": {
      "needs_background": "light"
     },
     "output_type": "display_data"
    }
   ],
   "source": [
    "plt.plot(history.history['nmse'], label='NMSE (entrenamiento)')\n",
    "plt.plot(history.history['val_nmse'], label='NMSE (validacion)')\n",
    "plt.xlabel('Epoca')\n",
    "plt.ylabel('NMSE')\n",
    "plt.legend()\n",
    "plt.show()"
   ]
  }
 ],
 "metadata": {
  "kernelspec": {
   "display_name": "myred",
   "language": "python",
   "name": "myred"
  },
  "language_info": {
   "codemirror_mode": {
    "name": "ipython",
    "version": 3
   },
   "file_extension": ".py",
   "mimetype": "text/x-python",
   "name": "python",
   "nbconvert_exporter": "python",
   "pygments_lexer": "ipython3",
   "version": "3.6.13"
  }
 },
 "nbformat": 4,
 "nbformat_minor": 4
}
