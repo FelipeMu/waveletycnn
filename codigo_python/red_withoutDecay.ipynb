{
 "cells": [
  {
   "cell_type": "markdown",
   "metadata": {},
   "source": [
    "**Librerias para trabajar con la red neuronal y procesamiento de datos**"
   ]
  },
  {
   "cell_type": "code",
   "execution_count": 1,
   "metadata": {},
   "outputs": [],
   "source": [
    "import os\n",
    "import numpy as np # type: ignore\n",
    "from scipy.io import loadmat # type: ignore\n",
    "import tensorflow as tf # Para red neuronal profunda\n",
    "import numpy as np\n",
    "import matplotlib.pyplot as plt\n",
    "import time # Para tomar el tiempo de entrenamiento de la red\n",
    "import math"
   ]
  },
  {
   "cell_type": "code",
   "execution_count": 2,
   "metadata": {},
   "outputs": [],
   "source": [
    "os.environ['TF_ENABLE_ONEDNN_OPTS'] = '0'"
   ]
  },
  {
   "cell_type": "markdown",
   "metadata": {},
   "source": [
    "##################################################################################<br>\n",
    "##################### Convertir matrices de .mat a .npy ##########################<br>\n",
    "##################################################################################"
   ]
  },
  {
   "cell_type": "markdown",
   "metadata": {
    "editable": true,
    "slideshow": {
     "slide_type": ""
    },
    "tags": []
   },
   "source": [
    "Directorios de entrada y salida"
   ]
  },
  {
   "cell_type": "code",
   "execution_count": 3,
   "metadata": {},
   "outputs": [],
   "source": [
    "input_pam_dir = 'D:/TT/Memoria/waveletycnn/codigo_matlab/codigo_fuente/matrices_complejas_pam_mat' # matrices en formato .mat\n",
    "input_vsc_dir = 'D:/TT/Memoria/waveletycnn/codigo_matlab/codigo_fuente/matrices_complejas_vsc_mat' # matrices en formato .mat\n",
    "output_pam_dir = 'D:/TT/Memoria/waveletycnn/codigo_python/matrices_complejas_pam_python' # INPUT PARA LA RED\n",
    "output_vsc_dir = 'D:/TT/Memoria/waveletycnn/codigo_python/matrices_complejas_vsc_python' # OUTPUT O SALIDAS ESPERADAS PARA LA RED"
   ]
  },
  {
   "cell_type": "markdown",
   "metadata": {},
   "source": [
    "Crear los directorios de salida si no existen"
   ]
  },
  {
   "cell_type": "code",
   "execution_count": 4,
   "metadata": {},
   "outputs": [],
   "source": [
    "os.makedirs(output_pam_dir, exist_ok=True)\n",
    "os.makedirs(output_vsc_dir, exist_ok=True)"
   ]
  },
  {
   "cell_type": "markdown",
   "metadata": {},
   "source": [
    "Funcion para convertir archivos .mat a .npy"
   ]
  },
  {
   "cell_type": "code",
   "execution_count": 5,
   "metadata": {},
   "outputs": [
    {
     "name": "stdout",
     "output_type": "stream",
     "text": [
      "Total de archivos a analizar ->  50\n"
     ]
    }
   ],
   "source": [
    "total_files=sum(1 for filename in os.listdir(input_pam_dir) if filename.endswith('.mat')) + 1\n",
    "print(\"Total de archivos a analizar -> \",total_files-1)"
   ]
  },
  {
   "cell_type": "code",
   "execution_count": 6,
   "metadata": {},
   "outputs": [],
   "source": [
    "def convert_mat_to_npy(input_dir, output_dir, prefix):\n",
    "    for i in range(1, total_files):\n",
    "        mat_file = os.path.join(input_dir, f'{prefix}_noise_{i}.mat')\n",
    "        npy_file = os.path.join(output_dir, f'{prefix}_noise_{i}.npy')\n",
    "        \n",
    "        # Cargar el archivo .mat\n",
    "        mat_data = loadmat(mat_file)\n",
    "        \n",
    "        # Extraer la matriz compleja\n",
    "        matrix_key = [key for key in mat_data.keys() if not key.startswith('__')][0]\n",
    "        matrix = mat_data[matrix_key]\n",
    "        \n",
    "        # Guardar la matriz en formato .npy\n",
    "        np.save(npy_file, matrix)"
   ]
  },
  {
   "cell_type": "markdown",
   "metadata": {},
   "source": [
    "Convertir archivos .mat a .npy para PAM y VSC"
   ]
  },
  {
   "cell_type": "code",
   "execution_count": 7,
   "metadata": {},
   "outputs": [],
   "source": [
    "convert_mat_to_npy(input_pam_dir, output_pam_dir, 'matrix_complex_pam')\n",
    "convert_mat_to_npy(input_vsc_dir, output_vsc_dir, 'matrix_complex_vsc')"
   ]
  },
  {
   "cell_type": "markdown",
   "metadata": {},
   "source": [
    "Conversion a tensor tridimensional "
   ]
  },
  {
   "cell_type": "markdown",
   "metadata": {},
   "source": [
    "Directorios de entrada y salida"
   ]
  },
  {
   "cell_type": "code",
   "execution_count": 8,
   "metadata": {},
   "outputs": [],
   "source": [
    "input_pam_dir = 'D:/TT/Memoria/waveletycnn/codigo_python/matrices_complejas_pam_python'\n",
    "input_vsc_dir = 'D:/TT/Memoria/waveletycnn/codigo_python/matrices_complejas_vsc_python'\n",
    "output_pam_dir = 'D:/TT/Memoria/waveletycnn/codigo_python/matrices_complejas_pam_procesadas'\n",
    "output_vsc_dir = 'D:/TT/Memoria/waveletycnn/codigo_python/matrices_complejas_vsc_procesadas'"
   ]
  },
  {
   "cell_type": "markdown",
   "metadata": {},
   "source": [
    "Crear directorios de salida si no existen"
   ]
  },
  {
   "cell_type": "code",
   "execution_count": 9,
   "metadata": {},
   "outputs": [],
   "source": [
    "os.makedirs(output_pam_dir, exist_ok=True)\n",
    "os.makedirs(output_vsc_dir, exist_ok=True)"
   ]
  },
  {
   "cell_type": "markdown",
   "metadata": {},
   "source": [
    "####################################################\n",
    "PREPROCESAMIENTO ANTES DE NORMALIZACIÓN DE MATRICES\n",
    "####################################################"
   ]
  },
  {
   "cell_type": "markdown",
   "metadata": {},
   "source": [
    "**CÁLCULO DE LA MEDIA - PAM & VSC (la media se calcula teniendo en cuenta todas las matrices)**"
   ]
  },
  {
   "cell_type": "code",
   "execution_count": null,
   "metadata": {},
   "outputs": [],
   "source": [
    "# Acumuladores para calcular la media de cada matriz (real e imaginaria) y la desviacion estandar\n",
    "\n",
    "#==========================\n",
    "#=== PAM SIGNAl ===========\n",
    "#==========================\n",
    "#===\n",
    "# Para media\n",
    "#===\n",
    "sumatoria_real_pam = 0\n",
    "media_real_pam = 0\n",
    "\n",
    "sumatoria_imag_pam = 0\n",
    "media_imag_pam = 0\n",
    "#===\n",
    "# Para la desviacion estandar\n",
    "#===\n",
    "sumatoria_real_cuadrada_pam = 0\n",
    "sumatoria_imag_cuadrada_pam = 0\n",
    "\n",
    "desv_real_pam = 0\n",
    "desv_imag_pam = 0\n",
    "\n",
    "\n",
    "#==========================\n",
    "#=== VSC SIGNAl ===========\n",
    "#==========================\n",
    "#===\n",
    "# Para media\n",
    "#===\n",
    "sumatoria_real_vsc = 0\n",
    "media_real_vsc = 0\n",
    "\n",
    "sumatoria_imag_vsc = 0\n",
    "media_imag_vsc = 0\n",
    "#===\n",
    "# Para la desviacion estandar\n",
    "#===\n",
    "sumatoria_real_cuadrada_vsc = 0\n",
    "sumatoria_imag_cuadrada_vsc = 0\n",
    "\n",
    "desv_real_vsc = 0\n",
    "desv_imag_vsc = 0\n",
    "\n",
    "\n"
   ]
  },
  {
   "cell_type": "markdown",
   "metadata": {},
   "source": [
    "**FUNCIONES PARA EL CÁLCULO DE LA MEDIA Y DESVIACIÓN ESTÁNDAR PARA LAS SEÑALES [[  PAM  ]]**"
   ]
  },
  {
   "cell_type": "code",
   "execution_count": null,
   "metadata": {},
   "outputs": [],
   "source": [
    "#Entrada: matriz(array bidimensiional nxm), sumatoria_real_pam(int)\n",
    "#Salida: -\n",
    "#Descripcion: funcion que suma todos los elementos de una matriz (parte real de una matriz compleja PAM)\n",
    "def sumatoria_acumulada_real_pam(matriz):\n",
    "    global sumatoria_real_pam\n",
    "    sumatoria_real_pam = sumatoria_real_pam + np.sum(matriz)\n",
    "    #print(sumatoria_real_pam)\n",
    "\n",
    "#Entrada: matriz(array bidimensiional nxm), sumatoria_real_cuadrada_pam(int)\n",
    "#Salida: -\n",
    "#Descripcion: funcion que tiene como objetivo calcular el (x - u)^2 para su posterior uso en el calculo de la desviacion estandar. \n",
    "#             Con \"x\" cada elementos de la matriz y \"u\" la media de todas las matrices PAM.\n",
    "def sumatoria_acumulada_real_cuadrada_pam(matriz):\n",
    "    global sumatoria_real_cuadrada_pam, media_real_pam\n",
    "    for fila in matriz:\n",
    "        for elemento in fila:\n",
    "            sumatoria_real_cuadrada_pam = sumatoria_real_cuadrada_pam + (elemento - media_real_pam)**2\n",
    "\n",
    "\n",
    "#=====================================================================================================================================================\n",
    "#=====================================================================================================================================================\n",
    "\n",
    "\n",
    "#Entrada: matriz(array bidimensiional nxm), sumatoria_imag_pam(int)\n",
    "#Salida: -\n",
    "#Descripcion: funcion que suma todos los elementos de una matriz (parte imaginaria de una matriz compleja PAM)\n",
    "def sumatoria_acumulada_imag_pam(matriz):\n",
    "    global sumatoria_imag_pam\n",
    "    sumatoria_imag_pam = sumatoria_imag_pam + np.sum(matriz)\n",
    "\n",
    "#Entrada: matriz(array bidimensiional nxm), sumatoria_imag_cuadrada_pam(int)\n",
    "#Salida: -\n",
    "#Descripcion: funcion que tiene como objetivo calcular el (x - u)^2 para su posterior uso en el calculo de la desviacion estandar. \n",
    "#             Con \"x\" cada elementos de la matriz y \"u\" la media de todas las matrices PAM.\n",
    "def sumatoria_acumulada_imag_cuadrada_pam(matriz):\n",
    "    global sumatoria_imag_cuadrada_pam, media_imag_pam\n",
    "    for fila in matriz:\n",
    "        for elemento in fila:\n",
    "            sumatoria_imag_cuadrada_pam = sumatoria_imag_cuadrada_pam + (elemento - media_imag_pam)**2\n",
    "\n",
    "\n"
   ]
  },
  {
   "cell_type": "markdown",
   "metadata": {},
   "source": [
    "**FUNCIONES PARA EL CÁLCULO DE LA MEDIA Y DESVIACIÓN ESTÁNDAR PARA LAS SEÑALES [[  VSC  ]]**"
   ]
  },
  {
   "cell_type": "code",
   "execution_count": null,
   "metadata": {},
   "outputs": [],
   "source": [
    "#Entrada: matriz(array bidimensiional nxm), sumatoria_real_vsc(int)\n",
    "#Salida: -\n",
    "#Descripcion: funcion que suma todos los elementos de una matriz (parte real de una matriz compleja VSC)\n",
    "def sumatoria_acumulada_real_vsc(matriz):\n",
    "    global sumatoria_real_vsc\n",
    "    sumatoria_real_vsc = sumatoria_real_vsc + np.sum(matriz)\n",
    "\n",
    "\n",
    "#Entrada: matriz(array bidimensiional nxm), sumatoria_real_cuadrada_vsc(int)\n",
    "#Salida: -\n",
    "#Descripcion: funcion que tiene como objetivo calcular el (x - u)^2 para su posterior uso en el calculo de la desviacion estandar. \n",
    "#             Con \"x\" cada elementos de la matriz y \"u\" la media de todas las matrices VSC.\n",
    "def sumatoria_acumulada_real_cuadrada_vsc(matriz):\n",
    "    global sumatoria_real_cuadrada_vsc, media_real_vsc\n",
    "    for fila in matriz:\n",
    "        for elemento in fila:\n",
    "            sumatoria_real_cuadrada_vsc = sumatoria_real_cuadrada_vsc + (elemento - media_real_vsc)**2\n",
    "\n",
    "\n",
    "#=====================================================================================================================================================\n",
    "#=====================================================================================================================================================\n",
    "\n",
    "\n",
    "#Entrada: matriz(array bidimensiional nxm), sumatoria_imag_vsc(int)\n",
    "#Salida: -\n",
    "#Descripcion: funcion que suma todos los elementos de una matriz (parte imaginaria de una matriz compleja VSC)\n",
    "def sumatoria_acumulada_imag_vsc(matriz):\n",
    "    global sumatoria_imag_vsc\n",
    "    sumatoria_imag_vsc = sumatoria_imag_vsc + np.sum(matriz)\n",
    "\n",
    "\n",
    "#Entrada: matriz(array bidimensiional nxm), sumatoria_imag_cuadrada_vsc(int)\n",
    "#Salida: -\n",
    "#Descripcion: funcion que tiene como objetivo calcular el (x - u)^2 para su posterior uso en el calculo de la desviacion estandar. \n",
    "#             Con \"x\" cada elementos de la matriz y \"u\" la media de todas las matrices VSC.\n",
    "def sumatoria_acumulada_imag_cuadrada_vsc(matriz):\n",
    "    global sumatoria_imag_cuadrada_vsc, media_imag_vsc\n",
    "    for fila in matriz:\n",
    "        for elemento in fila:\n",
    "            sumatoria_imag_cuadrada_vsc = sumatoria_imag_cuadrada_vsc + (elemento - media_imag_vsc)**2\n",
    "\n",
    "\n"
   ]
  },
  {
   "cell_type": "markdown",
   "metadata": {},
   "source": [
    "**RECORRER MATRICES & CÁLCULO DE LA MEDIA  MATRIZ PAM (Presion Arterial Media)**"
   ]
  },
  {
   "cell_type": "code",
   "execution_count": null,
   "metadata": {},
   "outputs": [],
   "source": [
    "for filename in os.listdir(input_pam_dir):\n",
    "    if filename.endswith('.npy'):\n",
    "        # Se obtiene el archivo .npy en el directorio \"input_pam_dir\"\n",
    "        input_path = os.path.join(input_pam_dir, filename)\n",
    "        # Cargar la matriz compleja\n",
    "        matriz_compleja = np.load(input_path)\n",
    "        \n",
    "        #========\n",
    "        # Normalizacion de los matrices\n",
    "        #========\n",
    "        # Sumar todos los datos de las matrices\n",
    "        sumatoria_acumulada_real_pam(matriz_compleja.real) # para matriz real\n",
    "        sumatoria_acumulada_imag_pam(matriz_compleja.imag) # para matriz imaginaria\n",
    "\n",
    "\n",
    "\n",
    "# Se calcula la media real de matrices correspondientes a pam signals: Se suman cada unos de los coeficientes de cada matriz real pam (archivos x filas x columnas)\n",
    "num_files_input_pam_dir = sum(1 for filename in os.listdir(input_pam_dir) if filename.endswith('.npy'))\n",
    "filas_matriz, columnas_matriz = matriz_compleja.shape\n",
    "coefs_totales =  num_files_input_pam_dir * filas_matriz * columnas_matriz # N\n",
    "media_real_pam = sumatoria_real_pam / coefs_totales # MEDIA REAL\n",
    "media_imag_pam = sumatoria_imag_pam / coefs_totales # MEDIA IMAGINARIA\n",
    "\n"
   ]
  },
  {
   "cell_type": "markdown",
   "metadata": {},
   "source": [
    "**RECORRER MATRICES Y CÁLCULO DE LA DESVIACIÓN ESTÁNDAR || MATRIZ PAM (Presion Arterial Media)**"
   ]
  },
  {
   "cell_type": "code",
   "execution_count": null,
   "metadata": {},
   "outputs": [],
   "source": [
    "for filename in os.listdir(input_pam_dir):\n",
    "    if filename.endswith('.npy'):\n",
    "        # Se obtiene el archivo .npy en el directorio \"input_pam_dir\"\n",
    "        input_path = os.path.join(input_pam_dir, filename)\n",
    "        # Cargar la matriz compleja\n",
    "        matriz_compleja = np.load(input_path)\n",
    "\n",
    "        # Calculo de sumatoria(x - u)^2 - matriz real\n",
    "        sumatoria_acumulada_real_cuadrada_pam(matriz_compleja.real)\n",
    "        # Calculo de sumatoria(x - u)^2 - matriz imaginaria\n",
    "        sumatoria_acumulada_imag_cuadrada_pam(matriz_compleja.imag)\n",
    "\n",
    "# Se calcula de desviacion estandar de las matrices reales e imaginarias\n",
    "desv_real_pam = np.square(sumatoria_real_cuadrada_pam/coefs_totales)\n",
    "desv_imag_pam = np.square(sumatoria_imag_cuadrada_pam/coefs_totales)"
   ]
  },
  {
   "cell_type": "markdown",
   "metadata": {},
   "source": [
    "#==============================================================================================================================\n",
    "#==============================================================================================================================\n",
    "#=============================================================================================================================="
   ]
  },
  {
   "cell_type": "markdown",
   "metadata": {},
   "source": [
    "**RECORRER MATRICES & CÁLCULO DE LA MEDIA MATRIZ VSC (Velocidad Sanguínea Cerebral)**"
   ]
  },
  {
   "cell_type": "code",
   "execution_count": null,
   "metadata": {},
   "outputs": [],
   "source": [
    "for filename in os.listdir(input_vsc_dir):\n",
    "    if filename.endswith('.npy'):\n",
    "        # Se obtiene el archivo .npy en el directorio \"input_vsc_dir\"\n",
    "        input_path = os.path.join(input_vsc_dir, filename)\n",
    "        # Cargar la matriz compleja\n",
    "        matriz_compleja = np.load(input_path)\n",
    "        \n",
    "        #========\n",
    "        # Normalizacion de los matrices\n",
    "        #========\n",
    "        # Sumar todos los datos de las matrices\n",
    "        sumatoria_acumulada_real_vsc(matriz_compleja.real) # para matriz real\n",
    "        sumatoria_acumulada_imag_vsc(matriz_compleja.imag) # para matriz imaginaria\n",
    "\n",
    "\n",
    "\n",
    "# Se calcula la media real de matrices correspondientes a vsc signals: Se suman cada unos de los coeficientes de cada matriz real vsc (archivos x filas x columnas)\n",
    "num_files_input_vsc_dir = sum(1 for filename in os.listdir(input_vsc_dir) if filename.endswith('.npy'))\n",
    "media_real_vsc = sumatoria_real_vsc / coefs_totales # MEDIA REAL\n",
    "media_imag_vsc = sumatoria_imag_vsc / coefs_totales # MEDIA IMAGINARIA\n",
    "\n"
   ]
  },
  {
   "cell_type": "markdown",
   "metadata": {},
   "source": [
    "**RECORRER MATRICES Y CÁLCULO DE LA DESVIACIÓN ESTÁNDAR || MATRIZ VSC (Velocidad Sanguínea Cerebral)**"
   ]
  },
  {
   "cell_type": "code",
   "execution_count": null,
   "metadata": {},
   "outputs": [],
   "source": [
    "for filename in os.listdir(input_vsc_dir):\n",
    "    if filename.endswith('.npy'):\n",
    "        # Se obtiene el archivo .npy en el directorio \"input_vsc_dir\"\n",
    "        input_path = os.path.join(input_vsc_dir, filename)\n",
    "        # Cargar la matriz compleja\n",
    "        matriz_compleja = np.load(input_path)\n",
    "\n",
    "        # Calculo de sumatoria(x - u)^2 - matriz real\n",
    "        sumatoria_acumulada_real_cuadrada_vsc(matriz_compleja.real)\n",
    "        # Calculo de sumatoria(x - u)^2 - matriz imaginaria\n",
    "        sumatoria_acumulada_imag_cuadrada_vsc(matriz_compleja.imag)\n",
    "\n",
    "# Se calcula de desviacion estandar de las matrices reales e imaginarias\n",
    "desv_real_vsc = np.square(sumatoria_real_cuadrada_vsc/coefs_totales)\n",
    "desv_imag_vsc = np.square(sumatoria_imag_cuadrada_vsc/coefs_totales)"
   ]
  },
  {
   "cell_type": "markdown",
   "metadata": {},
   "source": [
    "##############################################################\n",
    "**NORMALIZACION MIN-MAX**\n",
    "##############################################################"
   ]
  },
  {
   "cell_type": "code",
   "execution_count": 10,
   "metadata": {},
   "outputs": [],
   "source": [
    "min_real_pam = 1000000\n",
    "min_imag_pam = 1000000\n",
    "max_real_pam = -100\n",
    "max_imag_pam = -100\n",
    "\n",
    "min_real_vsc = 1000000\n",
    "min_imag_vsc = 1000000\n",
    "max_real_vsc = -100\n",
    "max_imag_vsc = -100\n"
   ]
  },
  {
   "cell_type": "code",
   "execution_count": 11,
   "metadata": {},
   "outputs": [],
   "source": [
    "\n",
    "#PAM: encontrar min y max de matrices reales e imaginarias\n",
    "def encontrar_min_pam(matriz):\n",
    "    global min_real_pam, min_imag_pam\n",
    "    if np.min(matriz.real) < min_real_pam:\n",
    "        min_real_pam = np.min(matriz.real)\n",
    "\n",
    "    if np.min(matriz.imag) < min_imag_pam:\n",
    "        min_imag_pam = np.min(matriz.imag)\n",
    "\n",
    "\n",
    "def encontrar_max_pam(matriz):\n",
    "    global max_real_pam, max_imag_pam\n",
    "    if np.max(matriz.real) > max_real_pam:\n",
    "        max_real_pam = np.max(matriz.real)\n",
    "\n",
    "    if np.max(matriz.imag) > max_imag_pam:\n",
    "        max_imag_pam = np.max(matriz.imag)\n",
    "\n",
    "\n",
    "\n",
    "\n",
    "#################################################################################################\n",
    "#################################################################################################\n",
    "#################################################################################################\n",
    "\n",
    "\n",
    "#VSC: encontrar min y max de matrices reales e imaginarias\n",
    "\n",
    "def encontrar_min_vsc(matriz):\n",
    "    global min_real_vsc, min_imag_vsc\n",
    "    if np.min(matriz.real) < min_real_vsc:\n",
    "        min_real_vsc = np.min(matriz.real)\n",
    "\n",
    "    if np.min(matriz.imag) < min_imag_vsc:\n",
    "        min_imag_vsc = np.min(matriz.imag)\n",
    "\n",
    "\n",
    "def encontrar_max_vsc(matriz):\n",
    "    global max_real_vsc, max_imag_vsc\n",
    "    if np.max(matriz.real) > max_real_vsc:\n",
    "        max_real_vsc = np.max(matriz.real)\n",
    "\n",
    "    if np.max(matriz.imag) > max_imag_vsc:\n",
    "        max_imag_vsc = np.max(matriz.imag)\n"
   ]
  },
  {
   "cell_type": "code",
   "execution_count": 12,
   "metadata": {},
   "outputs": [
    {
     "name": "stdout",
     "output_type": "stream",
     "text": [
      "-4.965643077802941\n",
      "-4.885939439504201\n",
      "4.873495867956401\n",
      "4.931177044878733\n",
      "------------\n",
      "-3.2495473454555928\n",
      "-3.343932281987328\n",
      "3.2846809556471435\n",
      "3.125149418585771\n"
     ]
    }
   ],
   "source": [
    "#TESTING MIN-MAX\n",
    "#PAM\n",
    "for filename in os.listdir(input_pam_dir):\n",
    "    if filename.endswith('.npy'):\n",
    "        # Se obtiene el archivo .npy en el directorio \"input_vsc_dir\"\n",
    "        input_path = os.path.join(input_pam_dir, filename)\n",
    "        # Cargar la matriz compleja\n",
    "        matriz_compleja = np.load(input_path)\n",
    "\n",
    "        # Iterando sobre todas las matrices para encontrar el min y max\n",
    "        encontrar_min_pam(matriz_compleja)\n",
    "        encontrar_max_pam(matriz_compleja)\n",
    "\n",
    "#VSC\n",
    "for filename in os.listdir(input_vsc_dir):\n",
    "    if filename.endswith('.npy'):\n",
    "        # Se obtiene el archivo .npy en el directorio \"input_vsc_dir\"\n",
    "        input_path = os.path.join(input_vsc_dir, filename)\n",
    "        # Cargar la matriz compleja\n",
    "        matriz_compleja = np.load(input_path)\n",
    "\n",
    "        # Iterando sobre todas las matrices para encontrar el min y max\n",
    "        encontrar_min_vsc(matriz_compleja)\n",
    "        encontrar_max_vsc(matriz_compleja)\n",
    "        \n",
    "\n",
    "print(min_real_pam)\n",
    "print(min_imag_pam)\n",
    "print(max_real_pam)\n",
    "print(max_imag_pam)\n",
    "\n",
    "print(\"------------\")\n",
    "\n",
    "print(min_real_vsc)\n",
    "print(min_imag_vsc)\n",
    "print(max_real_vsc)\n",
    "print(max_imag_vsc)"
   ]
  },
  {
   "cell_type": "markdown",
   "metadata": {},
   "source": [
    "**APLICACIÓN DE NORMALIZACION A LAS MATRICES PAM Y VSC**"
   ]
  },
  {
   "cell_type": "markdown",
   "metadata": {},
   "source": [
    "**NORMALIZACIÓN MEDIANTE Z-CORE**<br>\n",
    "z = (x - u) / desv"
   ]
  },
  {
   "cell_type": "code",
   "execution_count": null,
   "metadata": {},
   "outputs": [],
   "source": [
    "#Entrada: matriz_compleja PAM (array bidimensional)\n",
    "#Salida: z_real (matriz real de pam normalizada), z_imag (matriz imag de pam normalizada)\n",
    "#Descripcion: funcion encargada de normalizar una matriz pam y retornar las matrices real e imaginarias normalizadas\n",
    "def normalizacion_pam(matriz_compleja):\n",
    "    global media_real_pam, media_imag_pam, desv_real_pam, desv_imag_pam\n",
    "    # Aplicacion de normalziacion z-core || z=(x - u)/desv\n",
    "    z_real = (matriz_compleja.real - media_real_pam) / desv_real_pam # normalizarcion parte real pam\n",
    "    z_imag = (matriz_compleja.imag - media_imag_pam) / desv_imag_pam # normalizacion parte imaginaria pam\n",
    "    return z_real, z_imag\n",
    "\n",
    "#Entrada: matriz_compleja PAM (array bidimensional)\n",
    "#Salida: z_real (matriz real de pam normalizada), z_imag (matriz imag de pam normalizada)\n",
    "#Descripcion: funcion encargada de normalizar una matriz pam y retornar las matrices real e imaginarias normalizadas\n",
    "def normalizacion_vsc(matriz_compleja):\n",
    "    global media_real_vsc, media_imag_vsc, desv_real_vsc, desv_imag_vsc\n",
    "    # Aplicacion de normalziacion z-core || z=(x - u)/desv\n",
    "    z_real = (matriz_compleja.real - media_real_vsc) / desv_real_vsc # normalizarcion parte real pam\n",
    "    z_imag = (matriz_compleja.imag - media_imag_vsc) / desv_imag_vsc # normalizacion parte imaginaria pam\n",
    "    return z_real, z_imag\n"
   ]
  },
  {
   "cell_type": "markdown",
   "metadata": {},
   "source": [
    "**NORMALIZACIÓN MEDIANTE MIN - MAX**<br>\n",
    "Ni = (Xi - Xmin) / (Xmax - Xmin)"
   ]
  },
  {
   "cell_type": "code",
   "execution_count": 13,
   "metadata": {},
   "outputs": [],
   "source": [
    "\n",
    "#Entrada: matriz_compleja (array bidimensional de matriz PAM)\n",
    "#Salida: n_real (matriz real de pam normalizada), n_imag (matriz imag de pam normalizada)\n",
    "#Descripcion: funcion encargada de normalizar una matriz pam y retornar las matrices real e imaginarias normalizadas\n",
    "def normalizacion_minmax_pam(matriz_compleja):\n",
    "    global min_real_pam, max_real_pam, min_imag_pam, max_imag_pam\n",
    "    n_real = (matriz_compleja.real - min_real_pam) / (max_real_pam - min_real_pam)\n",
    "    n_imag = (matriz_compleja.imag - min_imag_pam) / (max_imag_pam - min_imag_pam)\n",
    "    return n_real, n_imag\n",
    "\n",
    "\n",
    "#Entrada: matriz_compleja (array bidimensional de matriz VSC)\n",
    "#Salida: n_real (matriz real de vsc normalizada), n_imag (matriz imag de vsc normalizada)\n",
    "#Descripcion: funcion encargada de normalizar una matriz vsc y retornar las matrices real e imaginarias normalizadas\n",
    "def normalizacion_minmax_vsc(matriz_compleja):\n",
    "    global min_real_vsc, max_real_vsc,  min_imag_vsc, max_imag_vsc\n",
    "    n_real = (matriz_compleja.real - min_real_vsc) / (max_real_vsc - min_real_vsc)\n",
    "    n_imag = (matriz_compleja.imag - min_imag_vsc) / (max_imag_vsc - min_imag_vsc)\n",
    "    return n_real, n_imag\n"
   ]
  },
  {
   "cell_type": "markdown",
   "metadata": {},
   "source": [
    "**PROCESAR MATRICES SEGÚN UNA NORMALIZACIÓN Y ORGANIZAR DATOS PARA LA RED**"
   ]
  },
  {
   "cell_type": "code",
   "execution_count": 14,
   "metadata": {},
   "outputs": [],
   "source": [
    "\n",
    "#Entrada: matriz_compleja (array bidimensional)\n",
    "#Salida: datos_organizados (tensor de datos de la matriz pam)\n",
    "#Descripcion: funcion encargada de normalizar cada matriz pam y definir el input para la red u-net\n",
    "def procesar_matriz_compleja_pam(matriz_compleja):\n",
    "    \n",
    "    # Aplicacion de normalziacion Z-CORE || z = (x - u) / desv\n",
    "    #norm_real, norm_imag = normalizacion_pam(matriz_compleja)\n",
    "\n",
    "    # Aplicacion de normalziacion MIN-MAX || Ni = (Xi - Xmin) / (Xmax - Xmin)\n",
    "    norm_real, norm_imag = normalizacion_minmax_pam(matriz_compleja)\n",
    "\n",
    "    # Crear input adecuado\n",
    "    datos_organizados = np.stack((norm_real, norm_imag), axis=-1)\n",
    "    #datos_organizados = np.stack((matriz_compleja.real, matriz_compleja.imag), axis=-1)\n",
    "    return datos_organizados\n",
    "\n",
    "\n",
    "\n",
    "\n",
    "\n",
    "#Entrada: matriz_compleja (array bidimensional)\n",
    "#Salida: datos_organizados (tensor de datos de la matriz vsc)\n",
    "#Descripcion: funcion encargada de normalizar cada matriz vsc y definir el input para la red u-net\n",
    "def procesar_matriz_compleja_vsc(matriz_compleja):\n",
    "    \n",
    "    # Aplicacion de normalziacion Z-CORE || z=(x - u)/desv\n",
    "    #norm_real, norm_imag = normalizacion_vsc(matriz_compleja)\n",
    "\n",
    "    # Aplicacion de normalziacion MIN-MAX || Ni = (Xi-Xmin)/(Xmax-Xmin)\n",
    "    norm_real, norm_imag = normalizacion_minmax_vsc(matriz_compleja)\n",
    "    \n",
    "    # Crear input adecuado\n",
    "    datos_organizados = np.stack((norm_real, norm_imag), axis=-1)\n",
    "    #datos_organizados = np.stack((matriz_compleja.real, matriz_compleja.imag), axis=-1)\n",
    "    return datos_organizados"
   ]
  },
  {
   "cell_type": "markdown",
   "metadata": {},
   "source": [
    "**PROCESAR MATRICES COMPLEJAS EN LA CARPETA input_pam_dir y procesar matrices mediante una normalización**"
   ]
  },
  {
   "cell_type": "code",
   "execution_count": 15,
   "metadata": {},
   "outputs": [],
   "source": [
    "for filename in os.listdir(input_pam_dir):\n",
    "    if filename.endswith('.npy'):\n",
    "        input_path = os.path.join(input_pam_dir, filename)\n",
    "        output_path = os.path.join(output_pam_dir, filename)\n",
    "        \n",
    "        # Cargar la matriz compleja\n",
    "        matriz_compleja = np.load(input_path)\n",
    "        \n",
    "        # Procesar la matriz compleja segun una normalizacion\n",
    "        datos_organizados = procesar_matriz_compleja_pam(matriz_compleja)\n",
    "        \n",
    "        # Guardar los datos procesados\n",
    "        np.save(output_path, datos_organizados)\n",
    "\n"
   ]
  },
  {
   "cell_type": "markdown",
   "metadata": {},
   "source": [
    "**PROCESAR MATRICES COMPLEJAS EN LA CARPETA input_vsc_dir**"
   ]
  },
  {
   "cell_type": "code",
   "execution_count": 16,
   "metadata": {},
   "outputs": [
    {
     "name": "stdout",
     "output_type": "stream",
     "text": [
      "Procesamiento completado.\n"
     ]
    }
   ],
   "source": [
    "for filename in os.listdir(input_vsc_dir):\n",
    "    if filename.endswith('.npy'):\n",
    "        input_path = os.path.join(input_vsc_dir, filename)\n",
    "        output_path = os.path.join(output_vsc_dir, filename)\n",
    "        \n",
    "        # Cargar la matriz compleja\n",
    "        matriz_compleja = np.load(input_path)\n",
    "        \n",
    "        # Procesar la matriz compleja segun una normalizacion\n",
    "        datos_organizados = procesar_matriz_compleja_vsc(matriz_compleja)\n",
    "        \n",
    "        # Guardar los datos procesados\n",
    "        np.save(output_path, datos_organizados)\n",
    "        \n",
    "print(\"Procesamiento completado.\")"
   ]
  },
  {
   "cell_type": "markdown",
   "metadata": {},
   "source": [
    "**Verificacion de \"shape\" - matrices pam y vsc**"
   ]
  },
  {
   "cell_type": "markdown",
   "metadata": {},
   "source": [
    "Directorios de salida"
   ]
  },
  {
   "cell_type": "code",
   "execution_count": 17,
   "metadata": {},
   "outputs": [],
   "source": [
    "output_pam_dir_check = 'D:/TT/Memoria/waveletycnn/codigo_python/matrices_complejas_pam_procesadas'\n",
    "output_vsc_dir_check = 'D:/TT/Memoria/waveletycnn/codigo_python/matrices_complejas_vsc_procesadas'"
   ]
  },
  {
   "cell_type": "markdown",
   "metadata": {},
   "source": [
    "Funcion para verificar la forma de una matriz"
   ]
  },
  {
   "cell_type": "code",
   "execution_count": 18,
   "metadata": {},
   "outputs": [],
   "source": [
    "def verificar_shape(directorio, nombre_archivo):\n",
    "    path = os.path.join(directorio, nombre_archivo)\n",
    "    matriz = np.load(path)\n",
    "    return matriz.shape"
   ]
  },
  {
   "cell_type": "markdown",
   "metadata": {},
   "source": [
    "Verificar la forma de un archivo de ejemplo en output_pam_dir_check"
   ]
  },
  {
   "cell_type": "code",
   "execution_count": 19,
   "metadata": {},
   "outputs": [
    {
     "name": "stdout",
     "output_type": "stream",
     "text": [
      "Shape de matrix_complex_pam_noise_1.npy en D:/TT/Memoria/waveletycnn/codigo_python/matrices_complejas_pam_procesadas: (36, 1024, 2)\n"
     ]
    }
   ],
   "source": [
    "ejemplo_pam = os.listdir(output_pam_dir_check)[0]  # Obtener el primer archivo de la carpeta\n",
    "shape_pam = verificar_shape(output_pam_dir_check, ejemplo_pam)\n",
    "print(f\"Shape de {ejemplo_pam} en {output_pam_dir_check}: {shape_pam}\")"
   ]
  },
  {
   "cell_type": "markdown",
   "metadata": {},
   "source": [
    "Verificar la forma de un archivo de ejemplo en output_vsc_dir_check"
   ]
  },
  {
   "cell_type": "code",
   "execution_count": 20,
   "metadata": {},
   "outputs": [
    {
     "name": "stdout",
     "output_type": "stream",
     "text": [
      "Shape de matrix_complex_vsc_noise_1.npy en D:/TT/Memoria/waveletycnn/codigo_python/matrices_complejas_vsc_procesadas: (36, 1024, 2)\n"
     ]
    }
   ],
   "source": [
    "ejemplo_vsc = os.listdir(output_vsc_dir_check)[0]  # Obtener el primer archivo de la carpeta\n",
    "shape_vsc = verificar_shape(output_vsc_dir_check, ejemplo_vsc)\n",
    "print(f\"Shape de {ejemplo_vsc} en {output_vsc_dir_check}: {shape_vsc}\")"
   ]
  },
  {
   "cell_type": "markdown",
   "metadata": {},
   "source": [
    "**|||Red Neuronal Profunda: U-net|||**"
   ]
  },
  {
   "cell_type": "markdown",
   "metadata": {},
   "source": [
    "Directorios de entrada"
   ]
  },
  {
   "cell_type": "code",
   "execution_count": 21,
   "metadata": {},
   "outputs": [],
   "source": [
    "input_pam_dir = 'D:/TT/Memoria/waveletycnn/codigo_python/matrices_complejas_pam_procesadas'\n",
    "output_vsc_dir = 'D:/TT/Memoria/waveletycnn/codigo_python/matrices_complejas_vsc_procesadas'"
   ]
  },
  {
   "cell_type": "markdown",
   "metadata": {},
   "source": [
    "Funcion para cargar los archivos .npy"
   ]
  },
  {
   "cell_type": "code",
   "execution_count": 22,
   "metadata": {},
   "outputs": [],
   "source": [
    "def load_npy_files(input_dir):\n",
    "    files = sorted([os.path.join(input_dir, f) for f in os.listdir(input_dir) if f.endswith('.npy')])\n",
    "     # verificar orden con que entrar los archivos en X e Y\n",
    "    file_names = [os.path.basename(f) for f in files]\n",
    "    print(f\"Archivos: {file_names}\\n\")\n",
    "    data = [np.load(f) for f in files]\n",
    "    return np.array(data)"
   ]
  },
  {
   "cell_type": "markdown",
   "metadata": {},
   "source": [
    "CARGA DE DATOS DE ENTRADAS Y SALIDAS PARA LA RED (X: INPUTS; Y: OUTPUTS)"
   ]
  },
  {
   "cell_type": "code",
   "execution_count": 23,
   "metadata": {},
   "outputs": [
    {
     "name": "stdout",
     "output_type": "stream",
     "text": [
      "Archivos: ['matrix_complex_pam_noise_1.npy', 'matrix_complex_pam_noise_10.npy', 'matrix_complex_pam_noise_11.npy', 'matrix_complex_pam_noise_12.npy', 'matrix_complex_pam_noise_13.npy', 'matrix_complex_pam_noise_14.npy', 'matrix_complex_pam_noise_15.npy', 'matrix_complex_pam_noise_16.npy', 'matrix_complex_pam_noise_17.npy', 'matrix_complex_pam_noise_18.npy', 'matrix_complex_pam_noise_19.npy', 'matrix_complex_pam_noise_2.npy', 'matrix_complex_pam_noise_20.npy', 'matrix_complex_pam_noise_21.npy', 'matrix_complex_pam_noise_22.npy', 'matrix_complex_pam_noise_23.npy', 'matrix_complex_pam_noise_24.npy', 'matrix_complex_pam_noise_25.npy', 'matrix_complex_pam_noise_26.npy', 'matrix_complex_pam_noise_27.npy', 'matrix_complex_pam_noise_28.npy', 'matrix_complex_pam_noise_29.npy', 'matrix_complex_pam_noise_3.npy', 'matrix_complex_pam_noise_30.npy', 'matrix_complex_pam_noise_31.npy', 'matrix_complex_pam_noise_32.npy', 'matrix_complex_pam_noise_33.npy', 'matrix_complex_pam_noise_34.npy', 'matrix_complex_pam_noise_35.npy', 'matrix_complex_pam_noise_36.npy', 'matrix_complex_pam_noise_37.npy', 'matrix_complex_pam_noise_38.npy', 'matrix_complex_pam_noise_39.npy', 'matrix_complex_pam_noise_4.npy', 'matrix_complex_pam_noise_40.npy', 'matrix_complex_pam_noise_41.npy', 'matrix_complex_pam_noise_42.npy', 'matrix_complex_pam_noise_43.npy', 'matrix_complex_pam_noise_44.npy', 'matrix_complex_pam_noise_45.npy', 'matrix_complex_pam_noise_46.npy', 'matrix_complex_pam_noise_47.npy', 'matrix_complex_pam_noise_48.npy', 'matrix_complex_pam_noise_49.npy', 'matrix_complex_pam_noise_5.npy', 'matrix_complex_pam_noise_50.npy', 'matrix_complex_pam_noise_6.npy', 'matrix_complex_pam_noise_7.npy', 'matrix_complex_pam_noise_8.npy', 'matrix_complex_pam_noise_9.npy']\n",
      "\n",
      "Archivos: ['matrix_complex_vsc_noise_1.npy', 'matrix_complex_vsc_noise_10.npy', 'matrix_complex_vsc_noise_11.npy', 'matrix_complex_vsc_noise_12.npy', 'matrix_complex_vsc_noise_13.npy', 'matrix_complex_vsc_noise_14.npy', 'matrix_complex_vsc_noise_15.npy', 'matrix_complex_vsc_noise_16.npy', 'matrix_complex_vsc_noise_17.npy', 'matrix_complex_vsc_noise_18.npy', 'matrix_complex_vsc_noise_19.npy', 'matrix_complex_vsc_noise_2.npy', 'matrix_complex_vsc_noise_20.npy', 'matrix_complex_vsc_noise_21.npy', 'matrix_complex_vsc_noise_22.npy', 'matrix_complex_vsc_noise_23.npy', 'matrix_complex_vsc_noise_24.npy', 'matrix_complex_vsc_noise_25.npy', 'matrix_complex_vsc_noise_26.npy', 'matrix_complex_vsc_noise_27.npy', 'matrix_complex_vsc_noise_28.npy', 'matrix_complex_vsc_noise_29.npy', 'matrix_complex_vsc_noise_3.npy', 'matrix_complex_vsc_noise_30.npy', 'matrix_complex_vsc_noise_31.npy', 'matrix_complex_vsc_noise_32.npy', 'matrix_complex_vsc_noise_33.npy', 'matrix_complex_vsc_noise_34.npy', 'matrix_complex_vsc_noise_35.npy', 'matrix_complex_vsc_noise_36.npy', 'matrix_complex_vsc_noise_37.npy', 'matrix_complex_vsc_noise_38.npy', 'matrix_complex_vsc_noise_39.npy', 'matrix_complex_vsc_noise_4.npy', 'matrix_complex_vsc_noise_40.npy', 'matrix_complex_vsc_noise_41.npy', 'matrix_complex_vsc_noise_42.npy', 'matrix_complex_vsc_noise_43.npy', 'matrix_complex_vsc_noise_44.npy', 'matrix_complex_vsc_noise_45.npy', 'matrix_complex_vsc_noise_46.npy', 'matrix_complex_vsc_noise_47.npy', 'matrix_complex_vsc_noise_48.npy', 'matrix_complex_vsc_noise_49.npy', 'matrix_complex_vsc_noise_5.npy', 'matrix_complex_vsc_noise_50.npy', 'matrix_complex_vsc_noise_6.npy', 'matrix_complex_vsc_noise_7.npy', 'matrix_complex_vsc_noise_8.npy', 'matrix_complex_vsc_noise_9.npy']\n",
      "\n"
     ]
    }
   ],
   "source": [
    "X = load_npy_files(input_pam_dir) # inputs\n",
    "Y = load_npy_files(output_vsc_dir) # outputs"
   ]
  },
  {
   "cell_type": "markdown",
   "metadata": {},
   "source": [
    "Verificar las formas de los datos cargados (# entradas, filas, columnas, canales)"
   ]
  },
  {
   "cell_type": "code",
   "execution_count": 24,
   "metadata": {},
   "outputs": [
    {
     "name": "stdout",
     "output_type": "stream",
     "text": [
      "Shape de los inputs (X): (50, 36, 1024, 2)\n",
      "Shape de los outputs (Y): (50, 36, 1024, 2)\n"
     ]
    }
   ],
   "source": [
    "print(f\"Shape de los inputs (X): {X.shape}\")\n",
    "print(f\"Shape de los outputs (Y): {Y.shape}\")"
   ]
  },
  {
   "cell_type": "markdown",
   "metadata": {},
   "source": [
    "Definir la U-Net con regularizacion L2"
   ]
  },
  {
   "cell_type": "code",
   "execution_count": 25,
   "metadata": {},
   "outputs": [],
   "source": [
    "'''\n",
    "def unet_model_with_l2(input_shape, l2_lambda):\n",
    "    inputs = tf.keras.Input(shape=input_shape)\n",
    "    \n",
    "    # Regularizer\n",
    "    l2_reg = tf.keras.regularizers.l2(l2_lambda)\n",
    "    \n",
    "    # Encoder\n",
    "    c1 = tf.keras.layers.Conv2D(64, (3, 3), activation='relu', padding='same', kernel_regularizer=l2_reg)(inputs)\n",
    "    c1 = tf.keras.layers.Conv2D(64, (3, 3), activation='relu', padding='same', kernel_regularizer=l2_reg)(c1)\n",
    "    p1 = tf.keras.layers.MaxPooling2D((2, 2))(c1)\n",
    "    \n",
    "    c2 = tf.keras.layers.Conv2D(128, (3, 3), activation='relu', padding='same', kernel_regularizer=l2_reg)(p1)\n",
    "    c2 = tf.keras.layers.Conv2D(128, (3, 3), activation='relu', padding='same', kernel_regularizer=l2_reg)(c2)\n",
    "    p2 = tf.keras.layers.MaxPooling2D((2, 2))(c2)\n",
    "    \n",
    "    # Bottleneck\n",
    "    c3 = tf.keras.layers.Conv2D(256, (3, 3), activation='relu', padding='same', kernel_regularizer=l2_reg)(p2)\n",
    "    c3 = tf.keras.layers.Conv2D(256, (3, 3), activation='relu', padding='same', kernel_regularizer=l2_reg)(c3)\n",
    "    \n",
    "    # Decoder\n",
    "    u4 = tf.keras.layers.Conv2DTranspose(128, (2, 2), strides=(2, 2), padding='same')(c3)\n",
    "    u4 = tf.keras.layers.concatenate([u4, c2])\n",
    "    c4 = tf.keras.layers.Conv2D(128, (3, 3), activation='relu', padding='same', kernel_regularizer=l2_reg)(u4)\n",
    "    c4 = tf.keras.layers.Conv2D(128, (3, 3), activation='relu', padding='same', kernel_regularizer=l2_reg)(c4)\n",
    "    \n",
    "    u5 = tf.keras.layers.Conv2DTranspose(64, (2, 2), strides=(2, 2), padding='same')(c4)\n",
    "    u5 = tf.keras.layers.concatenate([u5, c1])\n",
    "    c5 = tf.keras.layers.Conv2D(64, (3, 3), activation='relu', padding='same', kernel_regularizer=l2_reg)(u5)\n",
    "    c5 = tf.keras.layers.Conv2D(64, (3, 3), activation='relu', padding='same', kernel_regularizer=l2_reg)(c5)\n",
    "    \n",
    "    outputs = tf.keras.layers.Conv2D(2, (1, 1), activation='linear')(c5)\n",
    "    \n",
    "    model = tf.keras.Model(inputs=[inputs], outputs=[outputs])\n",
    "    \n",
    "    return model\n",
    "'''\n",
    "\n",
    "def unet_model(input_shape):\n",
    "    inputs = tf.keras.Input(shape=input_shape)\n",
    "    \n",
    "    # Regularizer\n",
    "    #l2_reg = tf.keras.regularizers.l2(l2_lambda)\n",
    "    \n",
    "    # Encoder\n",
    "    c1 = tf.keras.layers.Conv2D(64, (3, 3), activation='relu', padding='same')(inputs) #filtro original=64\n",
    "    c1 = tf.keras.layers.Conv2D(64, (3, 3), activation='relu', padding='same')(c1) #filtro original=64\n",
    "    p1 = tf.keras.layers.MaxPooling2D((2, 2))(c1)\n",
    "    \n",
    "    c2 = tf.keras.layers.Conv2D(128, (3, 3), activation='relu', padding='same')(p1) #filtro original=128\n",
    "    c2 = tf.keras.layers.Conv2D(128, (3, 3), activation='relu', padding='same')(c2) #filtro original=128\n",
    "    p2 = tf.keras.layers.MaxPooling2D((2, 2))(c2)\n",
    "    \n",
    "    # Bottleneck\n",
    "    c3 = tf.keras.layers.Conv2D(256, (3, 3), activation='relu', padding='same')(p2) #filtro original=256\n",
    "    c3 = tf.keras.layers.Conv2D(256, (3, 3), activation='relu', padding='same')(c3) #filtro original=256\n",
    "    \n",
    "    # Decoder\n",
    "    u4 = tf.keras.layers.Conv2DTranspose(128, (2, 2), strides=(2, 2), padding='same')(c3) #filtro original=128\n",
    "    u4 = tf.keras.layers.concatenate([u4, c2])\n",
    "    c4 = tf.keras.layers.Conv2D(128, (3, 3), activation='relu', padding='same')(u4) #filtro original=128\n",
    "    c4 = tf.keras.layers.Conv2D(128, (3, 3), activation='relu', padding='same')(c4) #filtro original=128\n",
    "    \n",
    "    u5 = tf.keras.layers.Conv2DTranspose(64, (2, 2), strides=(2, 2), padding='same')(c4) #filtro original=64\n",
    "    u5 = tf.keras.layers.concatenate([u5, c1])\n",
    "    c5 = tf.keras.layers.Conv2D(64, (3, 3), activation='relu', padding='same')(u5) #filtro original=64\n",
    "    c5 = tf.keras.layers.Conv2D(64, (3, 3), activation='relu', padding='same')(c5) #filtro original=64\n",
    "    \n",
    "    outputs = tf.keras.layers.Conv2D(2, (1, 1), activation='linear')(c5)\n",
    "    \n",
    "    model = tf.keras.Model(inputs=[inputs], outputs=[outputs])\n",
    "    \n",
    "    return model"
   ]
  },
  {
   "cell_type": "markdown",
   "metadata": {},
   "source": [
    "Definir la metrica NMSE ajustada para utilizar la varianza de los valores verdaderos"
   ]
  },
  {
   "cell_type": "code",
   "execution_count": 26,
   "metadata": {},
   "outputs": [],
   "source": [
    "def nmse(y_true, y_pred):\n",
    "    mse = tf.keras.backend.mean(tf.keras.backend.square(y_true - y_pred))\n",
    "    var_true = tf.keras.backend.var(y_true)\n",
    "    return mse / var_true"
   ]
  },
  {
   "cell_type": "markdown",
   "metadata": {
    "tags": []
   },
   "source": [
    "**HIPERPARAMETROS**"
   ]
  },
  {
   "cell_type": "code",
   "execution_count": 27,
   "metadata": {},
   "outputs": [
    {
     "name": "stdout",
     "output_type": "stream",
     "text": [
      "Total pasos de decaimiento -> 600 pasos.\n"
     ]
    }
   ],
   "source": [
    "max_epoch = 100\n",
    "batchsize = 8\n",
    "learning_rate = 0.0001\n",
    "#l2_lambda = 0.01\n",
    "validation_split = 0.2 # 80% entrenamiento & 20% validacion\n",
    "\n",
    "\n",
    " # alpha: el lr min al que llegara el decaimiento sera el 10% del lr inicia\n",
    "alpha = 0.1\n",
    "# decay steps: Numero de pasos de entrenamiento tras los cuales el learning rate decaera desde su valor inicial hasta el valor final determinado por alpha\n",
    "decay_steps = (int(X.shape[0]/batchsize))*max_epoch \n",
    "print(\"Total pasos de decaimiento ->\",decay_steps, \"pasos.\")"
   ]
  },
  {
   "cell_type": "markdown",
   "metadata": {},
   "source": [
    "**CREACIÓN DEL MODELO U-NET**"
   ]
  },
  {
   "cell_type": "code",
   "execution_count": 28,
   "metadata": {},
   "outputs": [],
   "source": [
    "input_shape = X.shape[1:]  # forma del input a entrar. en este caso esta forma debe coincidir con las matrices que entran a la red tensor X = [#inputs, columnas, filas, canales]. Se omite #inputs\n",
    "model = unet_model(input_shape)"
   ]
  },
  {
   "cell_type": "markdown",
   "metadata": {},
   "source": [
    "**DEFINICION DE LA FUNCION DE DECAIMIENTO, ALGORITMO OPTIMIZADOR, FUNCION DE PERDIDA Y METRICA**"
   ]
  },
  {
   "cell_type": "code",
   "execution_count": 29,
   "metadata": {},
   "outputs": [],
   "source": [
    "#funcion decaimiento de coseno\n",
    "decay_cosine = tf.keras.experimental.CosineDecay(learning_rate, decay_steps, alpha=alpha)\n",
    "def lr_schedule(X):\n",
    "    return float(decay_cosine(X))\n",
    "    \n",
    "\n",
    "lr_scheduler = tf.keras.callbacks.LearningRateScheduler(lr_schedule)"
   ]
  },
  {
   "cell_type": "code",
   "execution_count": 30,
   "metadata": {},
   "outputs": [],
   "source": [
    "optimizer = tf.keras.optimizers.Adam(learning_rate)\n",
    "model.compile(optimizer='adam', loss='mean_squared_error', metrics=[nmse])"
   ]
  },
  {
   "cell_type": "markdown",
   "metadata": {},
   "source": [
    "#########################################################################################################<br>\n",
    "#########################################################################################################<br>\n",
    "#########################################################################################################"
   ]
  },
  {
   "cell_type": "markdown",
   "metadata": {},
   "source": [
    "ENTRENAMIENTO DE LA RED"
   ]
  },
  {
   "cell_type": "code",
   "execution_count": 31,
   "metadata": {},
   "outputs": [
    {
     "name": "stdout",
     "output_type": "stream",
     "text": [
      "Epoch 1/100\n",
      "5/5 [==============================] - 33s 6s/step - loss: 0.2244 - nmse: 23.8963 - val_loss: 0.1691 - val_nmse: 18.4901 - lr: 1.0000e-04\n",
      "Epoch 2/100\n",
      "5/5 [==============================] - 28s 6s/step - loss: 0.1351 - nmse: 14.4632 - val_loss: 0.0814 - val_nmse: 8.8996 - lr: 9.9999e-05\n",
      "Epoch 3/100\n",
      "5/5 [==============================] - 28s 6s/step - loss: 0.0504 - nmse: 5.4470 - val_loss: 0.0308 - val_nmse: 3.3461 - lr: 9.9998e-05\n",
      "Epoch 4/100\n",
      "5/5 [==============================] - 28s 6s/step - loss: 0.0326 - nmse: 3.5005 - val_loss: 0.0204 - val_nmse: 2.2138 - lr: 9.9994e-05\n",
      "Epoch 5/100\n",
      "5/5 [==============================] - 27s 6s/step - loss: 0.0192 - nmse: 2.0487 - val_loss: 0.0201 - val_nmse: 2.1889 - lr: 9.9990e-05\n",
      "Epoch 6/100\n",
      "5/5 [==============================] - 27s 5s/step - loss: 0.0199 - nmse: 2.1233 - val_loss: 0.0181 - val_nmse: 1.9691 - lr: 9.9985e-05\n",
      "Epoch 7/100\n",
      "5/5 [==============================] - 26s 5s/step - loss: 0.0174 - nmse: 1.8549 - val_loss: 0.0168 - val_nmse: 1.8209 - lr: 9.9978e-05\n",
      "Epoch 8/100\n",
      "5/5 [==============================] - 27s 5s/step - loss: 0.0168 - nmse: 1.7945 - val_loss: 0.0162 - val_nmse: 1.7498 - lr: 9.9970e-05\n",
      "Epoch 9/100\n",
      "5/5 [==============================] - 26s 5s/step - loss: 0.0157 - nmse: 1.6778 - val_loss: 0.0150 - val_nmse: 1.6241 - lr: 9.9961e-05\n",
      "Epoch 10/100\n",
      "5/5 [==============================] - 27s 5s/step - loss: 0.0148 - nmse: 1.5835 - val_loss: 0.0143 - val_nmse: 1.5472 - lr: 9.9950e-05\n",
      "Epoch 11/100\n",
      "5/5 [==============================] - 26s 5s/step - loss: 0.0141 - nmse: 1.5041 - val_loss: 0.0136 - val_nmse: 1.4714 - lr: 9.9938e-05\n",
      "Epoch 12/100\n",
      "5/5 [==============================] - 29s 6s/step - loss: 0.0133 - nmse: 1.4242 - val_loss: 0.0128 - val_nmse: 1.3829 - lr: 9.9925e-05\n",
      "Epoch 13/100\n",
      "5/5 [==============================] - 27s 5s/step - loss: 0.0125 - nmse: 1.3400 - val_loss: 0.0121 - val_nmse: 1.3024 - lr: 9.9911e-05\n",
      "Epoch 14/100\n",
      "5/5 [==============================] - 27s 6s/step - loss: 0.0118 - nmse: 1.2638 - val_loss: 0.0114 - val_nmse: 1.2289 - lr: 9.9896e-05\n",
      "Epoch 15/100\n",
      "5/5 [==============================] - 27s 5s/step - loss: 0.0111 - nmse: 1.1913 - val_loss: 0.0107 - val_nmse: 1.1580 - lr: 9.9879e-05\n",
      "Epoch 16/100\n",
      "5/5 [==============================] - 27s 5s/step - loss: 0.0105 - nmse: 1.1239 - val_loss: 0.0102 - val_nmse: 1.0959 - lr: 9.9861e-05\n",
      "Epoch 17/100\n",
      "5/5 [==============================] - 27s 5s/step - loss: 0.0100 - nmse: 1.0704 - val_loss: 0.0098 - val_nmse: 1.0530 - lr: 9.9842e-05\n",
      "Epoch 18/100\n",
      "5/5 [==============================] - 26s 5s/step - loss: 0.0097 - nmse: 1.0346 - val_loss: 0.0095 - val_nmse: 1.0232 - lr: 9.9822e-05\n",
      "Epoch 19/100\n",
      "5/5 [==============================] - 27s 6s/step - loss: 0.0094 - nmse: 1.0069 - val_loss: 0.0092 - val_nmse: 0.9955 - lr: 9.9800e-05\n",
      "Epoch 20/100\n",
      "5/5 [==============================] - 27s 5s/step - loss: 0.0092 - nmse: 0.9800 - val_loss: 0.0090 - val_nmse: 0.9677 - lr: 9.9777e-05\n",
      "Epoch 21/100\n",
      "5/5 [==============================] - 28s 6s/step - loss: 0.0089 - nmse: 0.9542 - val_loss: 0.0088 - val_nmse: 0.9451 - lr: 9.9753e-05\n",
      "Epoch 22/100\n",
      "5/5 [==============================] - 27s 5s/step - loss: 0.0087 - nmse: 0.9317 - val_loss: 0.0085 - val_nmse: 0.9204 - lr: 9.9728e-05\n",
      "Epoch 23/100\n",
      "5/5 [==============================] - 28s 6s/step - loss: 0.0085 - nmse: 0.9084 - val_loss: 0.0083 - val_nmse: 0.8984 - lr: 9.9702e-05\n",
      "Epoch 24/100\n",
      "5/5 [==============================] - 27s 5s/step - loss: 0.0083 - nmse: 0.8907 - val_loss: 0.0082 - val_nmse: 0.8882 - lr: 9.9674e-05\n",
      "Epoch 25/100\n",
      "5/5 [==============================] - 27s 5s/step - loss: 0.0082 - nmse: 0.8796 - val_loss: 0.0082 - val_nmse: 0.8831 - lr: 9.9645e-05\n",
      "Epoch 26/100\n",
      "5/5 [==============================] - 27s 5s/step - loss: 0.0082 - nmse: 0.8756 - val_loss: 0.0080 - val_nmse: 0.8577 - lr: 9.9615e-05\n",
      "Epoch 27/100\n",
      "5/5 [==============================] - 26s 5s/step - loss: 0.0080 - nmse: 0.8538 - val_loss: 0.0079 - val_nmse: 0.8458 - lr: 9.9584e-05\n",
      "Epoch 28/100\n",
      "5/5 [==============================] - 27s 5s/step - loss: 0.0078 - nmse: 0.8376 - val_loss: 0.0078 - val_nmse: 0.8342 - lr: 9.9551e-05\n",
      "Epoch 29/100\n",
      "5/5 [==============================] - 26s 5s/step - loss: 0.0078 - nmse: 0.8297 - val_loss: 0.0077 - val_nmse: 0.8238 - lr: 9.9517e-05\n",
      "Epoch 30/100\n",
      "5/5 [==============================] - 27s 6s/step - loss: 0.0077 - nmse: 0.8228 - val_loss: 0.0078 - val_nmse: 0.8346 - lr: 9.9482e-05\n",
      "Epoch 31/100\n",
      "5/5 [==============================] - 26s 5s/step - loss: 0.0077 - nmse: 0.8210 - val_loss: 0.0075 - val_nmse: 0.8056 - lr: 9.9446e-05\n",
      "Epoch 32/100\n",
      "5/5 [==============================] - 27s 6s/step - loss: 0.0075 - nmse: 0.8032 - val_loss: 0.0074 - val_nmse: 0.8003 - lr: 9.9409e-05\n",
      "Epoch 33/100\n",
      "5/5 [==============================] - 26s 5s/step - loss: 0.0074 - nmse: 0.7932 - val_loss: 0.0073 - val_nmse: 0.7887 - lr: 9.9370e-05\n",
      "Epoch 34/100\n",
      "5/5 [==============================] - 27s 5s/step - loss: 0.0073 - nmse: 0.7846 - val_loss: 0.0073 - val_nmse: 0.7852 - lr: 9.9330e-05\n",
      "Epoch 35/100\n",
      "5/5 [==============================] - 27s 5s/step - loss: 0.0073 - nmse: 0.7772 - val_loss: 0.0072 - val_nmse: 0.7771 - lr: 9.9289e-05\n",
      "Epoch 36/100\n",
      "5/5 [==============================] - 26s 5s/step - loss: 0.0072 - nmse: 0.7692 - val_loss: 0.0072 - val_nmse: 0.7723 - lr: 9.9246e-05\n",
      "Epoch 37/100\n",
      "5/5 [==============================] - 27s 5s/step - loss: 0.0071 - nmse: 0.7611 - val_loss: 0.0070 - val_nmse: 0.7534 - lr: 9.9203e-05\n",
      "Epoch 38/100\n",
      "5/5 [==============================] - 26s 5s/step - loss: 0.0070 - nmse: 0.7485 - val_loss: 0.0070 - val_nmse: 0.7466 - lr: 9.9158e-05\n",
      "Epoch 39/100\n",
      "5/5 [==============================] - 27s 6s/step - loss: 0.0070 - nmse: 0.7437 - val_loss: 0.0068 - val_nmse: 0.7327 - lr: 9.9112e-05\n",
      "Epoch 40/100\n",
      "5/5 [==============================] - 26s 5s/step - loss: 0.0068 - nmse: 0.7303 - val_loss: 0.0068 - val_nmse: 0.7294 - lr: 9.9065e-05\n",
      "Epoch 41/100\n",
      "5/5 [==============================] - 27s 6s/step - loss: 0.0067 - nmse: 0.7210 - val_loss: 0.0067 - val_nmse: 0.7133 - lr: 9.9017e-05\n",
      "Epoch 42/100\n",
      "5/5 [==============================] - 26s 5s/step - loss: 0.0066 - nmse: 0.7100 - val_loss: 0.0066 - val_nmse: 0.7043 - lr: 9.8967e-05\n",
      "Epoch 43/100\n",
      "5/5 [==============================] - 27s 6s/step - loss: 0.0066 - nmse: 0.7004 - val_loss: 0.0066 - val_nmse: 0.7017 - lr: 9.8916e-05\n",
      "Epoch 44/100\n",
      "5/5 [==============================] - 27s 5s/step - loss: 0.0066 - nmse: 0.7049 - val_loss: 0.0066 - val_nmse: 0.7001 - lr: 9.8864e-05\n",
      "Epoch 45/100\n",
      "5/5 [==============================] - 26s 5s/step - loss: 0.0064 - nmse: 0.6890 - val_loss: 0.0063 - val_nmse: 0.6758 - lr: 9.8811e-05\n",
      "Epoch 46/100\n",
      "5/5 [==============================] - 27s 5s/step - loss: 0.0063 - nmse: 0.6759 - val_loss: 0.0063 - val_nmse: 0.6735 - lr: 9.8757e-05\n",
      "Epoch 47/100\n",
      "5/5 [==============================] - 26s 5s/step - loss: 0.0063 - nmse: 0.6692 - val_loss: 0.0062 - val_nmse: 0.6584 - lr: 9.8701e-05\n",
      "Epoch 48/100\n",
      "5/5 [==============================] - 27s 6s/step - loss: 0.0062 - nmse: 0.6605 - val_loss: 0.0062 - val_nmse: 0.6563 - lr: 9.8644e-05\n",
      "Epoch 49/100\n",
      "5/5 [==============================] - 27s 5s/step - loss: 0.0061 - nmse: 0.6541 - val_loss: 0.0061 - val_nmse: 0.6476 - lr: 9.8586e-05\n",
      "Epoch 50/100\n",
      "5/5 [==============================] - 27s 5s/step - loss: 0.0060 - nmse: 0.6457 - val_loss: 0.0060 - val_nmse: 0.6339 - lr: 9.8527e-05\n",
      "Epoch 51/100\n",
      "5/5 [==============================] - 26s 5s/step - loss: 0.0059 - nmse: 0.6351 - val_loss: 0.0059 - val_nmse: 0.6249 - lr: 9.8467e-05\n",
      "Epoch 52/100\n",
      "5/5 [==============================] - 27s 5s/step - loss: 0.0059 - nmse: 0.6251 - val_loss: 0.0059 - val_nmse: 0.6256 - lr: 9.8405e-05\n",
      "Epoch 53/100\n",
      "5/5 [==============================] - 27s 5s/step - loss: 0.0060 - nmse: 0.6386 - val_loss: 0.0059 - val_nmse: 0.6308 - lr: 9.8342e-05\n",
      "Epoch 54/100\n",
      "5/5 [==============================] - 26s 5s/step - loss: 0.0058 - nmse: 0.6161 - val_loss: 0.0057 - val_nmse: 0.6031 - lr: 9.8278e-05\n",
      "Epoch 55/100\n",
      "5/5 [==============================] - 27s 5s/step - loss: 0.0057 - nmse: 0.6049 - val_loss: 0.0056 - val_nmse: 0.5984 - lr: 9.8213e-05\n",
      "Epoch 56/100\n",
      "5/5 [==============================] - 27s 5s/step - loss: 0.0056 - nmse: 0.5993 - val_loss: 0.0057 - val_nmse: 0.6020 - lr: 9.8147e-05\n",
      "Epoch 57/100\n",
      "5/5 [==============================] - 27s 6s/step - loss: 0.0058 - nmse: 0.6144 - val_loss: 0.0058 - val_nmse: 0.6148 - lr: 9.8079e-05\n",
      "Epoch 58/100\n",
      "5/5 [==============================] - 26s 5s/step - loss: 0.0056 - nmse: 0.5985 - val_loss: 0.0055 - val_nmse: 0.5811 - lr: 9.8011e-05\n",
      "Epoch 59/100\n",
      "5/5 [==============================] - 27s 5s/step - loss: 0.0055 - nmse: 0.5826 - val_loss: 0.0054 - val_nmse: 0.5741 - lr: 9.7941e-05\n",
      "Epoch 60/100\n",
      "5/5 [==============================] - 27s 6s/step - loss: 0.0054 - nmse: 0.5764 - val_loss: 0.0054 - val_nmse: 0.5685 - lr: 9.7870e-05\n",
      "Epoch 61/100\n",
      "5/5 [==============================] - 28s 6s/step - loss: 0.0053 - nmse: 0.5702 - val_loss: 0.0053 - val_nmse: 0.5614 - lr: 9.7798e-05\n",
      "Epoch 62/100\n",
      "5/5 [==============================] - 28s 6s/step - loss: 0.0053 - nmse: 0.5652 - val_loss: 0.0053 - val_nmse: 0.5611 - lr: 9.7724e-05\n",
      "Epoch 63/100\n",
      "5/5 [==============================] - 27s 6s/step - loss: 0.0056 - nmse: 0.6003 - val_loss: 0.0053 - val_nmse: 0.5599 - lr: 9.7650e-05\n",
      "Epoch 64/100\n",
      "5/5 [==============================] - 26s 5s/step - loss: 0.0053 - nmse: 0.5666 - val_loss: 0.0053 - val_nmse: 0.5602 - lr: 9.7574e-05\n",
      "Epoch 65/100\n",
      "5/5 [==============================] - 26s 5s/step - loss: 0.0052 - nmse: 0.5557 - val_loss: 0.0052 - val_nmse: 0.5494 - lr: 9.7497e-05\n",
      "Epoch 66/100\n",
      "5/5 [==============================] - 27s 6s/step - loss: 0.0051 - nmse: 0.5492 - val_loss: 0.0051 - val_nmse: 0.5384 - lr: 9.7419e-05\n",
      "Epoch 67/100\n",
      "5/5 [==============================] - 26s 5s/step - loss: 0.0051 - nmse: 0.5427 - val_loss: 0.0050 - val_nmse: 0.5334 - lr: 9.7340e-05\n",
      "Epoch 68/100\n",
      "5/5 [==============================] - 27s 5s/step - loss: 0.0051 - nmse: 0.5394 - val_loss: 0.0051 - val_nmse: 0.5350 - lr: 9.7259e-05\n",
      "Epoch 69/100\n",
      "5/5 [==============================] - 26s 5s/step - loss: 0.0050 - nmse: 0.5386 - val_loss: 0.0050 - val_nmse: 0.5310 - lr: 9.7178e-05\n",
      "Epoch 70/100\n",
      "5/5 [==============================] - 27s 5s/step - loss: 0.0049 - nmse: 0.5279 - val_loss: 0.0050 - val_nmse: 0.5244 - lr: 9.7095e-05\n",
      "Epoch 71/100\n",
      "5/5 [==============================] - 27s 5s/step - loss: 0.0050 - nmse: 0.5328 - val_loss: 0.0049 - val_nmse: 0.5171 - lr: 9.7011e-05\n",
      "Epoch 72/100\n",
      "5/5 [==============================] - 27s 5s/step - loss: 0.0049 - nmse: 0.5222 - val_loss: 0.0051 - val_nmse: 0.5414 - lr: 9.6926e-05\n",
      "Epoch 73/100\n",
      "5/5 [==============================] - 26s 5s/step - loss: 0.0050 - nmse: 0.5295 - val_loss: 0.0050 - val_nmse: 0.5302 - lr: 9.6840e-05\n",
      "Epoch 74/100\n",
      "5/5 [==============================] - 27s 5s/step - loss: 0.0050 - nmse: 0.5327 - val_loss: 0.0049 - val_nmse: 0.5150 - lr: 9.6753e-05\n",
      "Epoch 75/100\n",
      "5/5 [==============================] - 27s 6s/step - loss: 0.0050 - nmse: 0.5344 - val_loss: 0.0047 - val_nmse: 0.4994 - lr: 9.6664e-05\n",
      "Epoch 76/100\n",
      "5/5 [==============================] - 26s 5s/step - loss: 0.0051 - nmse: 0.5424 - val_loss: 0.0049 - val_nmse: 0.5126 - lr: 9.6575e-05\n",
      "Epoch 77/100\n",
      "5/5 [==============================] - 27s 5s/step - loss: 0.0049 - nmse: 0.5182 - val_loss: 0.0048 - val_nmse: 0.5042 - lr: 9.6484e-05\n",
      "Epoch 78/100\n",
      "5/5 [==============================] - 26s 5s/step - loss: 0.0048 - nmse: 0.5087 - val_loss: 0.0048 - val_nmse: 0.5038 - lr: 9.6392e-05\n",
      "Epoch 79/100\n",
      "5/5 [==============================] - 27s 5s/step - loss: 0.0047 - nmse: 0.5021 - val_loss: 0.0047 - val_nmse: 0.4938 - lr: 9.6299e-05\n",
      "Epoch 80/100\n",
      "5/5 [==============================] - 27s 5s/step - loss: 0.0046 - nmse: 0.4944 - val_loss: 0.0046 - val_nmse: 0.4822 - lr: 9.6205e-05\n",
      "Epoch 81/100\n",
      "5/5 [==============================] - 27s 5s/step - loss: 0.0045 - nmse: 0.4839 - val_loss: 0.0045 - val_nmse: 0.4759 - lr: 9.6110e-05\n",
      "Epoch 82/100\n",
      "5/5 [==============================] - 26s 5s/step - loss: 0.0045 - nmse: 0.4792 - val_loss: 0.0045 - val_nmse: 0.4749 - lr: 9.6013e-05\n",
      "Epoch 83/100\n",
      "5/5 [==============================] - 26s 5s/step - loss: 0.0045 - nmse: 0.4780 - val_loss: 0.0044 - val_nmse: 0.4665 - lr: 9.5916e-05\n",
      "Epoch 84/100\n",
      "5/5 [==============================] - 27s 6s/step - loss: 0.0044 - nmse: 0.4749 - val_loss: 0.0045 - val_nmse: 0.4699 - lr: 9.5817e-05\n",
      "Epoch 85/100\n",
      "5/5 [==============================] - 27s 5s/step - loss: 0.0045 - nmse: 0.4755 - val_loss: 0.0044 - val_nmse: 0.4594 - lr: 9.5717e-05\n",
      "Epoch 86/100\n",
      "5/5 [==============================] - 27s 5s/step - loss: 0.0044 - nmse: 0.4742 - val_loss: 0.0044 - val_nmse: 0.4575 - lr: 9.5616e-05\n",
      "Epoch 87/100\n",
      "5/5 [==============================] - 26s 5s/step - loss: 0.0044 - nmse: 0.4656 - val_loss: 0.0044 - val_nmse: 0.4602 - lr: 9.5514e-05\n",
      "Epoch 88/100\n",
      "5/5 [==============================] - 27s 5s/step - loss: 0.0043 - nmse: 0.4623 - val_loss: 0.0043 - val_nmse: 0.4527 - lr: 9.5411e-05\n",
      "Epoch 89/100\n",
      "5/5 [==============================] - 27s 5s/step - loss: 0.0043 - nmse: 0.4575 - val_loss: 0.0042 - val_nmse: 0.4432 - lr: 9.5307e-05\n",
      "Epoch 90/100\n",
      "5/5 [==============================] - 27s 6s/step - loss: 0.0043 - nmse: 0.4558 - val_loss: 0.0043 - val_nmse: 0.4439 - lr: 9.5202e-05\n",
      "Epoch 91/100\n",
      "5/5 [==============================] - 26s 5s/step - loss: 0.0043 - nmse: 0.4602 - val_loss: 0.0043 - val_nmse: 0.4503 - lr: 9.5095e-05\n",
      "Epoch 92/100\n",
      "5/5 [==============================] - 26s 5s/step - loss: 0.0043 - nmse: 0.4548 - val_loss: 0.0042 - val_nmse: 0.4418 - lr: 9.4988e-05\n",
      "Epoch 93/100\n",
      "5/5 [==============================] - 27s 6s/step - loss: 0.0042 - nmse: 0.4442 - val_loss: 0.0042 - val_nmse: 0.4385 - lr: 9.4879e-05\n",
      "Epoch 94/100\n",
      "5/5 [==============================] - 26s 5s/step - loss: 0.0042 - nmse: 0.4431 - val_loss: 0.0042 - val_nmse: 0.4409 - lr: 9.4769e-05\n",
      "Epoch 95/100\n",
      "5/5 [==============================] - 27s 5s/step - loss: 0.0041 - nmse: 0.4410 - val_loss: 0.0041 - val_nmse: 0.4239 - lr: 9.4659e-05\n",
      "Epoch 96/100\n",
      "5/5 [==============================] - 26s 5s/step - loss: 0.0041 - nmse: 0.4344 - val_loss: 0.0041 - val_nmse: 0.4255 - lr: 9.4547e-05\n",
      "Epoch 97/100\n",
      "5/5 [==============================] - 27s 5s/step - loss: 0.0040 - nmse: 0.4287 - val_loss: 0.0040 - val_nmse: 0.4167 - lr: 9.4434e-05\n",
      "Epoch 98/100\n",
      "5/5 [==============================] - 27s 5s/step - loss: 0.0040 - nmse: 0.4245 - val_loss: 0.0040 - val_nmse: 0.4193 - lr: 9.4320e-05\n",
      "Epoch 99/100\n",
      "5/5 [==============================] - 27s 5s/step - loss: 0.0041 - nmse: 0.4347 - val_loss: 0.0042 - val_nmse: 0.4337 - lr: 9.4205e-05\n",
      "Epoch 100/100\n",
      "5/5 [==============================] - 26s 5s/step - loss: 0.0040 - nmse: 0.4317 - val_loss: 0.0040 - val_nmse: 0.4141 - lr: 9.4088e-05\n",
      "Tiempo total de entrenamiento: 44.80 minutos.\n"
     ]
    }
   ],
   "source": [
    "start_time = time.time()\n",
    "history = model.fit(X, Y, epochs=max_epoch, batch_size=batchsize, callbacks=[lr_scheduler], validation_split=validation_split)\n",
    "end_time = time.time()\n",
    "total_time = end_time - start_time\n",
    "min_time = total_time / 60\n",
    "print(f'Tiempo total de entrenamiento: {min_time:.2f} minutos.')"
   ]
  },
  {
   "cell_type": "markdown",
   "metadata": {},
   "source": [
    "#########################################################################################################<br>\n",
    "#########################################################################################################<br>\n",
    "#########################################################################################################"
   ]
  },
  {
   "cell_type": "markdown",
   "metadata": {},
   "source": [
    "Visualizar el NMSE"
   ]
  },
  {
   "cell_type": "code",
   "execution_count": 32,
   "metadata": {},
   "outputs": [
    {
     "data": {
      "image/png": "[encoded data removed]",
      "text/plain": [
       "<Figure size 640x480 with 1 Axes>"
      ]
     },
     "metadata": {},
     "output_type": "display_data"
    }
   ],
   "source": [
    "plt.plot(history.history['nmse'], label='NMSE (entrenamiento)')\n",
    "plt.plot(history.history['val_nmse'], label='NMSE (validacion)')\n",
    "plt.xlabel('Epoca')\n",
    "plt.ylabel('NMSE')\n",
    "plt.legend()\n",
    "plt.show()"
   ]
  },
  {
   "cell_type": "markdown",
   "metadata": {},
   "source": [
    "**Guardar modelo**"
   ]
  },
  {
   "cell_type": "code",
   "execution_count": 33,
   "metadata": {},
   "outputs": [],
   "source": [
    "# Directorio en donde se almacenara el modelo\n",
    "save_dir = 'D:/TT/Memoria/waveletycnn/codigo_python/modelos_generados'\n",
    "os.makedirs(save_dir, exist_ok=True)  # Crear el directorio si no existe\n",
    "\n",
    "# Nombre del archivo del modelo\n",
    "model_name = 'unet_model_decay_coseno_with_normalization_minmax_3.keras'\n",
    "\n",
    "# Ruta completa del archivo\n",
    "model_path = os.path.join(save_dir, model_name)\n",
    "\n",
    "# Guardar el modelo entrenado\n",
    "model.save(model_path)"
   ]
  },
  {
   "cell_type": "markdown",
   "metadata": {},
   "source": [
    "Predecir señal VSC a partir de una señal PAM"
   ]
  },
  {
   "cell_type": "markdown",
   "metadata": {},
   "source": [
    "\n",
    "# Funcion para predecir con el modelo entrenado\n",
    "def predict_with_model(model, input_data):\n",
    "    prediction = model.predict(input_data)\n",
    "    return prediction\n",
    "\n",
    "# Cargar una matriz de entrada para hacer una predicción \n",
    "input_matrix = X[0:1] \n",
    "# Realizar la predicción\n",
    "predicted_output = predict_with_model(model, input_matrix)\n",
    "\n",
    "# Mostrar la predicción\n",
    "print(\"Predicción de la primera muestra de entrada:\")\n",
    "print(predicted_output)"
   ]
  }
 ],
 "metadata": {
  "kernelspec": {
   "display_name": "Python 3 (ipykernel)",
   "language": "python",
   "name": "python3"
  },
  "language_info": {
   "codemirror_mode": {
    "name": "ipython",
    "version": 3
   },
   "file_extension": ".py",
   "mimetype": "text/x-python",
   "name": "python",
   "nbconvert_exporter": "python",
   "pygments_lexer": "ipython3",
   "version": "3.8.0"
  }
 },
 "nbformat": 4,
 "nbformat_minor": 4
}
