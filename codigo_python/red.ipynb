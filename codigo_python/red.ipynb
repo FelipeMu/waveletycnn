{
 "cells": [
  {
   "cell_type": "code",
   "execution_count": 1,
   "metadata": {},
   "outputs": [],
   "source": [
    "import os\n",
    "import numpy as np # type: ignore\n",
    "from scipy.io import loadmat # type: ignore"
   ]
  },
  {
   "cell_type": "markdown",
   "metadata": {},
   "source": [
    "Librerias para trabajar con la red neuronal y procesamiento de datos"
   ]
  },
  {
   "cell_type": "code",
   "execution_count": 2,
   "metadata": {},
   "outputs": [],
   "source": [
    "import tensorflow as tf # Para red neuronal profunda\n",
    "import numpy as np\n",
    "import matplotlib.pyplot as plt\n",
    "import time # Para tomar el tiempo de entrenamiento de la red"
   ]
  },
  {
   "cell_type": "code",
   "execution_count": 3,
   "metadata": {},
   "outputs": [],
   "source": [
    "os.environ['TF_ENABLE_ONEDNN_OPTS'] = '0'"
   ]
  },
  {
   "cell_type": "markdown",
   "metadata": {},
   "source": [
    "##################################################################################<br>\n",
    "##################### Convertir matrices de .mat a .npy ##########################<br>\n",
    "##################################################################################"
   ]
  },
  {
   "cell_type": "markdown",
   "metadata": {},
   "source": [
    "Directorios de entrada y salida"
   ]
  },
  {
   "cell_type": "code",
   "execution_count": 4,
   "metadata": {},
   "outputs": [],
   "source": [
    "input_pam_dir = 'D:/TT/Memoria/waveletycnn/codigo_matlab/codigo_fuente/matrices_complejas_pam_mat' # matrices en formato .mat\n",
    "input_vsc_dir = 'D:/TT/Memoria/waveletycnn/codigo_matlab/codigo_fuente/matrices_complejas_vsc_mat' # matrices en formato .mat\n",
    "output_pam_dir = 'D:/TT/Memoria/waveletycnn/codigo_python/matrices_complejas_pam_python' # INPUT PARA LA RED\n",
    "output_vsc_dir = 'D:/TT/Memoria/waveletycnn/codigo_python/matrices_complejas_vsc_python' # OUTPUT O SALIDAS ESPERADAS PARA LA RED"
   ]
  },
  {
   "cell_type": "markdown",
   "metadata": {},
   "source": [
    "Crear los directorios de salida si no existen"
   ]
  },
  {
   "cell_type": "code",
   "execution_count": 5,
   "metadata": {},
   "outputs": [],
   "source": [
    "os.makedirs(output_pam_dir, exist_ok=True)\n",
    "os.makedirs(output_vsc_dir, exist_ok=True)"
   ]
  },
  {
   "cell_type": "markdown",
   "metadata": {},
   "source": [
    "Funcion para convertir archivos .mat a .npy"
   ]
  },
  {
   "cell_type": "code",
   "execution_count": 6,
   "metadata": {},
   "outputs": [],
   "source": [
    "def convert_mat_to_npy(input_dir, output_dir, prefix):\n",
    "    for i in range(1, 31):\n",
    "        mat_file = os.path.join(input_dir, f'{prefix}_noise_{i}.mat')\n",
    "        npy_file = os.path.join(output_dir, f'{prefix}_noise_{i}.npy')\n",
    "        \n",
    "        # Cargar el archivo .mat\n",
    "        mat_data = loadmat(mat_file)\n",
    "        \n",
    "        # Extraer la matriz compleja\n",
    "        matrix_key = [key for key in mat_data.keys() if not key.startswith('__')][0]\n",
    "        matrix = mat_data[matrix_key]\n",
    "        \n",
    "        # Guardar la matriz en formato .npy\n",
    "        np.save(npy_file, matrix)"
   ]
  },
  {
   "cell_type": "markdown",
   "metadata": {},
   "source": [
    "Convertir archivos .mat a .npy para PAM y VSC"
   ]
  },
  {
   "cell_type": "code",
   "execution_count": 7,
   "metadata": {},
   "outputs": [],
   "source": [
    "convert_mat_to_npy(input_pam_dir, output_pam_dir, 'matrix_complex_pam')\n",
    "convert_mat_to_npy(input_vsc_dir, output_vsc_dir, 'matrix_complex_vsc')"
   ]
  },
  {
   "cell_type": "markdown",
   "metadata": {},
   "source": [
    "###################################################################################<br>\n",
    "##################### Conversion a tensor tridimensional ##########################<br>\n",
    "###################################################################################"
   ]
  },
  {
   "cell_type": "markdown",
   "metadata": {},
   "source": [
    "Directorios de entrada y salida"
   ]
  },
  {
   "cell_type": "code",
   "execution_count": 8,
   "metadata": {},
   "outputs": [],
   "source": [
    "input_pam_dir = 'D:/TT/Memoria/waveletycnn/codigo_python/matrices_complejas_pam_python'\n",
    "input_vsc_dir = 'D:/TT/Memoria/waveletycnn/codigo_python/matrices_complejas_vsc_python'\n",
    "output_pam_dir = 'D:/TT/Memoria/waveletycnn/codigo_python/matrices_complejas_pam_procesadas'\n",
    "output_vsc_dir = 'D:/TT/Memoria/waveletycnn/codigo_python/matrices_complejas_vsc_procesadas'"
   ]
  },
  {
   "cell_type": "markdown",
   "metadata": {},
   "source": [
    "Crear directorios de salida si no existen"
   ]
  },
  {
   "cell_type": "code",
   "execution_count": 9,
   "metadata": {},
   "outputs": [],
   "source": [
    "os.makedirs(output_pam_dir, exist_ok=True)\n",
    "os.makedirs(output_vsc_dir, exist_ok=True)"
   ]
  },
  {
   "cell_type": "markdown",
   "metadata": {},
   "source": [
    "FunciÃ³n para procesar las matrices complejas"
   ]
  },
  {
   "cell_type": "code",
   "execution_count": 10,
   "metadata": {},
   "outputs": [],
   "source": [
    "def procesar_matriz_compleja(matriz_compleja):\n",
    "    datos_organizados = np.stack((matriz_compleja.real, matriz_compleja.imag), axis=-1)\n",
    "    return datos_organizados"
   ]
  },
  {
   "cell_type": "markdown",
   "metadata": {},
   "source": [
    "Procesar matrices complejas en la carpeta input_pam_dir"
   ]
  },
  {
   "cell_type": "code",
   "execution_count": 11,
   "metadata": {},
   "outputs": [],
   "source": [
    "for filename in os.listdir(input_pam_dir):\n",
    "    if filename.endswith('.npy'):\n",
    "        input_path = os.path.join(input_pam_dir, filename)\n",
    "        output_path = os.path.join(output_pam_dir, filename)\n",
    "        \n",
    "        # Cargar la matriz compleja\n",
    "        matriz_compleja = np.load(input_path)\n",
    "        \n",
    "        # Procesar la matriz compleja\n",
    "        datos_organizados = procesar_matriz_compleja(matriz_compleja)\n",
    "        \n",
    "        # Guardar los datos procesados\n",
    "        np.save(output_path, datos_organizados)"
   ]
  },
  {
   "cell_type": "markdown",
   "metadata": {},
   "source": [
    "Procesar matrices complejas en la carpeta input_vsc_dir"
   ]
  },
  {
   "cell_type": "code",
   "execution_count": 12,
   "metadata": {},
   "outputs": [],
   "source": [
    "for filename in os.listdir(input_vsc_dir):\n",
    "    if filename.endswith('.npy'):\n",
    "        input_path = os.path.join(input_vsc_dir, filename)\n",
    "        output_path = os.path.join(output_vsc_dir, filename)\n",
    "        \n",
    "        # Cargar la matriz compleja\n",
    "        matriz_compleja = np.load(input_path)\n",
    "        \n",
    "        # Procesar la matriz compleja\n",
    "        datos_organizados = procesar_matriz_compleja(matriz_compleja)\n",
    "        \n",
    "        # Guardar los datos procesados\n",
    "        np.save(output_path, datos_organizados)"
   ]
  },
  {
   "cell_type": "code",
   "execution_count": 13,
   "metadata": {},
   "outputs": [
    {
     "name": "stdout",
     "output_type": "stream",
     "text": [
      "Procesamiento completado.\n"
     ]
    }
   ],
   "source": [
    "print(\"Procesamiento completado.\")"
   ]
  },
  {
   "cell_type": "markdown",
   "metadata": {},
   "source": [
    "###################################################################################<br>\n",
    "################## Verificacicon de \"shape\" - matrices pam y vsc ##################<br>\n",
    "###################################################################################"
   ]
  },
  {
   "cell_type": "markdown",
   "metadata": {},
   "source": [
    "Directorios de salida"
   ]
  },
  {
   "cell_type": "code",
   "execution_count": 14,
   "metadata": {},
   "outputs": [],
   "source": [
    "output_pam_dir_check = 'D:/TT/Memoria/waveletycnn/codigo_python/matrices_complejas_pam_procesadas'\n",
    "output_vsc_dir_check = 'D:/TT/Memoria/waveletycnn/codigo_python/matrices_complejas_vsc_procesadas'"
   ]
  },
  {
   "cell_type": "markdown",
   "metadata": {},
   "source": [
    "Funcion para verificar la forma de una matriz"
   ]
  },
  {
   "cell_type": "code",
   "execution_count": 15,
   "metadata": {},
   "outputs": [],
   "source": [
    "def verificar_shape(directorio, nombre_archivo):\n",
    "    path = os.path.join(directorio, nombre_archivo)\n",
    "    matriz = np.load(path)\n",
    "    return matriz.shape"
   ]
  },
  {
   "cell_type": "markdown",
   "metadata": {},
   "source": [
    "Verificar la forma de un archivo de ejemplo en output_pam_dir_check"
   ]
  },
  {
   "cell_type": "code",
   "execution_count": 16,
   "metadata": {},
   "outputs": [
    {
     "name": "stdout",
     "output_type": "stream",
     "text": [
      "Shape de matrix_complex_pam_noise_1.npy en D:/TT/Memoria/waveletycnn/codigo_python/matrices_complejas_pam_procesadas: (36, 1024, 2)\n"
     ]
    }
   ],
   "source": [
    "ejemplo_pam = os.listdir(output_pam_dir_check)[0]  # Obtener el primer archivo de la carpeta\n",
    "shape_pam = verificar_shape(output_pam_dir_check, ejemplo_pam)\n",
    "print(f\"Shape de {ejemplo_pam} en {output_pam_dir_check}: {shape_pam}\")"
   ]
  },
  {
   "cell_type": "markdown",
   "metadata": {},
   "source": [
    "Verificar la forma de un archivo de ejemplo en output_vsc_dir_check"
   ]
  },
  {
   "cell_type": "code",
   "execution_count": 17,
   "metadata": {},
   "outputs": [
    {
     "name": "stdout",
     "output_type": "stream",
     "text": [
      "Shape de matrix_complex_vsc_noise_1.npy en D:/TT/Memoria/waveletycnn/codigo_python/matrices_complejas_vsc_procesadas: (36, 1024, 2)\n"
     ]
    }
   ],
   "source": [
    "ejemplo_vsc = os.listdir(output_vsc_dir_check)[0]  # Obtener el primer archivo de la carpeta\n",
    "shape_vsc = verificar_shape(output_vsc_dir_check, ejemplo_vsc)\n",
    "print(f\"Shape de {ejemplo_vsc} en {output_vsc_dir_check}: {shape_vsc}\")"
   ]
  },
  {
   "cell_type": "markdown",
   "metadata": {},
   "source": [
    "##################################################################################<br>\n",
    "####################### Red Neuronal Profunda: U-net #############################<br>\n",
    "##################################################################################"
   ]
  },
  {
   "cell_type": "markdown",
   "metadata": {},
   "source": [
    "Directorios de entrada"
   ]
  },
  {
   "cell_type": "code",
   "execution_count": 18,
   "metadata": {},
   "outputs": [],
   "source": [
    "input_pam_dir = 'D:/TT/Memoria/waveletycnn/codigo_python/matrices_complejas_pam_procesadas'\n",
    "output_vsc_dir = 'D:/TT/Memoria/waveletycnn/codigo_python/matrices_complejas_vsc_procesadas'"
   ]
  },
  {
   "cell_type": "markdown",
   "metadata": {},
   "source": [
    "FunciÃ³n para cargar los archivos .npy"
   ]
  },
  {
   "cell_type": "code",
   "execution_count": 19,
   "metadata": {},
   "outputs": [],
   "source": [
    "def load_npy_files(input_dir):\n",
    "    files = sorted([os.path.join(input_dir, f) for f in os.listdir(input_dir) if f.endswith('.npy')])\n",
    "    data = [np.load(f) for f in files]\n",
    "    return np.array(data)"
   ]
  },
  {
   "cell_type": "markdown",
   "metadata": {},
   "source": [
    "Cargar los datos de entrada y salida"
   ]
  },
  {
   "cell_type": "code",
   "execution_count": 20,
   "metadata": {},
   "outputs": [],
   "source": [
    "X = load_npy_files(input_pam_dir) # inputs\n",
    "Y = load_npy_files(output_vsc_dir) # outputs"
   ]
  },
  {
   "cell_type": "markdown",
   "metadata": {},
   "source": [
    "Verificar las formas de los datos cargados"
   ]
  },
  {
   "cell_type": "code",
   "execution_count": 21,
   "metadata": {},
   "outputs": [
    {
     "name": "stdout",
     "output_type": "stream",
     "text": [
      "Shape de los inputs (X): (30, 36, 1024, 2)\n",
      "Shape de los outputs (Y): (30, 36, 1024, 2)\n"
     ]
    }
   ],
   "source": [
    "print(f\"Shape de los inputs (X): {X.shape}\")\n",
    "print(f\"Shape de los outputs (Y): {Y.shape}\")"
   ]
  },
  {
   "cell_type": "markdown",
   "metadata": {},
   "source": [
    "Definir la U-Net con regularizaciÃ³n L2"
   ]
  },
  {
   "cell_type": "code",
   "execution_count": 22,
   "metadata": {},
   "outputs": [],
   "source": [
    "def unet_model_with_l2(input_shape, l2_lambda):\n",
    "    inputs = tf.keras.Input(shape=input_shape)\n",
    "    \n",
    "    # Regularizer\n",
    "    l2_reg = tf.keras.regularizers.l2(l2_lambda)\n",
    "    \n",
    "    # Encoder\n",
    "    c1 = tf.keras.layers.Conv2D(64, (3, 3), activation='relu', padding='same', kernel_regularizer=l2_reg)(inputs)\n",
    "    c1 = tf.keras.layers.Conv2D(64, (3, 3), activation='relu', padding='same', kernel_regularizer=l2_reg)(c1)\n",
    "    p1 = tf.keras.layers.MaxPooling2D((2, 2))(c1)\n",
    "    \n",
    "    c2 = tf.keras.layers.Conv2D(128, (3, 3), activation='relu', padding='same', kernel_regularizer=l2_reg)(p1)\n",
    "    c2 = tf.keras.layers.Conv2D(128, (3, 3), activation='relu', padding='same', kernel_regularizer=l2_reg)(c2)\n",
    "    p2 = tf.keras.layers.MaxPooling2D((2, 2))(c2)\n",
    "    \n",
    "    # Bottleneck\n",
    "    c3 = tf.keras.layers.Conv2D(256, (3, 3), activation='relu', padding='same', kernel_regularizer=l2_reg)(p2)\n",
    "    c3 = tf.keras.layers.Conv2D(256, (3, 3), activation='relu', padding='same', kernel_regularizer=l2_reg)(c3)\n",
    "    \n",
    "    # Decoder\n",
    "    u4 = tf.keras.layers.Conv2DTranspose(128, (2, 2), strides=(2, 2), padding='same')(c3)\n",
    "    u4 = tf.keras.layers.concatenate([u4, c2])\n",
    "    c4 = tf.keras.layers.Conv2D(128, (3, 3), activation='relu', padding='same', kernel_regularizer=l2_reg)(u4)\n",
    "    c4 = tf.keras.layers.Conv2D(128, (3, 3), activation='relu', padding='same', kernel_regularizer=l2_reg)(c4)\n",
    "    \n",
    "    u5 = tf.keras.layers.Conv2DTranspose(64, (2, 2), strides=(2, 2), padding='same')(c4)\n",
    "    u5 = tf.keras.layers.concatenate([u5, c1])\n",
    "    c5 = tf.keras.layers.Conv2D(64, (3, 3), activation='relu', padding='same', kernel_regularizer=l2_reg)(u5)\n",
    "    c5 = tf.keras.layers.Conv2D(64, (3, 3), activation='relu', padding='same', kernel_regularizer=l2_reg)(c5)\n",
    "    \n",
    "    outputs = tf.keras.layers.Conv2D(2, (1, 1), activation='linear')(c5)\n",
    "    \n",
    "    model = tf.keras.Model(inputs=[inputs], outputs=[outputs])\n",
    "    \n",
    "    return model"
   ]
  },
  {
   "cell_type": "markdown",
   "metadata": {},
   "source": [
    "Definir la mÃ©trica NMSE ajustada para utilizar la varianza de los valores verdaderos"
   ]
  },
  {
   "cell_type": "code",
   "execution_count": 23,
   "metadata": {},
   "outputs": [],
   "source": [
    "def nmse(y_true, y_pred):\n",
    "    mse = tf.keras.backend.mean(tf.keras.backend.square(y_true - y_pred))\n",
    "    var_true = tf.keras.backend.var(y_true)\n",
    "    return mse / var_true"
   ]
  },
  {
   "cell_type": "markdown",
   "metadata": {},
   "source": [
    "Hiperparametros"
   ]
  },
  {
   "cell_type": "code",
   "execution_count": 24,
   "metadata": {},
   "outputs": [],
   "source": [
    "max_epoch = 200\n",
    "batchsize = 16\n",
    "learning_rate = 0.001\n",
    "l2_lambda = 0.01\n",
    "validation_split = 0.3 # 70% entrenamiento & 30% validacion"
   ]
  },
  {
   "cell_type": "markdown",
   "metadata": {},
   "source": [
    "Definir el modelo"
   ]
  },
  {
   "cell_type": "code",
   "execution_count": 25,
   "metadata": {},
   "outputs": [],
   "source": [
    "input_shape = X.shape[1:]  # forma del input a entrar. en este caso esta forma debe coincidir con las matrices que entran a la red\n",
    "model = unet_model_with_l2(input_shape, l2_lambda)"
   ]
  },
  {
   "cell_type": "markdown",
   "metadata": {},
   "source": [
    "DEFINICION DE LA FUNCION DE DECAIMIENTO, ALGORITMO OPTIMIZADOR, FUNCION DE PERDIDA Y METRICA"
   ]
  },
  {
   "cell_type": "code",
   "execution_count": 27,
   "metadata": {},
   "outputs": [],
   "source": [
    "#lr_schedule = tf.keras.optimizers.schedules.CosineDecay(learning_rate, decay_steps=100)\n",
    "optimizer = tf.keras.optimizers.Adam(learning_rate)\n",
    "model.compile(optimizer=optimizer, loss='mean_squared_error', metrics=[nmse])"
   ]
  },
  {
   "cell_type": "markdown",
   "metadata": {},
   "source": [
    "#########################################################################################################<br>\n",
    "#########################################################################################################<br>\n",
    "#########################################################################################################"
   ]
  },
  {
   "cell_type": "markdown",
   "metadata": {},
   "source": [
    "ENTRENAMIENTO DE LA RED<br>\n",
    "Medir el tiempo de inicio del entrenamiento"
   ]
  },
  {
   "cell_type": "code",
   "execution_count": 28,
   "metadata": {},
   "outputs": [
    {
     "name": "stdout",
     "output_type": "stream",
     "text": [
      "Train on 21 samples, validate on 9 samples\n",
      "Epoch 1/200\n",
      "21/21 [==============================] - 13s 640ms/sample - loss: 11.7790 - nmse: 0.9683 - val_loss: 10.5006 - val_nmse: 0.8863\n",
      "Epoch 2/200\n",
      "21/21 [==============================] - 1s 48ms/sample - loss: 10.3604 - nmse: 0.8738 - val_loss: 9.2152 - val_nmse: 0.8527\n",
      "Epoch 3/200\n",
      "21/21 [==============================] - 1s 48ms/sample - loss: 9.0909 - nmse: 0.8572 - val_loss: 8.0566 - val_nmse: 0.8296\n",
      "Epoch 4/200\n",
      "21/21 [==============================] - 1s 48ms/sample - loss: 7.9473 - nmse: 0.8364 - val_loss: 7.0224 - val_nmse: 0.8204\n",
      "Epoch 5/200\n",
      "21/21 [==============================] - 1s 48ms/sample - loss: 6.9267 - nmse: 0.8214 - val_loss: 6.0998 - val_nmse: 0.8065\n",
      "Epoch 6/200\n",
      "21/21 [==============================] - 1s 48ms/sample - loss: 6.0171 - nmse: 0.8080 - val_loss: 5.2858 - val_nmse: 0.7998\n",
      "Epoch 7/200\n",
      "21/21 [==============================] - 1s 48ms/sample - loss: 5.2154 - nmse: 0.8059 - val_loss: 4.5700 - val_nmse: 0.7939\n",
      "Epoch 8/200\n",
      "21/21 [==============================] - 1s 48ms/sample - loss: 4.5107 - nmse: 0.8063 - val_loss: 3.9444 - val_nmse: 0.7884\n",
      "Epoch 9/200\n",
      "21/21 [==============================] - 1s 48ms/sample - loss: 3.8954 - nmse: 0.7982 - val_loss: 3.4011 - val_nmse: 0.7837\n",
      "Epoch 10/200\n",
      "21/21 [==============================] - 1s 48ms/sample - loss: 3.3609 - nmse: 0.7847 - val_loss: 2.9315 - val_nmse: 0.7785\n",
      "Epoch 11/200\n",
      "21/21 [==============================] - 1s 48ms/sample - loss: 2.8998 - nmse: 0.7903 - val_loss: 2.5286 - val_nmse: 0.7763\n",
      "Epoch 12/200\n",
      "21/21 [==============================] - 1s 48ms/sample - loss: 2.5041 - nmse: 0.7818 - val_loss: 2.1835 - val_nmse: 0.7727\n",
      "Epoch 13/200\n",
      "21/21 [==============================] - 1s 48ms/sample - loss: 2.1653 - nmse: 0.7830 - val_loss: 1.8903 - val_nmse: 0.7705\n",
      "Epoch 14/200\n",
      "21/21 [==============================] - 1s 48ms/sample - loss: 1.8776 - nmse: 0.7789 - val_loss: 1.6411 - val_nmse: 0.7661\n",
      "Epoch 15/200\n",
      "21/21 [==============================] - 1s 48ms/sample - loss: 1.6334 - nmse: 0.7702 - val_loss: 1.4313 - val_nmse: 0.7636\n",
      "Epoch 16/200\n",
      "21/21 [==============================] - 1s 48ms/sample - loss: 1.4279 - nmse: 0.7890 - val_loss: 1.2543 - val_nmse: 0.7610\n",
      "Epoch 17/200\n",
      "21/21 [==============================] - 1s 48ms/sample - loss: 1.2543 - nmse: 0.7750 - val_loss: 1.1066 - val_nmse: 0.7612\n",
      "Epoch 18/200\n",
      "21/21 [==============================] - 1s 48ms/sample - loss: 1.1094 - nmse: 0.7810 - val_loss: 0.9813 - val_nmse: 0.7562\n",
      "Epoch 19/200\n",
      "21/21 [==============================] - 1s 48ms/sample - loss: 0.9868 - nmse: 0.7749 - val_loss: 0.8770 - val_nmse: 0.7535\n",
      "Epoch 20/200\n",
      "21/21 [==============================] - 1s 48ms/sample - loss: 0.8845 - nmse: 0.7677 - val_loss: 0.7896 - val_nmse: 0.7515\n",
      "Epoch 21/200\n",
      "21/21 [==============================] - 1s 48ms/sample - loss: 0.7989 - nmse: 0.7562 - val_loss: 0.7167 - val_nmse: 0.7498\n",
      "Epoch 22/200\n",
      "21/21 [==============================] - 1s 48ms/sample - loss: 0.7277 - nmse: 0.7639 - val_loss: 0.6593 - val_nmse: 0.7576\n",
      "Epoch 23/200\n",
      "21/21 [==============================] - 1s 48ms/sample - loss: 0.6723 - nmse: 0.7664 - val_loss: 0.6064 - val_nmse: 0.7494\n",
      "Epoch 24/200\n",
      "21/21 [==============================] - 1s 48ms/sample - loss: 0.6195 - nmse: 0.7529 - val_loss: 0.5663 - val_nmse: 0.7537\n",
      "Epoch 25/200\n",
      "21/21 [==============================] - 1s 48ms/sample - loss: 0.5797 - nmse: 0.7656 - val_loss: 0.5302 - val_nmse: 0.7504\n",
      "Epoch 26/200\n",
      "21/21 [==============================] - 1s 48ms/sample - loss: 0.5441 - nmse: 0.7553 - val_loss: 0.4984 - val_nmse: 0.7444\n",
      "Epoch 27/200\n",
      "21/21 [==============================] - 1s 48ms/sample - loss: 0.5136 - nmse: 0.7581 - val_loss: 0.4721 - val_nmse: 0.7408\n",
      "Epoch 28/200\n",
      "21/21 [==============================] - 1s 48ms/sample - loss: 0.4881 - nmse: 0.7635 - val_loss: 0.4489 - val_nmse: 0.7359\n",
      "Epoch 29/200\n",
      "21/21 [==============================] - 1s 48ms/sample - loss: 0.4652 - nmse: 0.7533 - val_loss: 0.4301 - val_nmse: 0.7346\n",
      "Epoch 30/200\n",
      "21/21 [==============================] - 1s 48ms/sample - loss: 0.4466 - nmse: 0.7481 - val_loss: 0.4143 - val_nmse: 0.7343\n",
      "Epoch 31/200\n",
      "21/21 [==============================] - 1s 48ms/sample - loss: 0.4310 - nmse: 0.7580 - val_loss: 0.3990 - val_nmse: 0.7292\n",
      "Epoch 32/200\n",
      "21/21 [==============================] - 1s 48ms/sample - loss: 0.4159 - nmse: 0.7514 - val_loss: 0.3865 - val_nmse: 0.7267\n",
      "Epoch 33/200\n",
      "21/21 [==============================] - 1s 48ms/sample - loss: 0.4037 - nmse: 0.7433 - val_loss: 0.3767 - val_nmse: 0.7268\n",
      "Epoch 34/200\n",
      "21/21 [==============================] - 1s 48ms/sample - loss: 0.3941 - nmse: 0.7502 - val_loss: 0.3715 - val_nmse: 0.7355\n",
      "Epoch 35/200\n",
      "21/21 [==============================] - 1s 48ms/sample - loss: 0.3911 - nmse: 0.7656 - val_loss: 0.3706 - val_nmse: 0.7528\n",
      "Epoch 36/200\n",
      "21/21 [==============================] - 1s 48ms/sample - loss: 0.3860 - nmse: 0.7591 - val_loss: 0.3603 - val_nmse: 0.7421\n",
      "Epoch 37/200\n",
      "21/21 [==============================] - 1s 52ms/sample - loss: 0.3770 - nmse: 0.7492 - val_loss: 0.3520 - val_nmse: 0.7341\n",
      "Epoch 38/200\n",
      "21/21 [==============================] - 1s 49ms/sample - loss: 0.3693 - nmse: 0.7486 - val_loss: 0.3440 - val_nmse: 0.7248\n",
      "Epoch 39/200\n",
      "21/21 [==============================] - 1s 48ms/sample - loss: 0.3621 - nmse: 0.7402 - val_loss: 0.3374 - val_nmse: 0.7173\n",
      "Epoch 40/200\n",
      "21/21 [==============================] - 1s 48ms/sample - loss: 0.3558 - nmse: 0.7361 - val_loss: 0.3338 - val_nmse: 0.7167\n",
      "Epoch 41/200\n",
      "21/21 [==============================] - 1s 48ms/sample - loss: 0.3521 - nmse: 0.7372 - val_loss: 0.3284 - val_nmse: 0.7101\n",
      "Epoch 42/200\n",
      "21/21 [==============================] - 1s 48ms/sample - loss: 0.3469 - nmse: 0.7245 - val_loss: 0.3267 - val_nmse: 0.7122\n",
      "Epoch 43/200\n",
      "21/21 [==============================] - 1s 48ms/sample - loss: 0.3453 - nmse: 0.7379 - val_loss: 0.3253 - val_nmse: 0.7142\n",
      "Epoch 44/200\n",
      "21/21 [==============================] - 1s 48ms/sample - loss: 0.3431 - nmse: 0.7240 - val_loss: 0.3199 - val_nmse: 0.7049\n",
      "Epoch 45/200\n",
      "21/21 [==============================] - 1s 48ms/sample - loss: 0.3377 - nmse: 0.7229 - val_loss: 0.3188 - val_nmse: 0.7061\n",
      "Epoch 46/200\n",
      "21/21 [==============================] - 1s 48ms/sample - loss: 0.3369 - nmse: 0.7266 - val_loss: 0.3176 - val_nmse: 0.7065\n",
      "Epoch 47/200\n",
      "21/21 [==============================] - 1s 48ms/sample - loss: 0.3352 - nmse: 0.7125 - val_loss: 0.3137 - val_nmse: 0.6985\n",
      "Epoch 48/200\n",
      "21/21 [==============================] - 1s 48ms/sample - loss: 0.3314 - nmse: 0.7110 - val_loss: 0.3100 - val_nmse: 0.6910\n",
      "Epoch 49/200\n",
      "21/21 [==============================] - 1s 48ms/sample - loss: 0.3282 - nmse: 0.7009 - val_loss: 0.3069 - val_nmse: 0.6843\n",
      "Epoch 50/200\n",
      "21/21 [==============================] - 1s 48ms/sample - loss: 0.3258 - nmse: 0.7105 - val_loss: 0.3084 - val_nmse: 0.6897\n",
      "Epoch 51/200\n",
      "21/21 [==============================] - 1s 48ms/sample - loss: 0.3291 - nmse: 0.7104 - val_loss: 0.3839 - val_nmse: 0.8945\n",
      "Epoch 52/200\n",
      "21/21 [==============================] - 1s 48ms/sample - loss: 0.3988 - nmse: 0.8813 - val_loss: 0.3372 - val_nmse: 0.7723\n",
      "Epoch 53/200\n",
      "21/21 [==============================] - 1s 51ms/sample - loss: 0.3506 - nmse: 0.7508 - val_loss: 0.3356 - val_nmse: 0.7705\n",
      "Epoch 54/200\n",
      "21/21 [==============================] - 1s 48ms/sample - loss: 0.3543 - nmse: 0.7762 - val_loss: 0.3332 - val_nmse: 0.7658\n",
      "Epoch 55/200\n",
      "21/21 [==============================] - 1s 48ms/sample - loss: 0.3499 - nmse: 0.7767 - val_loss: 0.3310 - val_nmse: 0.7610\n",
      "Epoch 56/200\n",
      "21/21 [==============================] - 1s 48ms/sample - loss: 0.3488 - nmse: 0.7690 - val_loss: 0.3330 - val_nmse: 0.7672\n",
      "Epoch 57/200\n",
      "21/21 [==============================] - 1s 48ms/sample - loss: 0.3499 - nmse: 0.7791 - val_loss: 0.3263 - val_nmse: 0.7496\n",
      "Epoch 58/200\n",
      "21/21 [==============================] - 1s 48ms/sample - loss: 0.3433 - nmse: 0.7608 - val_loss: 0.3234 - val_nmse: 0.7424\n",
      "Epoch 59/200\n",
      "21/21 [==============================] - 1s 51ms/sample - loss: 0.3413 - nmse: 0.7547 - val_loss: 0.3235 - val_nmse: 0.7437\n",
      "Epoch 60/200\n"
     ]
    },
    {
     "name": "stdout",
     "output_type": "stream",
     "text": [
      "21/21 [==============================] - 1s 48ms/sample - loss: 0.3405 - nmse: 0.7560 - val_loss: 0.3176 - val_nmse: 0.7295\n",
      "Epoch 61/200\n",
      "21/21 [==============================] - 1s 48ms/sample - loss: 0.3353 - nmse: 0.7428 - val_loss: 0.3162 - val_nmse: 0.7282\n",
      "Epoch 62/200\n",
      "21/21 [==============================] - 1s 48ms/sample - loss: 0.3342 - nmse: 0.7461 - val_loss: 0.3142 - val_nmse: 0.7249\n",
      "Epoch 63/200\n",
      "21/21 [==============================] - 1s 48ms/sample - loss: 0.3317 - nmse: 0.7374 - val_loss: 0.3115 - val_nmse: 0.7193\n",
      "Epoch 64/200\n",
      "21/21 [==============================] - 1s 48ms/sample - loss: 0.3295 - nmse: 0.7256 - val_loss: 0.3096 - val_nmse: 0.7156\n",
      "Epoch 65/200\n",
      "21/21 [==============================] - 1s 51ms/sample - loss: 0.3272 - nmse: 0.7209 - val_loss: 0.3064 - val_nmse: 0.7080\n",
      "Epoch 66/200\n",
      "21/21 [==============================] - 1s 48ms/sample - loss: 0.3245 - nmse: 0.7169 - val_loss: 0.3048 - val_nmse: 0.7046\n",
      "Epoch 67/200\n",
      "21/21 [==============================] - 1s 48ms/sample - loss: 0.3230 - nmse: 0.7188 - val_loss: 0.3030 - val_nmse: 0.7004\n",
      "Epoch 68/200\n",
      "21/21 [==============================] - 1s 48ms/sample - loss: 0.3214 - nmse: 0.7103 - val_loss: 0.3006 - val_nmse: 0.6946\n",
      "Epoch 69/200\n",
      "21/21 [==============================] - 1s 48ms/sample - loss: 0.3191 - nmse: 0.6993 - val_loss: 0.2999 - val_nmse: 0.6928\n",
      "Epoch 70/200\n",
      "21/21 [==============================] - 1s 48ms/sample - loss: 0.3180 - nmse: 0.6905 - val_loss: 0.2983 - val_nmse: 0.6883\n",
      "Epoch 71/200\n",
      "21/21 [==============================] - 1s 48ms/sample - loss: 0.3171 - nmse: 0.7168 - val_loss: 0.2994 - val_nmse: 0.6908\n",
      "Epoch 72/200\n",
      "21/21 [==============================] - 1s 51ms/sample - loss: 0.3202 - nmse: 0.7200 - val_loss: 0.3184 - val_nmse: 0.7417\n",
      "Epoch 73/200\n",
      "21/21 [==============================] - 1s 48ms/sample - loss: 0.3363 - nmse: 0.7510 - val_loss: 0.2959 - val_nmse: 0.6822\n",
      "Epoch 74/200\n",
      "21/21 [==============================] - 1s 48ms/sample - loss: 0.3176 - nmse: 0.7167 - val_loss: 0.2974 - val_nmse: 0.6868\n",
      "Epoch 75/200\n",
      "21/21 [==============================] - 1s 48ms/sample - loss: 0.3174 - nmse: 0.7219 - val_loss: 0.2965 - val_nmse: 0.6848\n",
      "Epoch 76/200\n",
      "21/21 [==============================] - 1s 48ms/sample - loss: 0.3162 - nmse: 0.7090 - val_loss: 0.2954 - val_nmse: 0.6823\n",
      "Epoch 77/200\n",
      "21/21 [==============================] - 1s 51ms/sample - loss: 0.3149 - nmse: 0.7094 - val_loss: 0.2948 - val_nmse: 0.6806\n",
      "Epoch 78/200\n",
      "21/21 [==============================] - 1s 48ms/sample - loss: 0.3138 - nmse: 0.7198 - val_loss: 0.2937 - val_nmse: 0.6775\n",
      "Epoch 79/200\n",
      "21/21 [==============================] - 1s 48ms/sample - loss: 0.3124 - nmse: 0.6964 - val_loss: 0.2925 - val_nmse: 0.6740\n",
      "Epoch 80/200\n",
      "21/21 [==============================] - 1s 48ms/sample - loss: 0.3111 - nmse: 0.6943 - val_loss: 0.2910 - val_nmse: 0.6692\n",
      "Epoch 81/200\n",
      "21/21 [==============================] - 1s 48ms/sample - loss: 0.3098 - nmse: 0.6865 - val_loss: 0.2894 - val_nmse: 0.6643\n",
      "Epoch 82/200\n",
      "21/21 [==============================] - 1s 48ms/sample - loss: 0.3084 - nmse: 0.6942 - val_loss: 0.2887 - val_nmse: 0.6619\n",
      "Epoch 83/200\n",
      "21/21 [==============================] - 1s 48ms/sample - loss: 0.3073 - nmse: 0.6667 - val_loss: 0.2889 - val_nmse: 0.6616\n",
      "Epoch 84/200\n",
      "21/21 [==============================] - 1s 51ms/sample - loss: 0.3071 - nmse: 0.6800 - val_loss: 0.2883 - val_nmse: 0.6587\n",
      "Epoch 85/200\n",
      "21/21 [==============================] - 1s 48ms/sample - loss: 0.3066 - nmse: 0.6698 - val_loss: 0.2851 - val_nmse: 0.6490\n",
      "Epoch 86/200\n",
      "21/21 [==============================] - 1s 48ms/sample - loss: 0.3039 - nmse: 0.6683 - val_loss: 0.2855 - val_nmse: 0.6491\n",
      "Epoch 87/200\n",
      "21/21 [==============================] - 1s 51ms/sample - loss: 0.3037 - nmse: 0.6621 - val_loss: 0.2842 - val_nmse: 0.6442\n",
      "Epoch 88/200\n",
      "21/21 [==============================] - 1s 48ms/sample - loss: 0.3027 - nmse: 0.6814 - val_loss: 0.2847 - val_nmse: 0.6442\n",
      "Epoch 89/200\n",
      "21/21 [==============================] - 1s 48ms/sample - loss: 0.3026 - nmse: 0.6643 - val_loss: 0.2814 - val_nmse: 0.6340\n",
      "Epoch 90/200\n",
      "21/21 [==============================] - 1s 49ms/sample - loss: 0.2993 - nmse: 0.6428 - val_loss: 0.2817 - val_nmse: 0.6333\n",
      "Epoch 91/200\n",
      "21/21 [==============================] - 1s 48ms/sample - loss: 0.2998 - nmse: 0.6502 - val_loss: 0.2850 - val_nmse: 0.6406\n",
      "Epoch 92/200\n",
      "21/21 [==============================] - 1s 48ms/sample - loss: 0.3051 - nmse: 0.6659 - val_loss: 0.3044 - val_nmse: 0.6915\n",
      "Epoch 93/200\n",
      "21/21 [==============================] - 1s 51ms/sample - loss: 0.3227 - nmse: 0.7157 - val_loss: 0.2821 - val_nmse: 0.6314\n",
      "Epoch 94/200\n",
      "21/21 [==============================] - 1s 48ms/sample - loss: 0.3010 - nmse: 0.6595 - val_loss: 0.2898 - val_nmse: 0.6520\n",
      "Epoch 95/200\n",
      "21/21 [==============================] - 1s 48ms/sample - loss: 0.3055 - nmse: 0.6521 - val_loss: 0.2882 - val_nmse: 0.6474\n",
      "Epoch 96/200\n",
      "21/21 [==============================] - 1s 48ms/sample - loss: 0.3039 - nmse: 0.6619 - val_loss: 0.2865 - val_nmse: 0.6425\n",
      "Epoch 97/200\n",
      "21/21 [==============================] - 1s 51ms/sample - loss: 0.3021 - nmse: 0.6490 - val_loss: 0.2838 - val_nmse: 0.6347\n",
      "Epoch 98/200\n",
      "21/21 [==============================] - 1s 48ms/sample - loss: 0.3004 - nmse: 0.6317 - val_loss: 0.2819 - val_nmse: 0.6287\n",
      "Epoch 99/200\n",
      "21/21 [==============================] - 1s 48ms/sample - loss: 0.2984 - nmse: 0.6395 - val_loss: 0.2786 - val_nmse: 0.6188\n",
      "Epoch 100/200\n",
      "21/21 [==============================] - 1s 48ms/sample - loss: 0.2965 - nmse: 0.6341 - val_loss: 0.2756 - val_nmse: 0.6094\n",
      "Epoch 101/200\n",
      "21/21 [==============================] - 1s 48ms/sample - loss: 0.2941 - nmse: 0.6352 - val_loss: 0.2784 - val_nmse: 0.6159\n",
      "Epoch 102/200\n",
      "21/21 [==============================] - 1s 48ms/sample - loss: 0.2953 - nmse: 0.6357 - val_loss: 0.3020 - val_nmse: 0.6783\n",
      "Epoch 103/200\n",
      "21/21 [==============================] - 1s 48ms/sample - loss: 0.3461 - nmse: 0.8331 - val_loss: 0.3783 - val_nmse: 0.8845\n",
      "Epoch 104/200\n",
      "21/21 [==============================] - 1s 48ms/sample - loss: 0.3824 - nmse: 0.8155 - val_loss: 0.3002 - val_nmse: 0.6770\n",
      "Epoch 105/200\n",
      "21/21 [==============================] - 1s 48ms/sample - loss: 0.3242 - nmse: 0.7348 - val_loss: 0.3173 - val_nmse: 0.7245\n",
      "Epoch 106/200\n",
      "21/21 [==============================] - 1s 48ms/sample - loss: 0.3315 - nmse: 0.7086 - val_loss: 0.3121 - val_nmse: 0.7109\n",
      "Epoch 107/200\n",
      "21/21 [==============================] - 1s 51ms/sample - loss: 0.3303 - nmse: 0.7347 - val_loss: 0.3205 - val_nmse: 0.7333\n",
      "Epoch 108/200\n",
      "21/21 [==============================] - 1s 51ms/sample - loss: 0.3369 - nmse: 0.7463 - val_loss: 0.3120 - val_nmse: 0.7097\n",
      "Epoch 109/200\n",
      "21/21 [==============================] - 1s 48ms/sample - loss: 0.3282 - nmse: 0.7143 - val_loss: 0.3097 - val_nmse: 0.7029\n",
      "Epoch 110/200\n",
      "21/21 [==============================] - 1s 48ms/sample - loss: 0.3263 - nmse: 0.7120 - val_loss: 0.3091 - val_nmse: 0.7007\n",
      "Epoch 111/200\n",
      "21/21 [==============================] - 1s 48ms/sample - loss: 0.3254 - nmse: 0.6922 - val_loss: 0.3037 - val_nmse: 0.6863\n",
      "Epoch 112/200\n",
      "21/21 [==============================] - 1s 48ms/sample - loss: 0.3205 - nmse: 0.6925 - val_loss: 0.3014 - val_nmse: 0.6802\n",
      "Epoch 113/200\n",
      "21/21 [==============================] - 1s 48ms/sample - loss: 0.3191 - nmse: 0.6952 - val_loss: 0.2997 - val_nmse: 0.6759\n",
      "Epoch 114/200\n",
      "21/21 [==============================] - 1s 48ms/sample - loss: 0.3166 - nmse: 0.6755 - val_loss: 0.2959 - val_nmse: 0.6663\n",
      "Epoch 115/200\n",
      "21/21 [==============================] - 1s 48ms/sample - loss: 0.3134 - nmse: 0.6704 - val_loss: 0.2951 - val_nmse: 0.6647\n",
      "Epoch 116/200\n",
      "21/21 [==============================] - 1s 48ms/sample - loss: 0.3120 - nmse: 0.6782 - val_loss: 0.2919 - val_nmse: 0.6566\n",
      "Epoch 117/200\n",
      "21/21 [==============================] - 1s 48ms/sample - loss: 0.3093 - nmse: 0.6818 - val_loss: 0.2910 - val_nmse: 0.6543\n",
      "Epoch 118/200\n",
      "21/21 [==============================] - 1s 48ms/sample - loss: 0.3082 - nmse: 0.6673 - val_loss: 0.2873 - val_nmse: 0.6445\n",
      "Epoch 119/200\n",
      "21/21 [==============================] - 1s 48ms/sample - loss: 0.3048 - nmse: 0.6641 - val_loss: 0.2868 - val_nmse: 0.6433\n"
     ]
    },
    {
     "name": "stdout",
     "output_type": "stream",
     "text": [
      "Epoch 120/200\n",
      "21/21 [==============================] - 1s 48ms/sample - loss: 0.3038 - nmse: 0.6607 - val_loss: 0.2847 - val_nmse: 0.6373\n",
      "Epoch 121/200\n",
      "21/21 [==============================] - 1s 48ms/sample - loss: 0.3015 - nmse: 0.6495 - val_loss: 0.2834 - val_nmse: 0.6339\n",
      "Epoch 122/200\n",
      "21/21 [==============================] - 1s 48ms/sample - loss: 0.3008 - nmse: 0.6556 - val_loss: 0.2819 - val_nmse: 0.6296\n",
      "Epoch 123/200\n",
      "21/21 [==============================] - 1s 48ms/sample - loss: 0.2993 - nmse: 0.6324 - val_loss: 0.2842 - val_nmse: 0.6353\n",
      "Epoch 124/200\n",
      "21/21 [==============================] - 1s 48ms/sample - loss: 0.3030 - nmse: 0.6614 - val_loss: 0.3096 - val_nmse: 0.7030\n",
      "Epoch 125/200\n",
      "21/21 [==============================] - 1s 48ms/sample - loss: 0.3300 - nmse: 0.7448 - val_loss: 0.2974 - val_nmse: 0.6710\n",
      "Epoch 126/200\n",
      "21/21 [==============================] - 1s 48ms/sample - loss: 0.3115 - nmse: 0.6698 - val_loss: 0.2995 - val_nmse: 0.6777\n",
      "Epoch 127/200\n",
      "21/21 [==============================] - 1s 48ms/sample - loss: 0.3126 - nmse: 0.6674 - val_loss: 0.2947 - val_nmse: 0.6654\n",
      "Epoch 128/200\n",
      "21/21 [==============================] - 1s 48ms/sample - loss: 0.3086 - nmse: 0.6765 - val_loss: 0.2903 - val_nmse: 0.6539\n",
      "Epoch 129/200\n",
      "21/21 [==============================] - 1s 51ms/sample - loss: 0.3059 - nmse: 0.6607 - val_loss: 0.2845 - val_nmse: 0.6387\n",
      "Epoch 130/200\n",
      "21/21 [==============================] - 1s 48ms/sample - loss: 0.3019 - nmse: 0.6553 - val_loss: 0.2802 - val_nmse: 0.6270\n",
      "Epoch 131/200\n",
      "21/21 [==============================] - 1s 48ms/sample - loss: 0.2982 - nmse: 0.6347 - val_loss: 0.2776 - val_nmse: 0.6195\n",
      "Epoch 132/200\n",
      "21/21 [==============================] - 1s 48ms/sample - loss: 0.2961 - nmse: 0.6431 - val_loss: 0.2771 - val_nmse: 0.6174\n",
      "Epoch 133/200\n",
      "21/21 [==============================] - 1s 48ms/sample - loss: 0.2951 - nmse: 0.6423 - val_loss: 0.2760 - val_nmse: 0.6139\n",
      "Epoch 134/200\n",
      "21/21 [==============================] - 1s 48ms/sample - loss: 0.2939 - nmse: 0.6367 - val_loss: 0.2748 - val_nmse: 0.6101\n",
      "Epoch 135/200\n",
      "21/21 [==============================] - 1s 48ms/sample - loss: 0.2927 - nmse: 0.6320 - val_loss: 0.2733 - val_nmse: 0.6048\n",
      "Epoch 136/200\n",
      "21/21 [==============================] - 1s 48ms/sample - loss: 0.2911 - nmse: 0.6183 - val_loss: 0.2721 - val_nmse: 0.6008\n",
      "Epoch 137/200\n",
      "21/21 [==============================] - 1s 48ms/sample - loss: 0.2899 - nmse: 0.6305 - val_loss: 0.2711 - val_nmse: 0.5970\n",
      "Epoch 138/200\n",
      "21/21 [==============================] - 1s 48ms/sample - loss: 0.2884 - nmse: 0.6145 - val_loss: 0.2720 - val_nmse: 0.5983\n",
      "Epoch 139/200\n",
      "21/21 [==============================] - 1s 48ms/sample - loss: 0.2889 - nmse: 0.6120 - val_loss: 0.2718 - val_nmse: 0.5963\n",
      "Epoch 140/200\n",
      "21/21 [==============================] - 1s 51ms/sample - loss: 0.2883 - nmse: 0.6135 - val_loss: 0.2695 - val_nmse: 0.5888\n",
      "Epoch 141/200\n",
      "21/21 [==============================] - 1s 48ms/sample - loss: 0.2865 - nmse: 0.6090 - val_loss: 0.2687 - val_nmse: 0.5852\n",
      "Epoch 142/200\n",
      "21/21 [==============================] - 1s 48ms/sample - loss: 0.2856 - nmse: 0.5845 - val_loss: 0.2682 - val_nmse: 0.5826\n",
      "Epoch 143/200\n",
      "21/21 [==============================] - 1s 48ms/sample - loss: 0.2850 - nmse: 0.5940 - val_loss: 0.2672 - val_nmse: 0.5785\n",
      "Epoch 144/200\n",
      "21/21 [==============================] - 1s 51ms/sample - loss: 0.2838 - nmse: 0.5986 - val_loss: 0.2666 - val_nmse: 0.5757\n",
      "Epoch 145/200\n",
      "21/21 [==============================] - 1s 48ms/sample - loss: 0.2837 - nmse: 0.6014 - val_loss: 0.2680 - val_nmse: 0.5782\n",
      "Epoch 146/200\n",
      "21/21 [==============================] - 1s 48ms/sample - loss: 0.2851 - nmse: 0.6037 - val_loss: 0.2705 - val_nmse: 0.5842\n",
      "Epoch 147/200\n",
      "21/21 [==============================] - 1s 48ms/sample - loss: 0.2874 - nmse: 0.5951 - val_loss: 0.2710 - val_nmse: 0.5848\n",
      "Epoch 148/200\n",
      "21/21 [==============================] - 1s 48ms/sample - loss: 0.2868 - nmse: 0.5949 - val_loss: 0.2655 - val_nmse: 0.5693\n",
      "Epoch 149/200\n",
      "21/21 [==============================] - 1s 48ms/sample - loss: 0.2816 - nmse: 0.5931 - val_loss: 0.2649 - val_nmse: 0.5673\n",
      "Epoch 150/200\n",
      "21/21 [==============================] - 1s 48ms/sample - loss: 0.2820 - nmse: 0.5714 - val_loss: 0.2673 - val_nmse: 0.5733\n",
      "Epoch 151/200\n",
      "21/21 [==============================] - 1s 51ms/sample - loss: 0.2836 - nmse: 0.5889 - val_loss: 0.2643 - val_nmse: 0.5648\n",
      "Epoch 152/200\n",
      "21/21 [==============================] - 1s 48ms/sample - loss: 0.2804 - nmse: 0.5942 - val_loss: 0.2624 - val_nmse: 0.5593\n",
      "Epoch 153/200\n",
      "21/21 [==============================] - 1s 48ms/sample - loss: 0.2792 - nmse: 0.5680 - val_loss: 0.2633 - val_nmse: 0.5613\n",
      "Epoch 154/200\n",
      "21/21 [==============================] - 1s 48ms/sample - loss: 0.2799 - nmse: 0.5826 - val_loss: 0.2676 - val_nmse: 0.5722\n",
      "Epoch 155/200\n",
      "21/21 [==============================] - 1s 48ms/sample - loss: 0.2846 - nmse: 0.5898 - val_loss: 0.2801 - val_nmse: 0.6056\n",
      "Epoch 156/200\n",
      "21/21 [==============================] - 1s 48ms/sample - loss: 0.2989 - nmse: 0.6164 - val_loss: 0.2768 - val_nmse: 0.5968\n",
      "Epoch 157/200\n",
      "21/21 [==============================] - 1s 48ms/sample - loss: 0.2896 - nmse: 0.6037 - val_loss: 0.2698 - val_nmse: 0.5789\n",
      "Epoch 158/200\n",
      "21/21 [==============================] - 1s 48ms/sample - loss: 0.2859 - nmse: 0.6019 - val_loss: 0.2632 - val_nmse: 0.5614\n",
      "Epoch 159/200\n",
      "21/21 [==============================] - 1s 48ms/sample - loss: 0.2807 - nmse: 0.5898 - val_loss: 0.2653 - val_nmse: 0.5673\n",
      "Epoch 160/200\n",
      "21/21 [==============================] - 1s 48ms/sample - loss: 0.2808 - nmse: 0.5852 - val_loss: 0.2660 - val_nmse: 0.5694\n",
      "Epoch 161/200\n",
      "21/21 [==============================] - 1s 48ms/sample - loss: 0.2811 - nmse: 0.5795 - val_loss: 0.2636 - val_nmse: 0.5627\n",
      "Epoch 162/200\n",
      "21/21 [==============================] - 1s 51ms/sample - loss: 0.2800 - nmse: 0.5576 - val_loss: 0.2602 - val_nmse: 0.5534\n",
      "Epoch 163/200\n",
      "21/21 [==============================] - 1s 48ms/sample - loss: 0.2774 - nmse: 0.5786 - val_loss: 0.2650 - val_nmse: 0.5661\n",
      "Epoch 164/200\n",
      "21/21 [==============================] - 1s 48ms/sample - loss: 0.2803 - nmse: 0.5764 - val_loss: 0.2613 - val_nmse: 0.5556\n",
      "Epoch 165/200\n",
      "21/21 [==============================] - 1s 48ms/sample - loss: 0.2785 - nmse: 0.5756 - val_loss: 0.2672 - val_nmse: 0.5709\n",
      "Epoch 166/200\n",
      "21/21 [==============================] - 1s 48ms/sample - loss: 0.2850 - nmse: 0.5950 - val_loss: 0.2966 - val_nmse: 0.6498\n",
      "Epoch 167/200\n",
      "21/21 [==============================] - 1s 48ms/sample - loss: 0.3141 - nmse: 0.6695 - val_loss: 0.2700 - val_nmse: 0.5786\n",
      "Epoch 168/200\n",
      "21/21 [==============================] - 1s 48ms/sample - loss: 0.2854 - nmse: 0.5777 - val_loss: 0.2771 - val_nmse: 0.5986\n",
      "Epoch 169/200\n",
      "21/21 [==============================] - 1s 48ms/sample - loss: 0.2893 - nmse: 0.5863 - val_loss: 0.2738 - val_nmse: 0.5904\n",
      "Epoch 170/200\n",
      "21/21 [==============================] - 1s 48ms/sample - loss: 0.2869 - nmse: 0.5937 - val_loss: 0.2709 - val_nmse: 0.5827\n",
      "Epoch 171/200\n",
      "21/21 [==============================] - 1s 48ms/sample - loss: 0.2849 - nmse: 0.5718 - val_loss: 0.2681 - val_nmse: 0.5753\n",
      "Epoch 172/200\n",
      "21/21 [==============================] - 1s 48ms/sample - loss: 0.2828 - nmse: 0.5921 - val_loss: 0.2661 - val_nmse: 0.5699\n",
      "Epoch 173/200\n",
      "21/21 [==============================] - 1s 48ms/sample - loss: 0.2813 - nmse: 0.5613 - val_loss: 0.2641 - val_nmse: 0.5643\n",
      "Epoch 174/200\n",
      "21/21 [==============================] - 1s 48ms/sample - loss: 0.2799 - nmse: 0.5654 - val_loss: 0.2621 - val_nmse: 0.5587\n",
      "Epoch 175/200\n",
      "21/21 [==============================] - 1s 48ms/sample - loss: 0.2783 - nmse: 0.5708 - val_loss: 0.2589 - val_nmse: 0.5495\n",
      "Epoch 176/200\n",
      "21/21 [==============================] - 1s 48ms/sample - loss: 0.2762 - nmse: 0.5642 - val_loss: 0.2575 - val_nmse: 0.5450\n",
      "Epoch 177/200\n",
      "21/21 [==============================] - 1s 48ms/sample - loss: 0.2748 - nmse: 0.5758 - val_loss: 0.2582 - val_nmse: 0.5462\n",
      "Epoch 178/200\n",
      "21/21 [==============================] - 1s 48ms/sample - loss: 0.2748 - nmse: 0.5639 - val_loss: 0.2608 - val_nmse: 0.5526\n",
      "Epoch 179/200\n"
     ]
    },
    {
     "name": "stdout",
     "output_type": "stream",
     "text": [
      "21/21 [==============================] - 1s 48ms/sample - loss: 0.2771 - nmse: 0.5459 - val_loss: 0.2667 - val_nmse: 0.5676\n",
      "Epoch 180/200\n",
      "21/21 [==============================] - 1s 48ms/sample - loss: 0.2854 - nmse: 0.5883 - val_loss: 0.2887 - val_nmse: 0.6264\n",
      "Epoch 181/200\n",
      "21/21 [==============================] - 1s 48ms/sample - loss: 0.3071 - nmse: 0.6408 - val_loss: 0.2664 - val_nmse: 0.5668\n",
      "Epoch 182/200\n",
      "21/21 [==============================] - 1s 48ms/sample - loss: 0.2816 - nmse: 0.5796 - val_loss: 0.2734 - val_nmse: 0.5860\n",
      "Epoch 183/200\n",
      "21/21 [==============================] - 1s 48ms/sample - loss: 0.2871 - nmse: 0.5644 - val_loss: 0.2677 - val_nmse: 0.5713\n",
      "Epoch 184/200\n",
      "21/21 [==============================] - 1s 48ms/sample - loss: 0.2823 - nmse: 0.5709 - val_loss: 0.2638 - val_nmse: 0.5610\n",
      "Epoch 185/200\n",
      "21/21 [==============================] - 1s 48ms/sample - loss: 0.2797 - nmse: 0.5738 - val_loss: 0.2609 - val_nmse: 0.5533\n",
      "Epoch 186/200\n",
      "21/21 [==============================] - 1s 51ms/sample - loss: 0.2773 - nmse: 0.5699 - val_loss: 0.2582 - val_nmse: 0.5460\n",
      "Epoch 187/200\n",
      "21/21 [==============================] - 1s 48ms/sample - loss: 0.2758 - nmse: 0.5756 - val_loss: 0.2564 - val_nmse: 0.5408\n",
      "Epoch 188/200\n",
      "21/21 [==============================] - 1s 48ms/sample - loss: 0.2736 - nmse: 0.5783 - val_loss: 0.2568 - val_nmse: 0.5417\n",
      "Epoch 189/200\n",
      "21/21 [==============================] - 1s 48ms/sample - loss: 0.2731 - nmse: 0.5744 - val_loss: 0.2587 - val_nmse: 0.5465\n",
      "Epoch 190/200\n",
      "21/21 [==============================] - 1s 48ms/sample - loss: 0.2738 - nmse: 0.5639 - val_loss: 0.2585 - val_nmse: 0.5456\n",
      "Epoch 191/200\n",
      "21/21 [==============================] - 1s 48ms/sample - loss: 0.2739 - nmse: 0.5607 - val_loss: 0.2565 - val_nmse: 0.5395\n",
      "Epoch 192/200\n",
      "21/21 [==============================] - 1s 48ms/sample - loss: 0.2721 - nmse: 0.5491 - val_loss: 0.2552 - val_nmse: 0.5355\n",
      "Epoch 193/200\n",
      "21/21 [==============================] - 1s 48ms/sample - loss: 0.2715 - nmse: 0.5571 - val_loss: 0.2561 - val_nmse: 0.5372\n",
      "Epoch 194/200\n",
      "21/21 [==============================] - 1s 48ms/sample - loss: 0.2718 - nmse: 0.5598 - val_loss: 0.2534 - val_nmse: 0.5291\n",
      "Epoch 195/200\n",
      "21/21 [==============================] - 1s 51ms/sample - loss: 0.2697 - nmse: 0.5509 - val_loss: 0.2549 - val_nmse: 0.5325\n",
      "Epoch 196/200\n",
      "21/21 [==============================] - 1s 48ms/sample - loss: 0.2702 - nmse: 0.5431 - val_loss: 0.2538 - val_nmse: 0.5290\n",
      "Epoch 197/200\n",
      "21/21 [==============================] - 1s 48ms/sample - loss: 0.2697 - nmse: 0.5598 - val_loss: 0.2538 - val_nmse: 0.5286\n",
      "Epoch 198/200\n",
      "21/21 [==============================] - 1s 48ms/sample - loss: 0.2695 - nmse: 0.5411 - val_loss: 0.2529 - val_nmse: 0.5256\n",
      "Epoch 199/200\n",
      "21/21 [==============================] - 1s 48ms/sample - loss: 0.2692 - nmse: 0.5461 - val_loss: 0.2577 - val_nmse: 0.5380\n",
      "Epoch 200/200\n",
      "21/21 [==============================] - 1s 48ms/sample - loss: 0.2753 - nmse: 0.5754 - val_loss: 0.2730 - val_nmse: 0.5788\n"
     ]
    }
   ],
   "source": [
    "start_time = time.time()\n",
    "history = model.fit(X, Y, epochs=max_epoch, batch_size=batchsize, validation_split=validation_split)"
   ]
  },
  {
   "cell_type": "markdown",
   "metadata": {},
   "source": [
    "Medir el tiempo de finalizaciOn del entrenamiento"
   ]
  },
  {
   "cell_type": "code",
   "execution_count": 29,
   "metadata": {},
   "outputs": [],
   "source": [
    "end_time = time.time()"
   ]
  },
  {
   "cell_type": "markdown",
   "metadata": {},
   "source": [
    "Calcular el tiempo total de entrenamiento"
   ]
  },
  {
   "cell_type": "code",
   "execution_count": 30,
   "metadata": {},
   "outputs": [
    {
     "name": "stdout",
     "output_type": "stream",
     "text": [
      "Tiempo total de entrenamiento: 238.45 segundos\n"
     ]
    }
   ],
   "source": [
    "total_time = end_time - start_time\n",
    "print(f'Tiempo total de entrenamiento: {total_time:.2f} segundos')"
   ]
  },
  {
   "cell_type": "markdown",
   "metadata": {},
   "source": [
    "#########################################################################################################<br>\n",
    "#########################################################################################################<br>\n",
    "#########################################################################################################"
   ]
  },
  {
   "cell_type": "markdown",
   "metadata": {},
   "source": [
    "Visualizar el NMSE"
   ]
  },
  {
   "cell_type": "code",
   "execution_count": null,
   "metadata": {},
   "outputs": [],
   "source": [
    "plt.plot(history.history['nmse'], label='NMSE (entrenamiento)')\n",
    "plt.plot(history.history['val_nmse'], label='NMSE (validacion)')\n",
    "plt.xlabel('Epoca')\n",
    "plt.ylabel('NMSE')\n",
    "plt.legend()\n",
    "plt.show()"
   ]
  }
 ],
 "metadata": {
  "kernelspec": {
   "display_name": "myred",
   "language": "python",
   "name": "myred"
  },
  "language_info": {
   "codemirror_mode": {
    "name": "ipython",
    "version": 3
   },
   "file_extension": ".py",
   "mimetype": "text/x-python",
   "name": "python",
   "nbconvert_exporter": "python",
   "pygments_lexer": "ipython3",
   "version": "3.6.13"
  }
 },
 "nbformat": 4,
 "nbformat_minor": 2
}
